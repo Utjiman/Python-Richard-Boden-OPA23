{
 "cells": [
  {
   "cell_type": "markdown",
   "metadata": {},
   "source": [
    "# python fundamentals continued"
   ]
  },
  {
   "cell_type": "markdown",
   "metadata": {},
   "source": [
    "# If-statement\n",
    "\n",
    "if\n",
    "if - else\n",
    "if - elif -elif - else\n",
    "oneline if-statement"
   ]
  },
  {
   "cell_type": "code",
   "execution_count": 104,
   "metadata": {},
   "outputs": [
    {
     "name": "stdout",
     "output_type": "stream",
     "text": [
      " Accurace level is 1, which is a good performance\n"
     ]
    }
   ],
   "source": [
    "accuracy = 1\n",
    "\n",
    "if accuracy > .9:\n",
    "    model_performance = \"good\"\n",
    "\n",
    "elif accuracy > .5:\n",
    "    model_performance = \"moderate\"\n",
    "    \n",
    "else:\n",
    "    model_performance = \"bad\"\n",
    "\n",
    "print(f\" Accurace level is {accuracy}, which is a {model_performance.lower()} performance\")"
   ]
  },
  {
   "cell_type": "code",
   "execution_count": 105,
   "metadata": {},
   "outputs": [
    {
     "data": {
      "text/plain": [
       "'good'"
      ]
     },
     "execution_count": 105,
     "metadata": {},
     "output_type": "execute_result"
    }
   ],
   "source": [
    "performance = \"good\" if accuracy > .9 else \"not good\"\n",
    "performance"
   ]
  },
  {
   "cell_type": "markdown",
   "metadata": {},
   "source": [
    "# While statement\n",
    "Example - oil leakage\n",
    "There is an oil leakage causing the bird population in an island to 1/2 in each year. From start there were 80000 birds, how many years does it take for it to have 1/10 remaining?"
   ]
  },
  {
   "cell_type": "code",
   "execution_count": 106,
   "metadata": {},
   "outputs": [
    {
     "name": "stdout",
     "output_type": "stream",
     "text": [
      "It took 4 years to reach 1/10 birds\n"
     ]
    }
   ],
   "source": [
    "birds = 80000\n",
    "year = 0\n",
    "while birds > 8000:\n",
    "    birds /= 2\n",
    "    year += 1\n",
    "    \n",
    "print(f\"It took {year} years to reach 1/10 birds\")"
   ]
  },
  {
   "cell_type": "markdown",
   "metadata": {},
   "source": [
    "# For-statements \n"
   ]
  },
  {
   "cell_type": "code",
   "execution_count": 107,
   "metadata": {},
   "outputs": [
    {
     "name": "stdout",
     "output_type": "stream",
     "text": [
      "k-means\n",
      "pca\n",
      "gmm\n"
     ]
    }
   ],
   "source": [
    "unsupervised_abbreviations = [\"k-means\", \"pca\", \"gmm\"]\n",
    "unsupervised_algorithms = [\"K-means clustering\", \"principal component analysis\", \"gaussian mixture models\"]\n",
    "\n",
    "for abbriviation in unsupervised_abbreviations:\n",
    "    print(abbriviation)"
   ]
  },
  {
   "cell_type": "code",
   "execution_count": 108,
   "metadata": {},
   "outputs": [
    {
     "name": "stdout",
     "output_type": "stream",
     "text": [
      "0 k-means\n",
      "1 pca\n",
      "2 gmm\n"
     ]
    }
   ],
   "source": [
    "for i, abbriviation in enumerate(unsupervised_abbreviations):\n",
    "    print(i, abbriviation)"
   ]
  },
  {
   "cell_type": "code",
   "execution_count": 109,
   "metadata": {},
   "outputs": [
    {
     "name": "stdout",
     "output_type": "stream",
     "text": [
      "1 k-means\n",
      "2 pca\n",
      "3 gmm\n"
     ]
    }
   ],
   "source": [
    "for i, abbriviation in enumerate(unsupervised_abbreviations, 1):\n",
    "    print(i, abbriviation)"
   ]
  },
  {
   "cell_type": "code",
   "execution_count": 110,
   "metadata": {},
   "outputs": [
    {
     "name": "stdout",
     "output_type": "stream",
     "text": [
      "k-means: K-means clustering\n",
      "pca: principal component analysis\n",
      "gmm: gaussian mixture models\n"
     ]
    }
   ],
   "source": [
    "for abbriviation, full_name in zip(unsupervised_abbreviations, unsupervised_algorithms):\n",
    "    print(f\"{abbriviation}: {full_name}\")"
   ]
  },
  {
   "cell_type": "code",
   "execution_count": 111,
   "metadata": {},
   "outputs": [
    {
     "name": "stdout",
     "output_type": "stream",
     "text": [
      "0 hej\n",
      "1 hej\n",
      "2 hej\n",
      "3 hej\n",
      "4 hej\n"
     ]
    }
   ],
   "source": [
    "for i in range(5):\n",
    "    print(i, \"hej\")"
   ]
  },
  {
   "cell_type": "markdown",
   "metadata": {},
   "source": [
    "## Dictionary\n",
    "I Python används en dictionary för att lagra data i ett nyckel-värde-format. Det är en av de inbyggda datatyperna som är oerhört användbara för att hantera samlingar av data där varje element kan snabbt hämtas, infogas, uppdateras eller tas bort med hjälp av en unik nyckel. Dictionaries är flexibla och kan innehålla objekt av olika datatyper som nycklar och värden."
   ]
  },
  {
   "cell_type": "code",
   "execution_count": 112,
   "metadata": {},
   "outputs": [
    {
     "data": {
      "text/plain": [
       "{'name': 'Richard', 'age': 38.7, 'loves_math': False}"
      ]
     },
     "execution_count": 112,
     "metadata": {},
     "output_type": "execute_result"
    }
   ],
   "source": [
    "person1 = dict(name = \"Richard\", age = 38.7, loves_math = False )\n",
    "person1"
   ]
  },
  {
   "cell_type": "code",
   "execution_count": 113,
   "metadata": {},
   "outputs": [
    {
     "data": {
      "text/plain": [
       "dict_keys(['name', 'age', 'loves_math'])"
      ]
     },
     "execution_count": 113,
     "metadata": {},
     "output_type": "execute_result"
    }
   ],
   "source": [
    "person1.keys()"
   ]
  },
  {
   "cell_type": "code",
   "execution_count": 114,
   "metadata": {},
   "outputs": [
    {
     "data": {
      "text/plain": [
       "('Richard', False)"
      ]
     },
     "execution_count": 114,
     "metadata": {},
     "output_type": "execute_result"
    }
   ],
   "source": [
    "person1[\"name\"], person1[\"loves_math\"]"
   ]
  }
 ],
 "metadata": {
  "kernelspec": {
   "display_name": "venv",
   "language": "python",
   "name": "python3"
  },
  "language_info": {
   "codemirror_mode": {
    "name": "ipython",
    "version": 3
   },
   "file_extension": ".py",
   "mimetype": "text/x-python",
   "name": "python",
   "nbconvert_exporter": "python",
   "pygments_lexer": "ipython3",
   "version": "3.11.7"
  }
 },
 "nbformat": 4,
 "nbformat_minor": 2
}
