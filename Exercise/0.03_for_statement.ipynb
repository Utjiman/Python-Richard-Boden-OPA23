{
 "cells": [
  {
   "cell_type": "markdown",
   "metadata": {},
   "source": [
    "# Exercise - for statement\n",
    "\n",
    "<div style=\"max-width: 66ch;\">\n",
    "\n",
    "---\n",
    "These are introductory exercises in Python with focus in **for** statement, which is is a control flow statement in programming used for iterating over a sequence of elements, such as a range of numbers, a list, or any other iterable object.\n",
    "\n",
    "<p class = \"alert alert-info\" role=\"alert\"><b>Remember</b> to use <b>descriptive variables</b> in order to get readable code </p>\n",
    "\n",
    "<p class = \"alert alert-info\" role=\"alert\"><b>Remember</b> to format your answers in a neat way using <b>f-strings</b>\n",
    "\n",
    "<p class = \"alert alert-info\" role=\"alert\"><b>Remember</b> to format your input questions in a pedagogical way to guide the user\n",
    "\n",
    "The number of stars (\\*), (\\*\\*), (\\*\\*\\*) denotes the difficulty level of the task\n",
    "\n",
    "---\n",
    "\n",
    "</div>"
   ]
  },
  {
   "cell_type": "markdown",
   "metadata": {},
   "source": [
    "<div style=\"max-width:66ch;\">\n",
    "\n",
    "## 0. Count numbers (*)\n",
    "\n",
    "Use a **for** statement to count from: \n",
    "\n",
    "&nbsp; a) &nbsp; -10 to 10 with one increment (*)\n",
    "\n",
    "&nbsp; b) &nbsp; -10 to 10 with two increment (*)\n",
    "\n",
    "---\n",
    "\n",
    "## 1. Arithmetic sum (*)\n",
    "Use a **for** statement to compute the following sums: \n",
    "\n",
    "&nbsp; a) &nbsp; $\\text{sum} = 1 + 2 + \\ldots + 99+ 100$ (*)\n",
    "\n",
    "&nbsp; b) &nbsp; $\\text{sum} = 1 + 3 + 5 + \\ldots + 97 + 99$ (*)\n",
    "\n",
    "---\n",
    "## 2. Multiplication table (*)\n",
    "Use **for** statement(s) to:\n",
    "\n",
    "&nbsp; a) &nbsp; print out the 6th multiplication table from 0 to 10 (*)\n",
    "\n",
    "&nbsp; b) &nbsp; let the user input the **table**, **start** and **end** of the table. (*)\n",
    "\n",
    "&nbsp; c) &nbsp; print out a full multiplication table from 0 to 10. (**)\n",
    "\n",
    "---\n",
    "## 3. Faculty (*)\n",
    "\n",
    "Use a **for** statement to compute $n!$. \n",
    "\n",
    "$n! = 1\\cdot2\\cdot3\\cdot\\ldots\\cdot(n-1)\\cdot n $\n",
    "\n",
    "Let the user input $n$. \n",
    "\n",
    "--- \n",
    "## 4. Pin code cracking (*)\n",
    "\n",
    "Start by creating a random four-digit number. Use **for** statement to do a brute force approach to figure out a correct guess.\n",
    "\n",
    "---\n",
    "## 5. Rice on chessboard (*)\n",
    "\n",
    "In first square of the chessboard there is one grain of rice, in the second square there is two grains, in the third square there is four grains and so on. How many grains are there in the whole chessboard when all squares are filled using this pattern?\n",
    "\n",
    "<img style=\"display:inline-block; text-align:left;\" src=\"https://github.com/kokchun/assets/blob/main/python/chessboard.png?raw=true\" width=200>\n",
    "\n",
    "---\n",
    "\n",
    "</div>\n"
   ]
  },
  {
   "cell_type": "code",
   "execution_count": 1,
   "metadata": {},
   "outputs": [
    {
     "name": "stdout",
     "output_type": "stream",
     "text": [
      "-10\n",
      "-9\n",
      "-8\n",
      "-7\n",
      "-6\n",
      "-5\n",
      "-4\n",
      "-3\n",
      "-2\n",
      "-1\n",
      "0\n",
      "1\n",
      "2\n",
      "3\n",
      "4\n",
      "5\n",
      "6\n",
      "7\n",
      "8\n",
      "9\n",
      "10\n"
     ]
    }
   ],
   "source": [
    "# 1\n",
    "#a)\n",
    "\n",
    "for i in range(-10, 11):\n",
    "    print(i)"
   ]
  },
  {
   "cell_type": "code",
   "execution_count": 2,
   "metadata": {},
   "outputs": [
    {
     "name": "stdout",
     "output_type": "stream",
     "text": [
      "-10\n",
      "-8\n",
      "-6\n",
      "-4\n",
      "-2\n",
      "0\n",
      "2\n",
      "4\n",
      "6\n",
      "8\n",
      "10\n"
     ]
    }
   ],
   "source": [
    "#b)\n",
    "for i in range(-10, 11, 2):\n",
    "    print(i)"
   ]
  },
  {
   "cell_type": "code",
   "execution_count": 3,
   "metadata": {},
   "outputs": [
    {
     "name": "stdout",
     "output_type": "stream",
     "text": [
      "5050\n"
     ]
    }
   ],
   "source": [
    "# 1.a)\n",
    "sum = 0\n",
    "for i in range(1, 101, 1):\n",
    "    sum += i    \n",
    "print(sum)\n"
   ]
  },
  {
   "cell_type": "code",
   "execution_count": 4,
   "metadata": {},
   "outputs": [
    {
     "name": "stdout",
     "output_type": "stream",
     "text": [
      "2500\n"
     ]
    }
   ],
   "source": [
    "# 1.b)\n",
    "sum = 0\n",
    "for i in range(1, 101, 2):\n",
    "    sum += i    \n",
    "print(sum)"
   ]
  },
  {
   "cell_type": "code",
   "execution_count": 5,
   "metadata": {},
   "outputs": [
    {
     "name": "stdout",
     "output_type": "stream",
     "text": [
      "0\n",
      "6\n",
      "12\n",
      "18\n",
      "24\n",
      "30\n",
      "36\n",
      "42\n",
      "48\n",
      "54\n",
      "60\n"
     ]
    }
   ],
   "source": [
    "# 2.a)\n",
    "\n",
    "\n",
    "for i in range(0, 11):\n",
    "    \n",
    "    print(f\"{6*i}\")"
   ]
  },
  {
   "cell_type": "code",
   "execution_count": 6,
   "metadata": {},
   "outputs": [
    {
     "name": "stdout",
     "output_type": "stream",
     "text": [
      "20 x 10 = 200\n",
      "20 x 11 = 220\n",
      "20 x 12 = 240\n",
      "20 x 13 = 260\n",
      "20 x 14 = 280\n",
      "20 x 15 = 300\n",
      "20 x 16 = 320\n",
      "20 x 17 = 340\n",
      "20 x 18 = 360\n",
      "20 x 19 = 380\n",
      "20 x 20 = 400\n",
      "20 x 21 = 420\n",
      "20 x 22 = 440\n",
      "20 x 23 = 460\n",
      "20 x 24 = 480\n",
      "20 x 25 = 500\n",
      "20 x 26 = 520\n",
      "20 x 27 = 540\n",
      "20 x 28 = 560\n",
      "20 x 29 = 580\n",
      "20 x 30 = 600\n",
      "20 x 31 = 620\n",
      "20 x 32 = 640\n",
      "20 x 33 = 660\n",
      "20 x 34 = 680\n",
      "20 x 35 = 700\n",
      "20 x 36 = 720\n",
      "20 x 37 = 740\n",
      "20 x 38 = 760\n",
      "20 x 39 = 780\n",
      "20 x 40 = 800\n",
      "20 x 41 = 820\n",
      "20 x 42 = 840\n",
      "20 x 43 = 860\n",
      "20 x 44 = 880\n",
      "20 x 45 = 900\n",
      "20 x 46 = 920\n",
      "20 x 47 = 940\n",
      "20 x 48 = 960\n",
      "20 x 49 = 980\n",
      "20 x 50 = 1000\n",
      "20 x 51 = 1020\n",
      "20 x 52 = 1040\n",
      "20 x 53 = 1060\n",
      "20 x 54 = 1080\n",
      "20 x 55 = 1100\n",
      "20 x 56 = 1120\n",
      "20 x 57 = 1140\n",
      "20 x 58 = 1160\n",
      "20 x 59 = 1180\n",
      "20 x 60 = 1200\n",
      "20 x 61 = 1220\n",
      "20 x 62 = 1240\n",
      "20 x 63 = 1260\n",
      "20 x 64 = 1280\n",
      "20 x 65 = 1300\n",
      "20 x 66 = 1320\n",
      "20 x 67 = 1340\n",
      "20 x 68 = 1360\n",
      "20 x 69 = 1380\n",
      "20 x 70 = 1400\n",
      "20 x 71 = 1420\n",
      "20 x 72 = 1440\n",
      "20 x 73 = 1460\n",
      "20 x 74 = 1480\n",
      "20 x 75 = 1500\n",
      "20 x 76 = 1520\n",
      "20 x 77 = 1540\n",
      "20 x 78 = 1560\n",
      "20 x 79 = 1580\n",
      "20 x 80 = 1600\n",
      "20 x 81 = 1620\n",
      "20 x 82 = 1640\n",
      "20 x 83 = 1660\n",
      "20 x 84 = 1680\n",
      "20 x 85 = 1700\n",
      "20 x 86 = 1720\n",
      "20 x 87 = 1740\n",
      "20 x 88 = 1760\n",
      "20 x 89 = 1780\n",
      "20 x 90 = 1800\n",
      "20 x 91 = 1820\n",
      "20 x 92 = 1840\n",
      "20 x 93 = 1860\n",
      "20 x 94 = 1880\n",
      "20 x 95 = 1900\n",
      "20 x 96 = 1920\n",
      "20 x 97 = 1940\n",
      "20 x 98 = 1960\n",
      "20 x 99 = 1980\n",
      "20 x 100 = 2000\n",
      "20 x 101 = 2020\n",
      "20 x 102 = 2040\n",
      "20 x 103 = 2060\n",
      "20 x 104 = 2080\n",
      "20 x 105 = 2100\n",
      "20 x 106 = 2120\n",
      "20 x 107 = 2140\n",
      "20 x 108 = 2160\n",
      "20 x 109 = 2180\n",
      "20 x 110 = 2200\n",
      "20 x 111 = 2220\n",
      "20 x 112 = 2240\n",
      "20 x 113 = 2260\n",
      "20 x 114 = 2280\n",
      "20 x 115 = 2300\n",
      "20 x 116 = 2320\n",
      "20 x 117 = 2340\n",
      "20 x 118 = 2360\n",
      "20 x 119 = 2380\n",
      "20 x 120 = 2400\n",
      "20 x 121 = 2420\n",
      "20 x 122 = 2440\n",
      "20 x 123 = 2460\n",
      "20 x 124 = 2480\n",
      "20 x 125 = 2500\n",
      "20 x 126 = 2520\n",
      "20 x 127 = 2540\n",
      "20 x 128 = 2560\n",
      "20 x 129 = 2580\n",
      "20 x 130 = 2600\n",
      "20 x 131 = 2620\n",
      "20 x 132 = 2640\n",
      "20 x 133 = 2660\n",
      "20 x 134 = 2680\n",
      "20 x 135 = 2700\n",
      "20 x 136 = 2720\n",
      "20 x 137 = 2740\n",
      "20 x 138 = 2760\n",
      "20 x 139 = 2780\n",
      "20 x 140 = 2800\n",
      "20 x 141 = 2820\n",
      "20 x 142 = 2840\n",
      "20 x 143 = 2860\n",
      "20 x 144 = 2880\n",
      "20 x 145 = 2900\n",
      "20 x 146 = 2920\n",
      "20 x 147 = 2940\n",
      "20 x 148 = 2960\n",
      "20 x 149 = 2980\n",
      "20 x 150 = 3000\n",
      "20 x 151 = 3020\n",
      "20 x 152 = 3040\n",
      "20 x 153 = 3060\n",
      "20 x 154 = 3080\n",
      "20 x 155 = 3100\n",
      "20 x 156 = 3120\n",
      "20 x 157 = 3140\n",
      "20 x 158 = 3160\n",
      "20 x 159 = 3180\n",
      "20 x 160 = 3200\n",
      "20 x 161 = 3220\n",
      "20 x 162 = 3240\n",
      "20 x 163 = 3260\n",
      "20 x 164 = 3280\n",
      "20 x 165 = 3300\n",
      "20 x 166 = 3320\n",
      "20 x 167 = 3340\n",
      "20 x 168 = 3360\n",
      "20 x 169 = 3380\n",
      "20 x 170 = 3400\n",
      "20 x 171 = 3420\n",
      "20 x 172 = 3440\n",
      "20 x 173 = 3460\n",
      "20 x 174 = 3480\n",
      "20 x 175 = 3500\n",
      "20 x 176 = 3520\n",
      "20 x 177 = 3540\n",
      "20 x 178 = 3560\n",
      "20 x 179 = 3580\n",
      "20 x 180 = 3600\n",
      "20 x 181 = 3620\n",
      "20 x 182 = 3640\n",
      "20 x 183 = 3660\n",
      "20 x 184 = 3680\n",
      "20 x 185 = 3700\n",
      "20 x 186 = 3720\n",
      "20 x 187 = 3740\n",
      "20 x 188 = 3760\n",
      "20 x 189 = 3780\n",
      "20 x 190 = 3800\n",
      "20 x 191 = 3820\n",
      "20 x 192 = 3840\n",
      "20 x 193 = 3860\n",
      "20 x 194 = 3880\n",
      "20 x 195 = 3900\n",
      "20 x 196 = 3920\n",
      "20 x 197 = 3940\n",
      "20 x 198 = 3960\n",
      "20 x 199 = 3980\n",
      "20 x 200 = 4000\n"
     ]
    }
   ],
   "source": [
    "# 2.b)\n",
    "\n",
    "choice = int(input(\"Enter the multiplication table you want: \"))\n",
    "start = int(input(\"Enter the start you want: \"))\n",
    "end = int(input(\"Enter the end you want: \"))\n",
    "\n",
    "\n",
    "for i in range(start, end +1):\n",
    "    print(f\"{choice} x {i} = {choice*i}\")"
   ]
  },
  {
   "cell_type": "code",
   "execution_count": 7,
   "metadata": {},
   "outputs": [
    {
     "name": "stdout",
     "output_type": "stream",
     "text": [
      "0 x 0 = 0\t0 x 1 = 0\t0 x 2 = 0\t0 x 3 = 0\t0 x 4 = 0\t0 x 5 = 0\t0 x 6 = 0\t0 x 7 = 0\t0 x 8 = 0\t0 x 9 = 0\t0 x 10 = 0\t\n",
      "1 x 0 = 0\t1 x 1 = 1\t1 x 2 = 2\t1 x 3 = 3\t1 x 4 = 4\t1 x 5 = 5\t1 x 6 = 6\t1 x 7 = 7\t1 x 8 = 8\t1 x 9 = 9\t1 x 10 = 10\t\n",
      "2 x 0 = 0\t2 x 1 = 2\t2 x 2 = 4\t2 x 3 = 6\t2 x 4 = 8\t2 x 5 = 10\t2 x 6 = 12\t2 x 7 = 14\t2 x 8 = 16\t2 x 9 = 18\t2 x 10 = 20\t\n",
      "3 x 0 = 0\t3 x 1 = 3\t3 x 2 = 6\t3 x 3 = 9\t3 x 4 = 12\t3 x 5 = 15\t3 x 6 = 18\t3 x 7 = 21\t3 x 8 = 24\t3 x 9 = 27\t3 x 10 = 30\t\n",
      "4 x 0 = 0\t4 x 1 = 4\t4 x 2 = 8\t4 x 3 = 12\t4 x 4 = 16\t4 x 5 = 20\t4 x 6 = 24\t4 x 7 = 28\t4 x 8 = 32\t4 x 9 = 36\t4 x 10 = 40\t\n",
      "5 x 0 = 0\t5 x 1 = 5\t5 x 2 = 10\t5 x 3 = 15\t5 x 4 = 20\t5 x 5 = 25\t5 x 6 = 30\t5 x 7 = 35\t5 x 8 = 40\t5 x 9 = 45\t5 x 10 = 50\t\n",
      "6 x 0 = 0\t6 x 1 = 6\t6 x 2 = 12\t6 x 3 = 18\t6 x 4 = 24\t6 x 5 = 30\t6 x 6 = 36\t6 x 7 = 42\t6 x 8 = 48\t6 x 9 = 54\t6 x 10 = 60\t\n",
      "7 x 0 = 0\t7 x 1 = 7\t7 x 2 = 14\t7 x 3 = 21\t7 x 4 = 28\t7 x 5 = 35\t7 x 6 = 42\t7 x 7 = 49\t7 x 8 = 56\t7 x 9 = 63\t7 x 10 = 70\t\n",
      "8 x 0 = 0\t8 x 1 = 8\t8 x 2 = 16\t8 x 3 = 24\t8 x 4 = 32\t8 x 5 = 40\t8 x 6 = 48\t8 x 7 = 56\t8 x 8 = 64\t8 x 9 = 72\t8 x 10 = 80\t\n",
      "9 x 0 = 0\t9 x 1 = 9\t9 x 2 = 18\t9 x 3 = 27\t9 x 4 = 36\t9 x 5 = 45\t9 x 6 = 54\t9 x 7 = 63\t9 x 8 = 72\t9 x 9 = 81\t9 x 10 = 90\t\n",
      "10 x 0 = 0\t10 x 1 = 10\t10 x 2 = 20\t10 x 3 = 30\t10 x 4 = 40\t10 x 5 = 50\t10 x 6 = 60\t10 x 7 = 70\t10 x 8 = 80\t10 x 9 = 90\t10 x 10 = 100\t\n"
     ]
    }
   ],
   "source": [
    "# 2.c)\n",
    "\n",
    "for i in range(0, 11):  # yttre loop\n",
    "    for j in range(0, 11):  # inre loop\n",
    "        print(f\"{i} x {j} = {i*j}\", end='\\t')  \n",
    "    print()  \n"
   ]
  },
  {
   "cell_type": "markdown",
   "metadata": {},
   "source": [
    "<div style=\"width: 66ch;\">\n",
    "\n",
    "\n",
    "</div>"
   ]
  },
  {
   "cell_type": "code",
   "execution_count": 11,
   "metadata": {},
   "outputs": [
    {
     "name": "stdout",
     "output_type": "stream",
     "text": [
      "n: 2 = 2\n"
     ]
    }
   ],
   "source": [
    "#3)\n",
    "\n",
    "n = int(input(\"Enter n: \"))\n",
    "result = 1 #start value\n",
    "\n",
    "for i in range(1, n +1): #iterate from 1 to n including n\n",
    "    result *= i #multiplicate result with i each iteration\n",
    "print(f\"n: {n} = {result}\")"
   ]
  },
  {
   "cell_type": "code",
   "execution_count": 19,
   "metadata": {},
   "outputs": [
    {
     "name": "stdout",
     "output_type": "stream",
     "text": [
      "4161\n",
      "the random nr is 4161\n"
     ]
    }
   ],
   "source": [
    "#4.)\n",
    "import random\n",
    "\n",
    "random_nr = random.randint(0000, 9999)\n",
    "print(random_nr)\n",
    "\n",
    "for i in range(10000):\n",
    "    if i == random_nr:\n",
    "        print(f\"the random nr is {random_nr}\") \n",
    "        break"
   ]
  },
  {
   "cell_type": "code",
   "execution_count": null,
   "metadata": {},
   "outputs": [],
   "source": [
    "#5"
   ]
  },
  {
   "cell_type": "code",
   "execution_count": null,
   "metadata": {},
   "outputs": [],
   "source": []
  },
  {
   "cell_type": "markdown",
   "metadata": {},
   "source": [
    "<div style=\"background-color: #FFF; color: #212121; border-radius: 20px; width:25ch; box-shadow: rgba(0, 0, 0, 0.16) 0px 1px 4px; display: flex; justify-content: center; align-items: center;\">\n",
    "<div style=\"padding: 1em; width: 60%;\">\n",
    "    <h2 style=\"font-size: 1.2rem;\">Kokchun Giang</h2>\n",
    "    <a href=\"https://www.linkedin.com/in/kokchungiang/\" target=\"_blank\" style=\"display: flex; align-items: center; gap: .4em; color:#0A66C2;\">\n",
    "        <img src=\"https://content.linkedin.com/content/dam/me/business/en-us/amp/brand-site/v2/bg/LI-Bug.svg.original.svg\" width=\"20\"> \n",
    "        LinkedIn profile\n",
    "    </a>\n",
    "    <a href=\"https://github.com/kokchun/Portfolio-Kokchun-Giang\" target=\"_blank\" style=\"display: flex; align-items: center; gap: .4em; margin: 1em 0; color:#0A66C2;\">\n",
    "        <img src=\"https://github.githubassets.com/images/modules/logos_page/GitHub-Mark.png\" width=\"20\"> \n",
    "        Github portfolio\n",
    "    </a>\n",
    "    <span>AIgineer AB</span>\n",
    "    <div>\n",
    "</div>"
   ]
  }
 ],
 "metadata": {
  "kernelspec": {
   "display_name": "Python 3.9.6 64-bit",
   "language": "python",
   "name": "python3"
  },
  "language_info": {
   "codemirror_mode": {
    "name": "ipython",
    "version": 3
   },
   "file_extension": ".py",
   "mimetype": "text/x-python",
   "name": "python",
   "nbconvert_exporter": "python",
   "pygments_lexer": "ipython3",
   "version": "3.11.7"
  },
  "orig_nbformat": 4,
  "vscode": {
   "interpreter": {
    "hash": "0da836a34428266995a795f1e1e27b816fa1c02f148d9728b3fbbbc5459afca6"
   }
  }
 },
 "nbformat": 4,
 "nbformat_minor": 2
}
