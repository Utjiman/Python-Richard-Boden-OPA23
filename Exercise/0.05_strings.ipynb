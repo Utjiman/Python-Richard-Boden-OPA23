{
 "cells": [
  {
   "cell_type": "markdown",
   "metadata": {},
   "source": [
    "# Exercise - strings\n",
    "\n",
    "<div style=\"max-width: 66ch;\">\n",
    "\n",
    "---\n",
    "These are introductory exercises in Python with focus in **lists**, which is a a sequence of characters enclosed within single (' '), double (\" \"), or triple (''' ' '' or \"\"\" \"\"\" ) quotes. Strings are a fundamental data type and are used to represent textual data. \n",
    "\n",
    "<p class = \"alert alert-info\" role=\"alert\"><b>Remember</b> to use <b>descriptive variables</b> in order to get readable code </p>\n",
    "\n",
    "<p class = \"alert alert-info\" role=\"alert\"><b>Remember</b> to format your answers in a neat way using <b>f-strings</b>\n",
    "\n",
    "<p class = \"alert alert-info\" role=\"alert\"><b>Remember</b> to format your input questions in a pedagogical way to guide the user\n",
    "\n",
    "The number of stars (\\*), (\\*\\*), (\\*\\*\\*) denotes the difficulty level of the task\n",
    "\n",
    "---\n",
    "\n",
    "</div>"
   ]
  },
  {
   "cell_type": "markdown",
   "metadata": {},
   "source": [
    "<div style=\"max-width:66ch;\">\n",
    "\n",
    "## 0. Counting letters (*)\n",
    "\n",
    "Let the user input a word: \n",
    "\n",
    "&nbsp; a) &nbsp; print out the number of letters in the word. (*) \n",
    "  \n",
    "&nbsp; b) &nbsp; print out the number of **uppercase** and **lowercase** letters of the word (*)   \n",
    "\n",
    "\n",
    "---\n",
    "## 1. Counting words (*)\n",
    "\n",
    "Count the number of words in this sentence: \"A picture says more than a thousand words, a matematical formula says more than a thousand pictures.\" (*) \n",
    "\n",
    "---\n",
    "## 2. Palindrome (*)\n",
    "\n",
    "A palindrome is a sequence of characters that is the same, when read forward as backwards (ignoring spaces). For example:\n",
    "- \"Anna\" is a palindrome\n",
    "- \"Ni talar bra latin\"\n",
    "- bjkjb \n",
    "\n",
    "Here is a flowchart of the algorithm. \n",
    "\n",
    "<img src=\"https://github.com/kokchun/assets/blob/main/python/palindrome_flowchart.png?raw=true\" width = 300 style=\"display:inline-block; text-align:left;\">\n",
    "\n",
    "Let the user input a sequence of characters and check if it is a palindrome. (*)\n",
    "\n",
    "---\n",
    "## 3. Vowels (**)\n",
    "\n",
    "Count the number of vowels in this sentence: \"Pure mathematics is, in its way, the poetry of logical ideas\"\n",
    "\n",
    "---\n",
    "## 4. Encryption (**)\n",
    "\n",
    "Let the user input a word and: \n",
    "\n",
    "&nbsp; a) &nbsp; encrypt the message by replacing each letter with the next letter. If the letter is in the end of the alphabet, use the first letter instead. \n",
    "\n",
    "e.g. in Swedish: \"höst\" $\\rightarrow$ \"iatu\"\n",
    "\n",
    "\n",
    "\n",
    "</div>\n",
    "\n",
    "\n"
   ]
  },
  {
   "cell_type": "markdown",
   "metadata": {},
   "source": [
    "<div style=\"width: 66ch;\">\n",
    "\n",
    "\n",
    "</div>"
   ]
  },
  {
   "cell_type": "code",
   "execution_count": 6,
   "metadata": {},
   "outputs": [
    {
     "name": "stdout",
     "output_type": "stream",
     "text": [
      "7\n"
     ]
    }
   ],
   "source": [
    "# 0.a)\n",
    "\n",
    "word = input(\"Enter a word: \")\n",
    "print(len(word))\n"
   ]
  },
  {
   "cell_type": "code",
   "execution_count": 10,
   "metadata": {},
   "outputs": [
    {
     "name": "stdout",
     "output_type": "stream",
     "text": [
      "['K', 'Ä']\n",
      "['u', 'l', 'n', 'n', 'a']\n"
     ]
    }
   ],
   "source": [
    "#0.b)\n",
    "word = input(\"Enter a word: \")\n",
    "uppercase_letters = [char for char in word if char.isupper()]\n",
    "lowercase_letters = [char for char in word if char.islower()]\n",
    "print(uppercase_letters)\n",
    "print(lowercase_letters)\n"
   ]
  },
  {
   "cell_type": "code",
   "execution_count": 13,
   "metadata": {},
   "outputs": [
    {
     "name": "stdout",
     "output_type": "stream",
     "text": [
      "82\n"
     ]
    }
   ],
   "source": [
    "# 1.)\n",
    "\n",
    "sentence = \"A picture says more than a thousand words, a matematical formula says more than a thousand pictures.\"\n",
    "Nmbr_of_chars = sum(1 for sen in sentence if sen.isalpha())\n",
    "\n",
    "print(Nmbr_of_chars)"
   ]
  },
  {
   "cell_type": "code",
   "execution_count": 17,
   "metadata": {},
   "outputs": [
    {
     "data": {
      "text/plain": [
       "17"
      ]
     },
     "execution_count": 17,
     "metadata": {},
     "output_type": "execute_result"
    }
   ],
   "source": [
    "sentence = \"A picture says more than a thousand words, a matematical formula says more than a thousand pictures.\"\n",
    "Nmbr_of_words = len(sentence.split())\n",
    "Nmbr_of_words"
   ]
  },
  {
   "cell_type": "code",
   "execution_count": 21,
   "metadata": {},
   "outputs": [
    {
     "name": "stdout",
     "output_type": "stream",
     "text": [
      "This is not a palindrome\n"
     ]
    }
   ],
   "source": [
    "#2.)\n",
    "\n",
    "palindrom = input(\"Enter a Word: \")\n",
    "reverse = palindrom[::-1]\n",
    "\n",
    "if palindrom == reverse:\n",
    "    print(\"This is a palindrome\")\n",
    "else:\n",
    "    print(\"This is not a palindrome\")"
   ]
  },
  {
   "cell_type": "code",
   "execution_count": 25,
   "metadata": {},
   "outputs": [
    {
     "name": "stdout",
     "output_type": "stream",
     "text": [
      "22\n"
     ]
    }
   ],
   "source": [
    "#3.)\n",
    "\n",
    "sentences = \"Pure mathematics is, in its way, the poetry of logical ideas\"\n",
    "vowels = \"aeouiyAEOUIY\" \n",
    "nmbr_of_vowels = 0\n",
    "\n",
    "for words in sentences:\n",
    "    if words in vowels:\n",
    "        nmbr_of_vowels += 1\n",
    "\n",
    "print(nmbr_of_vowels)"
   ]
  },
  {
   "cell_type": "code",
   "execution_count": 27,
   "metadata": {},
   "outputs": [
    {
     "name": "stdout",
     "output_type": "stream",
     "text": [
      "åunjhov\n"
     ]
    }
   ],
   "source": [
    "# 4.a)\n",
    "\n",
    "inputedword = input(\"Enter a word: \")\n",
    "\n",
    "newword = \"\".join(chr(ord(char) +1) for char in inputedword) \n",
    "print(newword) \n",
    "# ord(char): ord()-funktionen tar ett tecken och returnerar dess ASCII-värde (ett heltal).\n",
    "# ord(char) + 1: För varje tecken i inputedword adderas 1 till dess ASCII-värde. Detta \"skiftar\" tecknet ett steg framåt i ASCII-tabellen. \n",
    "# \"\".join(...): Denna metod sammanfogar en sekvens av tecken till en sträng utan något mellanrum mellan tecknen."
   ]
  },
  {
   "cell_type": "markdown",
   "metadata": {},
   "source": [
    "<div style=\"background-color: #FFF; color: #212121; border-radius: 20px; width:25ch; box-shadow: rgba(0, 0, 0, 0.16) 0px 1px 4px; display: flex; justify-content: center; align-items: center;\">\n",
    "<div style=\"padding: 1em; width: 60%;\">\n",
    "    <h2 style=\"font-size: 1.2rem;\">Kokchun Giang</h2>\n",
    "    <a href=\"https://www.linkedin.com/in/kokchungiang/\" target=\"_blank\" style=\"display: flex; align-items: center; gap: .4em; color:#0A66C2;\">\n",
    "        <img src=\"https://content.linkedin.com/content/dam/me/business/en-us/amp/brand-site/v2/bg/LI-Bug.svg.original.svg\" width=\"20\"> \n",
    "        LinkedIn profile\n",
    "    </a>\n",
    "    <a href=\"https://github.com/kokchun/Portfolio-Kokchun-Giang\" target=\"_blank\" style=\"display: flex; align-items: center; gap: .4em; margin: 1em 0; color:#0A66C2;\">\n",
    "        <img src=\"https://github.githubassets.com/images/modules/logos_page/GitHub-Mark.png\" width=\"20\"> \n",
    "        Github portfolio\n",
    "    </a>\n",
    "    <span>AIgineer AB</span>\n",
    "    <div>\n",
    "</div>"
   ]
  }
 ],
 "metadata": {
  "kernelspec": {
   "display_name": "Python 3.9.6 64-bit",
   "language": "python",
   "name": "python3"
  },
  "language_info": {
   "codemirror_mode": {
    "name": "ipython",
    "version": 3
   },
   "file_extension": ".py",
   "mimetype": "text/x-python",
   "name": "python",
   "nbconvert_exporter": "python",
   "pygments_lexer": "ipython3",
   "version": "3.11.7"
  },
  "orig_nbformat": 4,
  "vscode": {
   "interpreter": {
    "hash": "0da836a34428266995a795f1e1e27b816fa1c02f148d9728b3fbbbc5459afca6"
   }
  }
 },
 "nbformat": 4,
 "nbformat_minor": 2
}
