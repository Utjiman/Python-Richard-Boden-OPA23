{
 "cells": [
  {
   "cell_type": "markdown",
   "metadata": {},
   "source": [
    "### Uppgift 0 - uppvärmning med riket\n",
    "- Import and read excel file \n",
    "- 0.a) Börja med att läsa in filen riket2023_åk9_np.xlsx och sheets för de olika ämnena. Ändra kolumnnamnen på\n",
    "respektive dataframe så du får något liknande som nedan."
   ]
  },
  {
   "cell_type": "code",
   "execution_count": 9,
   "metadata": {},
   "outputs": [],
   "source": [
    "import pandas as pd\n",
    "\n",
    "\n",
    "file_path_riket = (\"../Labb2/riket2023_åk9_np.xlsx\")\n",
    "\n",
    "# Read the different sheets from the Excel file, skipping the first 8 rows, and store it in a DataFrame.\n",
    "df_riket_engelska = pd.read_excel(file_path_riket, sheet_name='Engelska', skiprows=8)\n",
    "df_riket_matematik = pd.read_excel(file_path_riket, sheet_name='Matematik', skiprows=8)\n",
    "df_riket_svenska = pd.read_excel(file_path_riket, sheet_name='Svenska', skiprows=8)\n",
    "df_riket_andra_språk = pd.read_excel(file_path_riket, sheet_name='Svenska som andraspråk', skiprows=8)\n",
    "\n"
   ]
  },
  {
   "cell_type": "markdown",
   "metadata": {},
   "source": [
    "## Name change columns\n",
    "\n",
    "- 0.a) "
   ]
  },
  {
   "cell_type": "code",
   "execution_count": 10,
   "metadata": {},
   "outputs": [
    {
     "data": {
      "text/html": [
       "<div>\n",
       "<style scoped>\n",
       "    .dataframe tbody tr th:only-of-type {\n",
       "        vertical-align: middle;\n",
       "    }\n",
       "\n",
       "    .dataframe tbody tr th {\n",
       "        vertical-align: top;\n",
       "    }\n",
       "\n",
       "    .dataframe thead th {\n",
       "        text-align: right;\n",
       "    }\n",
       "</style>\n",
       "<table border=\"1\" class=\"dataframe\">\n",
       "  <thead>\n",
       "    <tr style=\"text-align: right;\">\n",
       "      <th></th>\n",
       "      <th>Plats</th>\n",
       "      <th>Huvudman</th>\n",
       "      <th>Totalt (A-F)</th>\n",
       "      <th>Flickor (A-F)</th>\n",
       "      <th>Pojkar (A-F)</th>\n",
       "      <th>Totalt (A-E)</th>\n",
       "      <th>Flickor (A-E)</th>\n",
       "      <th>Pojkar (A-E)</th>\n",
       "      <th>Totalt (Poäng)</th>\n",
       "      <th>Flickor (Poäng)</th>\n",
       "      <th>Pojkar (Poäng)</th>\n",
       "    </tr>\n",
       "  </thead>\n",
       "  <tbody>\n",
       "    <tr>\n",
       "      <th>0</th>\n",
       "      <td>Riket</td>\n",
       "      <td>Samtliga</td>\n",
       "      <td>106766</td>\n",
       "      <td>51548</td>\n",
       "      <td>55218</td>\n",
       "      <td>89.1</td>\n",
       "      <td>88.7</td>\n",
       "      <td>89.5</td>\n",
       "      <td>11.9</td>\n",
       "      <td>11.8</td>\n",
       "      <td>12.0</td>\n",
       "    </tr>\n",
       "    <tr>\n",
       "      <th>1</th>\n",
       "      <td>Riket</td>\n",
       "      <td>Kommunal</td>\n",
       "      <td>84163</td>\n",
       "      <td>40386</td>\n",
       "      <td>43777</td>\n",
       "      <td>88.1</td>\n",
       "      <td>87.7</td>\n",
       "      <td>88.5</td>\n",
       "      <td>11.6</td>\n",
       "      <td>11.5</td>\n",
       "      <td>11.7</td>\n",
       "    </tr>\n",
       "    <tr>\n",
       "      <th>2</th>\n",
       "      <td>Riket</td>\n",
       "      <td>Enskild</td>\n",
       "      <td>22553</td>\n",
       "      <td>11137</td>\n",
       "      <td>11416</td>\n",
       "      <td>92.9</td>\n",
       "      <td>92.2</td>\n",
       "      <td>93.5</td>\n",
       "      <td>13.0</td>\n",
       "      <td>12.8</td>\n",
       "      <td>13.1</td>\n",
       "    </tr>\n",
       "    <tr>\n",
       "      <th>3</th>\n",
       "      <td>Riket</td>\n",
       "      <td>Skolverket</td>\n",
       "      <td>50</td>\n",
       "      <td>25</td>\n",
       "      <td>25</td>\n",
       "      <td>~100</td>\n",
       "      <td>~100</td>\n",
       "      <td>~100</td>\n",
       "      <td>14.1</td>\n",
       "      <td>13.5</td>\n",
       "      <td>14.7</td>\n",
       "    </tr>\n",
       "  </tbody>\n",
       "</table>\n",
       "</div>"
      ],
      "text/plain": [
       "   Plats    Huvudman  Totalt (A-F)  Flickor (A-F)   Pojkar (A-F) Totalt (A-E)  \\\n",
       "0  Riket    Samtliga        106766          51548          55218         89.1   \n",
       "1  Riket    Kommunal         84163          40386          43777         88.1   \n",
       "2  Riket     Enskild         22553          11137          11416         92.9   \n",
       "3  Riket  Skolverket            50             25             25         ~100   \n",
       "\n",
       "  Flickor (A-E) Pojkar (A-E)  Totalt (Poäng)  Flickor (Poäng)  Pojkar (Poäng)  \n",
       "0          88.7         89.5            11.9             11.8            12.0  \n",
       "1          87.7         88.5            11.6             11.5            11.7  \n",
       "2          92.2         93.5            13.0             12.8            13.1  \n",
       "3          ~100         ~100            14.1             13.5            14.7  "
      ]
     },
     "execution_count": 10,
     "metadata": {},
     "output_type": "execute_result"
    }
   ],
   "source": [
    "# Changing names on columns\n",
    "df_riket_engelska.columns = ['Plats', 'Huvudman', 'Totalt (A-F)', 'Flickor (A-F)', ' Pojkar (A-F)', 'Totalt (A-E)', 'Flickor (A-E)', 'Pojkar (A-E)', 'Totalt (Poäng)', 'Flickor (Poäng)', 'Pojkar (Poäng)']\n",
    "df_riket_matematik.columns = ['Plats', 'Huvudman', 'Totalt (A-F)', 'Flickor (A-F)', ' Pojkar (A-F)', 'Totalt (A-E)', 'Flickor (A-E)', 'Pojkar (A-E)', 'Totalt (Poäng)', 'Flickor (Poäng)', 'Pojkar (Poäng)']\n",
    "df_riket_svenska.columns = ['Plats', 'Huvudman', 'Totalt (A-F)', 'Flickor (A-F)', ' Pojkar (A-F)', 'Totalt (A-E)', 'Flickor (A-E)', 'Pojkar (A-E)', 'Totalt (Poäng)', 'Flickor (Poäng)', 'Pojkar (Poäng)']\n",
    "df_riket_andra_språk.columns = ['Plats', 'Huvudman', 'Totalt (A-F)', 'Flickor (A-F)', ' Pojkar (A-F)', 'Totalt (A-E)', 'Flickor (A-E)', 'Pojkar (A-E)', 'Totalt (Poäng)', 'Flickor (Poäng)', 'Pojkar (Poäng)']\n",
    "\n",
    "df_riket_matematik"
   ]
  },
  {
   "cell_type": "markdown",
   "metadata": {},
   "source": [
    "### F in mathematics \n",
    "\n",
    "- 0.b) Ta reda på antalet som fått F i matematik totalt, pojkar respektive flickor.\n",
    "\n"
   ]
  },
  {
   "cell_type": "code",
   "execution_count": 11,
   "metadata": {},
   "outputs": [
    {
     "name": "stderr",
     "output_type": "stream",
     "text": [
      "C:\\Users\\utjis\\AppData\\Local\\Temp\\ipykernel_19964\\3816872280.py:8: FutureWarning:\n",
      "\n",
      "Downcasting behavior in `replace` is deprecated and will be removed in a future version. To retain the old behavior, explicitly call `result.infer_objects(copy=False)`. To opt-in to the future behavior, set `pd.set_option('future.no_silent_downcasting', True)`\n",
      "\n"
     ]
    },
    {
     "data": {
      "text/html": [
       "<div>\n",
       "<style scoped>\n",
       "    .dataframe tbody tr th:only-of-type {\n",
       "        vertical-align: middle;\n",
       "    }\n",
       "\n",
       "    .dataframe tbody tr th {\n",
       "        vertical-align: top;\n",
       "    }\n",
       "\n",
       "    .dataframe thead th {\n",
       "        text-align: right;\n",
       "    }\n",
       "</style>\n",
       "<table border=\"1\" class=\"dataframe\">\n",
       "  <thead>\n",
       "    <tr style=\"text-align: right;\">\n",
       "      <th></th>\n",
       "      <th>Plats</th>\n",
       "      <th>Huvudman</th>\n",
       "      <th>Totalt (A-F)</th>\n",
       "      <th>Flickor (A-F)</th>\n",
       "      <th>Pojkar (A-F)</th>\n",
       "      <th>Totalt (A-E)</th>\n",
       "      <th>Flickor (A-E)</th>\n",
       "      <th>Pojkar (A-E)</th>\n",
       "      <th>Totalt (Poäng)</th>\n",
       "      <th>Flickor (Poäng)</th>\n",
       "      <th>Pojkar (Poäng)</th>\n",
       "      <th>Flickor (F)</th>\n",
       "      <th>Pojkar (F)</th>\n",
       "      <th>Totalt (F)</th>\n",
       "    </tr>\n",
       "  </thead>\n",
       "  <tbody>\n",
       "    <tr>\n",
       "      <th>0</th>\n",
       "      <td>Riket</td>\n",
       "      <td>Samtliga</td>\n",
       "      <td>106766</td>\n",
       "      <td>51548</td>\n",
       "      <td>55218</td>\n",
       "      <td>89.1</td>\n",
       "      <td>88.7</td>\n",
       "      <td>89.5</td>\n",
       "      <td>11.9</td>\n",
       "      <td>11.8</td>\n",
       "      <td>12.0</td>\n",
       "      <td>5825.0</td>\n",
       "      <td>5798.0</td>\n",
       "      <td>11623.0</td>\n",
       "    </tr>\n",
       "    <tr>\n",
       "      <th>1</th>\n",
       "      <td>Riket</td>\n",
       "      <td>Kommunal</td>\n",
       "      <td>84163</td>\n",
       "      <td>40386</td>\n",
       "      <td>43777</td>\n",
       "      <td>88.1</td>\n",
       "      <td>87.7</td>\n",
       "      <td>88.5</td>\n",
       "      <td>11.6</td>\n",
       "      <td>11.5</td>\n",
       "      <td>11.7</td>\n",
       "      <td>4967.0</td>\n",
       "      <td>5034.0</td>\n",
       "      <td>10001.0</td>\n",
       "    </tr>\n",
       "    <tr>\n",
       "      <th>2</th>\n",
       "      <td>Riket</td>\n",
       "      <td>Enskild</td>\n",
       "      <td>22553</td>\n",
       "      <td>11137</td>\n",
       "      <td>11416</td>\n",
       "      <td>92.9</td>\n",
       "      <td>92.2</td>\n",
       "      <td>93.5</td>\n",
       "      <td>13.0</td>\n",
       "      <td>12.8</td>\n",
       "      <td>13.1</td>\n",
       "      <td>869.0</td>\n",
       "      <td>742.0</td>\n",
       "      <td>1611.0</td>\n",
       "    </tr>\n",
       "    <tr>\n",
       "      <th>3</th>\n",
       "      <td>Riket</td>\n",
       "      <td>Skolverket</td>\n",
       "      <td>50</td>\n",
       "      <td>25</td>\n",
       "      <td>25</td>\n",
       "      <td>100.0</td>\n",
       "      <td>100.0</td>\n",
       "      <td>100.0</td>\n",
       "      <td>14.1</td>\n",
       "      <td>13.5</td>\n",
       "      <td>14.7</td>\n",
       "      <td>0.0</td>\n",
       "      <td>0.0</td>\n",
       "      <td>0.0</td>\n",
       "    </tr>\n",
       "  </tbody>\n",
       "</table>\n",
       "</div>"
      ],
      "text/plain": [
       "   Plats    Huvudman  Totalt (A-F)  Flickor (A-F)  Pojkar (A-F)  Totalt (A-E)  \\\n",
       "0  Riket    Samtliga        106766          51548         55218          89.1   \n",
       "1  Riket    Kommunal         84163          40386         43777          88.1   \n",
       "2  Riket     Enskild         22553          11137         11416          92.9   \n",
       "3  Riket  Skolverket            50             25            25         100.0   \n",
       "\n",
       "   Flickor (A-E)  Pojkar (A-E)  Totalt (Poäng)  Flickor (Poäng)  \\\n",
       "0           88.7          89.5            11.9             11.8   \n",
       "1           87.7          88.5            11.6             11.5   \n",
       "2           92.2          93.5            13.0             12.8   \n",
       "3          100.0         100.0            14.1             13.5   \n",
       "\n",
       "   Pojkar (Poäng)  Flickor (F)  Pojkar (F)  Totalt (F)  \n",
       "0            12.0       5825.0      5798.0     11623.0  \n",
       "1            11.7       4967.0      5034.0     10001.0  \n",
       "2            13.1        869.0       742.0      1611.0  \n",
       "3            14.7          0.0         0.0         0.0  "
      ]
     },
     "execution_count": 11,
     "metadata": {},
     "output_type": "execute_result"
    }
   ],
   "source": [
    "# Copy the dataFrame to a new dataFrame for F grade calculations\n",
    "df_f_math = df_riket_matematik.copy()\n",
    "\n",
    "# Clean the column names by removing spaces\n",
    "df_f_math.columns = [col.strip() for col in df_f_math.columns]\n",
    "\n",
    "# replace '~100' with '100' \n",
    "df_f_math.replace('~100', 100, inplace=True)\n",
    "\n",
    "# Make selected columns numeric, turn errors into NaN\n",
    "columns_to_convert = ['Flickor (A-F)', 'Pojkar (A-F)', 'Flickor (A-E)', 'Pojkar (A-E)']\n",
    "for column in columns_to_convert:\n",
    "    df_f_math[column] = pd.to_numeric(df_f_math[column], errors='coerce')\n",
    "\n",
    "# Calculate the number of girls with F grades by subtracting the estimated number of girls with A-E from the total.\n",
    "df_f_math['Flickor (F)'] = df_f_math['Flickor (A-F)'] - (df_f_math['Flickor (A-F)'] * (df_f_math['Flickor (A-E)'] / 100)).round()\n",
    "df_f_math['Pojkar (F)'] = df_f_math['Pojkar (A-F)'] - (df_f_math['Pojkar (A-F)'] * (df_f_math['Pojkar (A-E)'] / 100)).round()\n",
    "# Sum the F grades for girls and boys to get the total number of students with F grades.\n",
    "df_f_math['Totalt (F)'] = df_f_math['Flickor (F)'] + df_f_math['Pojkar (F)']\n",
    "\n",
    "df_f_math"
   ]
  },
  {
   "cell_type": "markdown",
   "metadata": {},
   "source": [
    "## Barplot total points\n",
    "\n",
    "- 0.c Rita ett stapeldiagram på totala poängen för de olika ämnena.\n",
    " \n"
   ]
  },
  {
   "cell_type": "code",
   "execution_count": 12,
   "metadata": {},
   "outputs": [],
   "source": [
    "import matplotlib.pyplot as plt\n",
    "\n",
    "## Data cleaning and preparing data for plotting\n",
    "\n",
    "# Converts the total points from different subjects into lists for plotting\n",
    "math_total = df_riket_matematik['Totalt (Poäng)'].tolist()  \n",
    "english_total = df_riket_engelska['Totalt (Poäng)'].tolist()  \n",
    "swedish_total = df_riket_svenska['Totalt (Poäng)'].tolist()  \n",
    "other_lang_total = df_riket_andra_språk['Totalt (Poäng)'].tolist()\n",
    "\n",
    "# Create a new DataFrame combining all subjects\n",
    "combined_df = pd.DataFrame({'Matte':math_total, 'Engelska': english_total, 'Svenska': swedish_total, 'Svenska som andraspråk': other_lang_total})\n",
    "\n",
    "# Make a clean copy of the combined DataFrame\n",
    "combined_cleaned = pd.DataFrame(combined_df)\n",
    "\n",
    "# Converts 'svenska som andraspråk' to numeric, changing errors to NaN\n",
    "combined_cleaned['Svenska som andraspråk'] = pd.to_numeric(combined_cleaned['Svenska som andraspråk'], errors='coerce')\n",
    "\n",
    "\n"
   ]
  },
  {
   "cell_type": "code",
   "execution_count": 13,
   "metadata": {},
   "outputs": [
    {
     "data": {
      "image/png": "[encoded data removed]",
      "text/plain": [
       "<Figure size 1000x600 with 1 Axes>"
      ]
     },
     "metadata": {},
     "output_type": "display_data"
    }
   ],
   "source": [
    "total_scores_per_subject = combined_cleaned.sum() # calc the sum of the scores of each subject\n",
    "\n",
    "colors = ['steelblue', 'khaki', 'olive', 'maroon'] # color palette for the bar plot\n",
    "\n",
    "ax_new = total_scores_per_subject.plot(kind='bar', figsize=(10, 6), color=colors) # create a barplot and define the size and colors\n",
    "\n",
    "# sets title and labels for x and y axis\n",
    "plt.title('Totalpoäng per Ämne', loc='left', color= 'grey')\n",
    "plt.xlabel('Ämne', color= 'grey')\n",
    "plt.ylabel('Totala Poäng', color= 'grey')\n",
    "\n",
    "plt.xticks(rotation=0) # rotate the x-axis for better readability\n",
    "\n",
    "# hides right and top spine for a cleaner look, sets lighter colours on the rest\n",
    "ax_new.spines['top'].set_visible(False)\n",
    "ax_new.spines['right'].set_visible(False)\n",
    "ax_new.spines['bottom'].set_color('lightgray')\n",
    "ax_new.spines['left'].set_color('lightgray')\n",
    "\n",
    "plt.tight_layout()\n",
    "plt.show()"
   ]
  },
  {
   "cell_type": "markdown",
   "metadata": {},
   "source": [
    "## Total points subplots\n",
    "- 0.d Rita fyra olika stapeldiagram i subplots på totala poängen för de olika ämnena för de olika huvudmännen"
   ]
  },
  {
   "cell_type": "code",
   "execution_count": 14,
   "metadata": {},
   "outputs": [
    {
     "data": {
      "image/png": "[encoded data removed]",
      "text/plain": [
       "<Figure size 2000x600 with 4 Axes>"
      ]
     },
     "metadata": {},
     "output_type": "display_data"
    }
   ],
   "source": [
    "import numpy as np\n",
    "\n",
    "# Convert other language total scores to float, setting \"..\" as NaN\n",
    "cleaned_other_lang_total = [np.nan if x == '..' else float(x) for x in other_lang_total]\n",
    "\n",
    "subjects = [('Matematik', math_total), ('Engelska', english_total), ('Svenska', swedish_total), ('Svenska som andraspråk', cleaned_other_lang_total)] # define the subjects\n",
    "labels = ['Samtliga', 'Kommunalt', 'Enskilt', 'Skolverket']  # labels for x-axis\n",
    "tick_positions = range(len(labels))  # positions for each x-axis label\n",
    "\n",
    "fig, axes = plt.subplots(1, 4, figsize=(20, 6))  # Creates 4 subplots\n",
    "\n",
    "# Loop through each subject and its totals to create individual bar charts\n",
    "for ax, (title, totals) in zip(axes, subjects):\n",
    "    ax.bar(tick_positions, totals, color=colors)  # Plot bars at predefined postitions.\n",
    "    ax.set_title(title, loc=\"left\", color= 'grey')\n",
    "    ax.set_xticks(tick_positions)  # Set the positions for the x-ticks\n",
    "    ax.set_xticklabels(labels, rotation=0) \n",
    "    ax.set_ylabel('Poäng', color='grey')\n",
    "    # Hide the right and top spines for a cleaner look\n",
    "    ax.spines.right.set_visible(False) \n",
    "    ax.spines.top.set_visible(False)\n",
    "    # Set the color of the bottom and left spines\n",
    "    ax.spines['bottom'].set_color('lightgray')\n",
    "    ax.spines['left'].set_color('lightgray')\n",
    "    \n",
    "    fig.suptitle('Totala poäng för de olika ämnena', fontsize= 20) # adds a title for the entire figure \n",
    "\n",
    "# Adjust the layout to make sure everything fits without overlapping\n",
    "plt.tight_layout()\n",
    "plt.show()\n"
   ]
  },
  {
   "cell_type": "markdown",
   "metadata": {},
   "source": [
    "## Uppgift 1 - uppvärmning betyg och prov\n",
    "\n",
    "\n",
    "- a) Rita ett linjediagram för andel elever som saknar godkänt betyg i ett eller fler ämnen för läsår 18-23. Ta med totalt,\n",
    "flickor och pojkar i samma graf."
   ]
  },
  {
   "cell_type": "code",
   "execution_count": 15,
   "metadata": {},
   "outputs": [
    {
     "name": "stderr",
     "output_type": "stream",
     "text": [
      "C:\\Users\\utjis\\AppData\\Local\\Temp\\ipykernel_19964\\1357057581.py:10: FutureWarning:\n",
      "\n",
      "Downcasting behavior in `replace` is deprecated and will be removed in a future version. To retain the old behavior, explicitly call `result.infer_objects(copy=False)`. To opt-in to the future behavior, set `pd.set_option('future.no_silent_downcasting', True)`\n",
      "\n"
     ]
    },
    {
     "data": {
      "text/html": [
       "<div>\n",
       "<style scoped>\n",
       "    .dataframe tbody tr th:only-of-type {\n",
       "        vertical-align: middle;\n",
       "    }\n",
       "\n",
       "    .dataframe tbody tr th {\n",
       "        vertical-align: top;\n",
       "    }\n",
       "\n",
       "    .dataframe thead th {\n",
       "        text-align: right;\n",
       "    }\n",
       "</style>\n",
       "<table border=\"1\" class=\"dataframe\">\n",
       "  <thead>\n",
       "    <tr style=\"text-align: right;\">\n",
       "      <th></th>\n",
       "      <th>Läsår/huvudman/Bakgrund</th>\n",
       "      <th>Genomsnittligt meritvärde Tot (16 ämnen)</th>\n",
       "      <th>Genomsnittligt meritvärde F (16 ämnen)</th>\n",
       "      <th>Genomsnittligt meritvärde P (16 ämnen)</th>\n",
       "      <th>Genomsnittligt meritvärde Tot (17 ämnen)</th>\n",
       "      <th>Genomsnittligt meritvärde F (17 ämnen)</th>\n",
       "      <th>Genomsnittligt meritvärde P (17 ämnen)</th>\n",
       "      <th>(%) elever som saknar godkänt betyg i ett eller fler ämnen (Totalt)</th>\n",
       "      <th>(%) elever som saknar godkänt betyg i ett eller fler  ämnen (Flickor)</th>\n",
       "      <th>(%) elever som saknar godkänt betyg i ett eller fler  ämnen (Pojkar)</th>\n",
       "    </tr>\n",
       "  </thead>\n",
       "  <tbody>\n",
       "    <tr>\n",
       "      <th>0</th>\n",
       "      <td>2018/19</td>\n",
       "      <td>221.7</td>\n",
       "      <td>234.3</td>\n",
       "      <td>209.8</td>\n",
       "      <td>229.8</td>\n",
       "      <td>243.3</td>\n",
       "      <td>217.0</td>\n",
       "      <td>24.5</td>\n",
       "      <td>21.7</td>\n",
       "      <td>27.2</td>\n",
       "    </tr>\n",
       "    <tr>\n",
       "      <th>1</th>\n",
       "      <td>2019/20</td>\n",
       "      <td>222.9</td>\n",
       "      <td>235.7</td>\n",
       "      <td>210.9</td>\n",
       "      <td>231.1</td>\n",
       "      <td>244.9</td>\n",
       "      <td>218.2</td>\n",
       "      <td>23.9</td>\n",
       "      <td>21.4</td>\n",
       "      <td>26.3</td>\n",
       "    </tr>\n",
       "    <tr>\n",
       "      <th>2</th>\n",
       "      <td>2020/21</td>\n",
       "      <td>223.9</td>\n",
       "      <td>235.4</td>\n",
       "      <td>212.9</td>\n",
       "      <td>232.1</td>\n",
       "      <td>244.4</td>\n",
       "      <td>220.3</td>\n",
       "      <td>23.9</td>\n",
       "      <td>21.9</td>\n",
       "      <td>25.9</td>\n",
       "    </tr>\n",
       "    <tr>\n",
       "      <th>3</th>\n",
       "      <td>2021/22</td>\n",
       "      <td>221.2</td>\n",
       "      <td>231.6</td>\n",
       "      <td>211.4</td>\n",
       "      <td>229.2</td>\n",
       "      <td>240.3</td>\n",
       "      <td>218.8</td>\n",
       "      <td>25.9</td>\n",
       "      <td>24.2</td>\n",
       "      <td>27.5</td>\n",
       "    </tr>\n",
       "    <tr>\n",
       "      <th>4</th>\n",
       "      <td>2022/23</td>\n",
       "      <td>220.6</td>\n",
       "      <td>229.7</td>\n",
       "      <td>211.9</td>\n",
       "      <td>228.5</td>\n",
       "      <td>238.2</td>\n",
       "      <td>219.3</td>\n",
       "      <td>26.8</td>\n",
       "      <td>25.5</td>\n",
       "      <td>28.0</td>\n",
       "    </tr>\n",
       "  </tbody>\n",
       "</table>\n",
       "</div>"
      ],
      "text/plain": [
       "  Läsår/huvudman/Bakgrund  Genomsnittligt meritvärde Tot (16 ämnen)  \\\n",
       "0                 2018/19                                     221.7   \n",
       "1                 2019/20                                     222.9   \n",
       "2                 2020/21                                     223.9   \n",
       "3                 2021/22                                     221.2   \n",
       "4                 2022/23                                     220.6   \n",
       "\n",
       "   Genomsnittligt meritvärde F (16 ämnen)  \\\n",
       "0                                   234.3   \n",
       "1                                   235.7   \n",
       "2                                   235.4   \n",
       "3                                   231.6   \n",
       "4                                   229.7   \n",
       "\n",
       "   Genomsnittligt meritvärde P (16 ämnen)  \\\n",
       "0                                   209.8   \n",
       "1                                   210.9   \n",
       "2                                   212.9   \n",
       "3                                   211.4   \n",
       "4                                   211.9   \n",
       "\n",
       "    Genomsnittligt meritvärde Tot (17 ämnen)  \\\n",
       "0                                      229.8   \n",
       "1                                      231.1   \n",
       "2                                      232.1   \n",
       "3                                      229.2   \n",
       "4                                      228.5   \n",
       "\n",
       "   Genomsnittligt meritvärde F (17 ämnen)  \\\n",
       "0                                   243.3   \n",
       "1                                   244.9   \n",
       "2                                   244.4   \n",
       "3                                   240.3   \n",
       "4                                   238.2   \n",
       "\n",
       "   Genomsnittligt meritvärde P (17 ämnen)  \\\n",
       "0                                   217.0   \n",
       "1                                   218.2   \n",
       "2                                   220.3   \n",
       "3                                   218.8   \n",
       "4                                   219.3   \n",
       "\n",
       "   (%) elever som saknar godkänt betyg i ett eller fler ämnen (Totalt)  \\\n",
       "0                                               24.5                     \n",
       "1                                               23.9                     \n",
       "2                                               23.9                     \n",
       "3                                               25.9                     \n",
       "4                                               26.8                     \n",
       "\n",
       "   (%) elever som saknar godkänt betyg i ett eller fler  ämnen (Flickor)  \\\n",
       "0                                               21.7                       \n",
       "1                                               21.4                       \n",
       "2                                               21.9                       \n",
       "3                                               24.2                       \n",
       "4                                               25.5                       \n",
       "\n",
       "   (%) elever som saknar godkänt betyg i ett eller fler  ämnen (Pojkar)  \n",
       "0                                               27.2                     \n",
       "1                                               26.3                     \n",
       "2                                               25.9                     \n",
       "3                                               27.5                     \n",
       "4                                               28.0                     "
      ]
     },
     "execution_count": 15,
     "metadata": {},
     "output_type": "execute_result"
    }
   ],
   "source": [
    "file_path_betyg = (\"../Labb2/betyg_o_prov_riksnivå.xlsx\")\n",
    "\n",
    "\n",
    "df_betyg_T1a = pd.read_excel(file_path_betyg, sheet_name='Tabell 1A', skiprows=9)\n",
    "df_betyg_T1b = pd.read_excel(file_path_betyg, sheet_name='Tabell 1B', skiprows=7)\n",
    "\n",
    "df_betyg_T1a.columns = ['Läsår/huvudman/Bakgrund', 'Elever som avslutat åk 9 (Totalt)', 'Elever som avslutat åk 9 (Flickor)', 'Elever som avslutat åk 9 (Pojkar)', ' Med slutbetyg (Totalt)', \n",
    "                        'Med slutbetyg (Flickor)', 'Med slutbetyg (Pojkar)', 'Med godkända slutbetyg (Totalt)', \n",
    "                        'Med godkända slutbetyg (Flickor)', 'Med godkända slutbetyg (Pojkar)']\n",
    "df_betyg_T1a.replace('.', np.nan, inplace=True)\n",
    "\n",
    "df_betyg_T1b.columns = ['Läsår/huvudman/Bakgrund', 'Genomsnittligt meritvärde Tot (16 ämnen)', 'Genomsnittligt meritvärde F (16 ämnen)', 'Genomsnittligt meritvärde P (16 ämnen)', ' Genomsnittligt meritvärde Tot (17 ämnen)', \n",
    "                        'Genomsnittligt meritvärde F (17 ämnen)', 'Genomsnittligt meritvärde P (17 ämnen)', '(%) elever som saknar godkänt betyg i ett eller fler ämnen (Totalt)', \n",
    "                        '(%) elever som saknar godkänt betyg i ett eller fler  ämnen (Flickor)', '(%) elever som saknar godkänt betyg i ett eller fler  ämnen (Pojkar)']\n",
    "\n",
    "df_betyg_T1b.head()\n"
   ]
  },
  {
   "cell_type": "code",
   "execution_count": 44,
   "metadata": {},
   "outputs": [
    {
     "data": {
      "application/vnd.plotly.v1+json": {
       "config": {
        "plotlyServerURL": "https://plot.ly"
       },
       "data": [
        {
         "hovertemplate": "Grupp=Totalt (%)<br>Läsår=%{x}<br>Andel (%)=%{y}<extra></extra>",
         "legendgroup": "Totalt (%)",
         "line": {
          "color": "orangered",
          "dash": "solid"
         },
         "marker": {
          "symbol": "circle"
         },
         "mode": "lines+markers",
         "name": "Totalt (%)",
         "orientation": "v",
         "showlegend": true,
         "type": "scatter",
         "x": [
          "2018/19",
          "2019/20",
          "2020/21",
          "2021/22",
          "2022/23"
         ],
         "xaxis": "x",
         "y": [
          24.5,
          23.9,
          23.9,
          25.9,
          26.8
         ],
         "yaxis": "y"
        },
        {
         "hovertemplate": "Grupp=Flickor (%)<br>Läsår=%{x}<br>Andel (%)=%{y}<extra></extra>",
         "legendgroup": "Flickor (%)",
         "line": {
          "color": "indigo",
          "dash": "solid"
         },
         "marker": {
          "symbol": "circle"
         },
         "mode": "lines+markers",
         "name": "Flickor (%)",
         "orientation": "v",
         "showlegend": true,
         "type": "scatter",
         "x": [
          "2018/19",
          "2019/20",
          "2020/21",
          "2021/22",
          "2022/23"
         ],
         "xaxis": "x",
         "y": [
          21.7,
          21.4,
          21.9,
          24.2,
          25.5
         ],
         "yaxis": "y"
        },
        {
         "hovertemplate": "Grupp=Pojkar (%)<br>Läsår=%{x}<br>Andel (%)=%{y}<extra></extra>",
         "legendgroup": "Pojkar (%)",
         "line": {
          "color": "teal",
          "dash": "solid"
         },
         "marker": {
          "symbol": "circle"
         },
         "mode": "lines+markers",
         "name": "Pojkar (%)",
         "orientation": "v",
         "showlegend": true,
         "type": "scatter",
         "x": [
          "2018/19",
          "2019/20",
          "2020/21",
          "2021/22",
          "2022/23"
         ],
         "xaxis": "x",
         "y": [
          27.2,
          26.3,
          25.9,
          27.5,
          28
         ],
         "yaxis": "y"
        }
       ],
       "layout": {
        "legend": {
         "orientation": "h",
         "title": {
          "text": "Grupper"
         },
         "tracegroupgap": 0,
         "x": 1,
         "xanchor": "right",
         "y": 1.02,
         "yanchor": "bottom"
        },
        "paper_bgcolor": "white",
        "plot_bgcolor": "whitesmoke",
        "template": {
         "data": {
          "bar": [
           {
            "error_x": {
             "color": "#2a3f5f"
            },
            "error_y": {
             "color": "#2a3f5f"
            },
            "marker": {
             "line": {
              "color": "#E5ECF6",
              "width": 0.5
             },
             "pattern": {
              "fillmode": "overlay",
              "size": 10,
              "solidity": 0.2
             }
            },
            "type": "bar"
           }
          ],
          "barpolar": [
           {
            "marker": {
             "line": {
              "color": "#E5ECF6",
              "width": 0.5
             },
             "pattern": {
              "fillmode": "overlay",
              "size": 10,
              "solidity": 0.2
             }
            },
            "type": "barpolar"
           }
          ],
          "carpet": [
           {
            "aaxis": {
             "endlinecolor": "#2a3f5f",
             "gridcolor": "white",
             "linecolor": "white",
             "minorgridcolor": "white",
             "startlinecolor": "#2a3f5f"
            },
            "baxis": {
             "endlinecolor": "#2a3f5f",
             "gridcolor": "white",
             "linecolor": "white",
             "minorgridcolor": "white",
             "startlinecolor": "#2a3f5f"
            },
            "type": "carpet"
           }
          ],
          "choropleth": [
           {
            "colorbar": {
             "outlinewidth": 0,
             "ticks": ""
            },
            "type": "choropleth"
           }
          ],
          "contour": [
           {
            "colorbar": {
             "outlinewidth": 0,
             "ticks": ""
            },
            "colorscale": [
             [
              0,
              "#0d0887"
             ],
             [
              0.1111111111111111,
              "#46039f"
             ],
             [
              0.2222222222222222,
              "#7201a8"
             ],
             [
              0.3333333333333333,
              "#9c179e"
             ],
             [
              0.4444444444444444,
              "#bd3786"
             ],
             [
              0.5555555555555556,
              "#d8576b"
             ],
             [
              0.6666666666666666,
              "#ed7953"
             ],
             [
              0.7777777777777778,
              "#fb9f3a"
             ],
             [
              0.8888888888888888,
              "#fdca26"
             ],
             [
              1,
              "#f0f921"
             ]
            ],
            "type": "contour"
           }
          ],
          "contourcarpet": [
           {
            "colorbar": {
             "outlinewidth": 0,
             "ticks": ""
            },
            "type": "contourcarpet"
           }
          ],
          "heatmap": [
           {
            "colorbar": {
             "outlinewidth": 0,
             "ticks": ""
            },
            "colorscale": [
             [
              0,
              "#0d0887"
             ],
             [
              0.1111111111111111,
              "#46039f"
             ],
             [
              0.2222222222222222,
              "#7201a8"
             ],
             [
              0.3333333333333333,
              "#9c179e"
             ],
             [
              0.4444444444444444,
              "#bd3786"
             ],
             [
              0.5555555555555556,
              "#d8576b"
             ],
             [
              0.6666666666666666,
              "#ed7953"
             ],
             [
              0.7777777777777778,
              "#fb9f3a"
             ],
             [
              0.8888888888888888,
              "#fdca26"
             ],
             [
              1,
              "#f0f921"
             ]
            ],
            "type": "heatmap"
           }
          ],
          "heatmapgl": [
           {
            "colorbar": {
             "outlinewidth": 0,
             "ticks": ""
            },
            "colorscale": [
             [
              0,
              "#0d0887"
             ],
             [
              0.1111111111111111,
              "#46039f"
             ],
             [
              0.2222222222222222,
              "#7201a8"
             ],
             [
              0.3333333333333333,
              "#9c179e"
             ],
             [
              0.4444444444444444,
              "#bd3786"
             ],
             [
              0.5555555555555556,
              "#d8576b"
             ],
             [
              0.6666666666666666,
              "#ed7953"
             ],
             [
              0.7777777777777778,
              "#fb9f3a"
             ],
             [
              0.8888888888888888,
              "#fdca26"
             ],
             [
              1,
              "#f0f921"
             ]
            ],
            "type": "heatmapgl"
           }
          ],
          "histogram": [
           {
            "marker": {
             "pattern": {
              "fillmode": "overlay",
              "size": 10,
              "solidity": 0.2
             }
            },
            "type": "histogram"
           }
          ],
          "histogram2d": [
           {
            "colorbar": {
             "outlinewidth": 0,
             "ticks": ""
            },
            "colorscale": [
             [
              0,
              "#0d0887"
             ],
             [
              0.1111111111111111,
              "#46039f"
             ],
             [
              0.2222222222222222,
              "#7201a8"
             ],
             [
              0.3333333333333333,
              "#9c179e"
             ],
             [
              0.4444444444444444,
              "#bd3786"
             ],
             [
              0.5555555555555556,
              "#d8576b"
             ],
             [
              0.6666666666666666,
              "#ed7953"
             ],
             [
              0.7777777777777778,
              "#fb9f3a"
             ],
             [
              0.8888888888888888,
              "#fdca26"
             ],
             [
              1,
              "#f0f921"
             ]
            ],
            "type": "histogram2d"
           }
          ],
          "histogram2dcontour": [
           {
            "colorbar": {
             "outlinewidth": 0,
             "ticks": ""
            },
            "colorscale": [
             [
              0,
              "#0d0887"
             ],
             [
              0.1111111111111111,
              "#46039f"
             ],
             [
              0.2222222222222222,
              "#7201a8"
             ],
             [
              0.3333333333333333,
              "#9c179e"
             ],
             [
              0.4444444444444444,
              "#bd3786"
             ],
             [
              0.5555555555555556,
              "#d8576b"
             ],
             [
              0.6666666666666666,
              "#ed7953"
             ],
             [
              0.7777777777777778,
              "#fb9f3a"
             ],
             [
              0.8888888888888888,
              "#fdca26"
             ],
             [
              1,
              "#f0f921"
             ]
            ],
            "type": "histogram2dcontour"
           }
          ],
          "mesh3d": [
           {
            "colorbar": {
             "outlinewidth": 0,
             "ticks": ""
            },
            "type": "mesh3d"
           }
          ],
          "parcoords": [
           {
            "line": {
             "colorbar": {
              "outlinewidth": 0,
              "ticks": ""
             }
            },
            "type": "parcoords"
           }
          ],
          "pie": [
           {
            "automargin": true,
            "type": "pie"
           }
          ],
          "scatter": [
           {
            "fillpattern": {
             "fillmode": "overlay",
             "size": 10,
             "solidity": 0.2
            },
            "type": "scatter"
           }
          ],
          "scatter3d": [
           {
            "line": {
             "colorbar": {
              "outlinewidth": 0,
              "ticks": ""
             }
            },
            "marker": {
             "colorbar": {
              "outlinewidth": 0,
              "ticks": ""
             }
            },
            "type": "scatter3d"
           }
          ],
          "scattercarpet": [
           {
            "marker": {
             "colorbar": {
              "outlinewidth": 0,
              "ticks": ""
             }
            },
            "type": "scattercarpet"
           }
          ],
          "scattergeo": [
           {
            "marker": {
             "colorbar": {
              "outlinewidth": 0,
              "ticks": ""
             }
            },
            "type": "scattergeo"
           }
          ],
          "scattergl": [
           {
            "marker": {
             "colorbar": {
              "outlinewidth": 0,
              "ticks": ""
             }
            },
            "type": "scattergl"
           }
          ],
          "scattermapbox": [
           {
            "marker": {
             "colorbar": {
              "outlinewidth": 0,
              "ticks": ""
             }
            },
            "type": "scattermapbox"
           }
          ],
          "scatterpolar": [
           {
            "marker": {
             "colorbar": {
              "outlinewidth": 0,
              "ticks": ""
             }
            },
            "type": "scatterpolar"
           }
          ],
          "scatterpolargl": [
           {
            "marker": {
             "colorbar": {
              "outlinewidth": 0,
              "ticks": ""
             }
            },
            "type": "scatterpolargl"
           }
          ],
          "scatterternary": [
           {
            "marker": {
             "colorbar": {
              "outlinewidth": 0,
              "ticks": ""
             }
            },
            "type": "scatterternary"
           }
          ],
          "surface": [
           {
            "colorbar": {
             "outlinewidth": 0,
             "ticks": ""
            },
            "colorscale": [
             [
              0,
              "#0d0887"
             ],
             [
              0.1111111111111111,
              "#46039f"
             ],
             [
              0.2222222222222222,
              "#7201a8"
             ],
             [
              0.3333333333333333,
              "#9c179e"
             ],
             [
              0.4444444444444444,
              "#bd3786"
             ],
             [
              0.5555555555555556,
              "#d8576b"
             ],
             [
              0.6666666666666666,
              "#ed7953"
             ],
             [
              0.7777777777777778,
              "#fb9f3a"
             ],
             [
              0.8888888888888888,
              "#fdca26"
             ],
             [
              1,
              "#f0f921"
             ]
            ],
            "type": "surface"
           }
          ],
          "table": [
           {
            "cells": {
             "fill": {
              "color": "#EBF0F8"
             },
             "line": {
              "color": "white"
             }
            },
            "header": {
             "fill": {
              "color": "#C8D4E3"
             },
             "line": {
              "color": "white"
             }
            },
            "type": "table"
           }
          ]
         },
         "layout": {
          "annotationdefaults": {
           "arrowcolor": "#2a3f5f",
           "arrowhead": 0,
           "arrowwidth": 1
          },
          "autotypenumbers": "strict",
          "coloraxis": {
           "colorbar": {
            "outlinewidth": 0,
            "ticks": ""
           }
          },
          "colorscale": {
           "diverging": [
            [
             0,
             "#8e0152"
            ],
            [
             0.1,
             "#c51b7d"
            ],
            [
             0.2,
             "#de77ae"
            ],
            [
             0.3,
             "#f1b6da"
            ],
            [
             0.4,
             "#fde0ef"
            ],
            [
             0.5,
             "#f7f7f7"
            ],
            [
             0.6,
             "#e6f5d0"
            ],
            [
             0.7,
             "#b8e186"
            ],
            [
             0.8,
             "#7fbc41"
            ],
            [
             0.9,
             "#4d9221"
            ],
            [
             1,
             "#276419"
            ]
           ],
           "sequential": [
            [
             0,
             "#0d0887"
            ],
            [
             0.1111111111111111,
             "#46039f"
            ],
            [
             0.2222222222222222,
             "#7201a8"
            ],
            [
             0.3333333333333333,
             "#9c179e"
            ],
            [
             0.4444444444444444,
             "#bd3786"
            ],
            [
             0.5555555555555556,
             "#d8576b"
            ],
            [
             0.6666666666666666,
             "#ed7953"
            ],
            [
             0.7777777777777778,
             "#fb9f3a"
            ],
            [
             0.8888888888888888,
             "#fdca26"
            ],
            [
             1,
             "#f0f921"
            ]
           ],
           "sequentialminus": [
            [
             0,
             "#0d0887"
            ],
            [
             0.1111111111111111,
             "#46039f"
            ],
            [
             0.2222222222222222,
             "#7201a8"
            ],
            [
             0.3333333333333333,
             "#9c179e"
            ],
            [
             0.4444444444444444,
             "#bd3786"
            ],
            [
             0.5555555555555556,
             "#d8576b"
            ],
            [
             0.6666666666666666,
             "#ed7953"
            ],
            [
             0.7777777777777778,
             "#fb9f3a"
            ],
            [
             0.8888888888888888,
             "#fdca26"
            ],
            [
             1,
             "#f0f921"
            ]
           ]
          },
          "colorway": [
           "#636efa",
           "#EF553B",
           "#00cc96",
           "#ab63fa",
           "#FFA15A",
           "#19d3f3",
           "#FF6692",
           "#B6E880",
           "#FF97FF",
           "#FECB52"
          ],
          "font": {
           "color": "#2a3f5f"
          },
          "geo": {
           "bgcolor": "white",
           "lakecolor": "white",
           "landcolor": "#E5ECF6",
           "showlakes": true,
           "showland": true,
           "subunitcolor": "white"
          },
          "hoverlabel": {
           "align": "left"
          },
          "hovermode": "closest",
          "mapbox": {
           "style": "light"
          },
          "paper_bgcolor": "white",
          "plot_bgcolor": "#E5ECF6",
          "polar": {
           "angularaxis": {
            "gridcolor": "white",
            "linecolor": "white",
            "ticks": ""
           },
           "bgcolor": "#E5ECF6",
           "radialaxis": {
            "gridcolor": "white",
            "linecolor": "white",
            "ticks": ""
           }
          },
          "scene": {
           "xaxis": {
            "backgroundcolor": "#E5ECF6",
            "gridcolor": "white",
            "gridwidth": 2,
            "linecolor": "white",
            "showbackground": true,
            "ticks": "",
            "zerolinecolor": "white"
           },
           "yaxis": {
            "backgroundcolor": "#E5ECF6",
            "gridcolor": "white",
            "gridwidth": 2,
            "linecolor": "white",
            "showbackground": true,
            "ticks": "",
            "zerolinecolor": "white"
           },
           "zaxis": {
            "backgroundcolor": "#E5ECF6",
            "gridcolor": "white",
            "gridwidth": 2,
            "linecolor": "white",
            "showbackground": true,
            "ticks": "",
            "zerolinecolor": "white"
           }
          },
          "shapedefaults": {
           "line": {
            "color": "#2a3f5f"
           }
          },
          "ternary": {
           "aaxis": {
            "gridcolor": "white",
            "linecolor": "white",
            "ticks": ""
           },
           "baxis": {
            "gridcolor": "white",
            "linecolor": "white",
            "ticks": ""
           },
           "bgcolor": "#E5ECF6",
           "caxis": {
            "gridcolor": "white",
            "linecolor": "white",
            "ticks": ""
           }
          },
          "title": {
           "x": 0.05
          },
          "xaxis": {
           "automargin": true,
           "gridcolor": "white",
           "linecolor": "white",
           "ticks": "",
           "title": {
            "standoff": 15
           },
           "zerolinecolor": "white",
           "zerolinewidth": 2
          },
          "yaxis": {
           "automargin": true,
           "gridcolor": "white",
           "linecolor": "white",
           "ticks": "",
           "title": {
            "standoff": 15
           },
           "zerolinecolor": "white",
           "zerolinewidth": 2
          }
         }
        },
        "title": {
         "text": "Andel elever som saknar godkänt betyg i ett eller fler ämnen 2018-2023"
        },
        "xaxis": {
         "anchor": "y",
         "domain": [
          0,
          1
         ],
         "title": {
          "text": "Läsår"
         }
        },
        "yaxis": {
         "anchor": "x",
         "domain": [
          0,
          1
         ],
         "tickformat": ".1f",
         "title": {
          "text": "Andel (%) som saknar godkänt betyg"
         }
        }
       }
      }
     },
     "metadata": {},
     "output_type": "display_data"
    }
   ],
   "source": [
    "import plotly.express as px\n",
    "\n",
    "# Select relevant data: first 5 rows, columns for year and percentages\n",
    "df_focused = df_betyg_T1b.iloc[:5, [0, 7, 8, 9]].copy()\n",
    "\n",
    "# Rename columns for clarity in the plot\n",
    "df_focused.columns = ['Läsår', 'Totalt (%)', 'Flickor (%)', 'Pojkar (%)']\n",
    "\n",
    "\n",
    "\n",
    "# Create the linechart with Plotly with the new data\n",
    "fig = px.line(df_focused, x='Läsår', y=['Totalt (%)', 'Flickor (%)', 'Pojkar (%)'], \n",
    "              title=\"Andel elever som saknar godkänt betyg i ett eller fler ämnen 2018-2023\",\n",
    "              labels={\"value\": \"Andel (%)\", \"variable\": \"Grupp\"},\n",
    "              markers=True, # Add markers for each data point\n",
    "              color_discrete_map={ # Assign custom colors\n",
    "                  'Totalt (%)': 'orangered',  \n",
    "                  'Flickor (%)': 'indigo',  \n",
    "                  'Pojkar (%)': 'teal'  \n",
    "              })\n",
    "# Update the layout of the figure for a cleaner presentation\n",
    "\n",
    "fig.update_layout(yaxis_tickformat = '.1f', # Formats the y-axis ticks to show numbers with one decimal \n",
    "                  xaxis_title=\"Läsår\", \n",
    "                  yaxis_title=\"Andel (%) som saknar godkänt betyg\", \n",
    "                  legend=dict(title=\"Grupper\",orientation=\"h\",yanchor=\"bottom\",y=1.02,xanchor=\"right\",x=1), # Customizes the legend's appearance and position\n",
    "                  paper_bgcolor=\"white\", plot_bgcolor=\"whitesmoke\")\n",
    "fig.write_html(\"../Labb2/Visualiseringar/Andel_elever_saknar_betyg.html\")\n",
    "\n",
    "fig.show()\n"
   ]
  },
  {
   "cell_type": "markdown",
   "metadata": {},
   "source": [
    "## b.)"
   ]
  },
  {
   "cell_type": "code",
   "execution_count": null,
   "metadata": {},
   "outputs": [],
   "source": []
  }
 ],
 "metadata": {
  "kernelspec": {
   "display_name": "venv",
   "language": "python",
   "name": "python3"
  },
  "language_info": {
   "codemirror_mode": {
    "name": "ipython",
    "version": 3
   },
   "file_extension": ".py",
   "mimetype": "text/x-python",
   "name": "python",
   "nbconvert_exporter": "python",
   "pygments_lexer": "ipython3",
   "version": "3.11.7"
  }
 },
 "nbformat": 4,
 "nbformat_minor": 2
}
