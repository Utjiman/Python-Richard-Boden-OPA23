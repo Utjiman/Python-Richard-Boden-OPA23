{
 "cells": [
  {
   "cell_type": "markdown",
   "metadata": {},
   "source": [
    "# Exercise - file handling\n",
    "\n",
    "<div style=\"max-width: 66ch;\">\n",
    "\n",
    "---\n",
    "These are introductory exercises in Python with focus in **file handling**, which involves operations related to reading from and writing to files. This include processing and cleaning the files. \n",
    "\n",
    "<p class = \"alert alert-info\" role=\"alert\"><b>Remember</b> to use <b>descriptive variables</b> in order to get readable code </p>\n",
    "\n",
    "<p class = \"alert alert-info\" role=\"alert\"><b>Remember</b> to format your answers in a neat way using <b>f-strings</b>\n",
    "\n",
    "<p class = \"alert alert-info\" role=\"alert\"><b>Remember</b> to format your input questions in a pedagogical way to guide the user\n",
    "\n",
    "The number of stars (\\*), (\\*\\*), (\\*\\*\\*) denotes the difficulty level of the task\n",
    "\n",
    "---\n",
    "\n",
    "</div>"
   ]
  },
  {
   "cell_type": "markdown",
   "metadata": {},
   "source": [
    "<div style=\"max-width:66ch;\">\n",
    "\n",
    "## 0. Dice rolls (*)\n",
    "Create a textfile called **dice_rolls.txt** using Python. Also for each subtask, write adequate headers. \n",
    "\n",
    "&nbsp; a) &nbsp; Simulate 20 dice rolls and write them to your textfile. (*)\n",
    "\n",
    "&nbsp; b) &nbsp; Sort the dice rolls from a) and write them to a separate row in the same textfile. (*)\n",
    "\n",
    "&nbsp; c) &nbsp; Count the number of fours in the dice rolls and write them to a separate row in the same textfile. (*)\n",
    "\n",
    "---\n",
    "## 1. Test results (*)\n",
    "Read in the file test_result.txt (located in the data folder of this repo) in Python.\n",
    "\n",
    "[test_result]: https://github.com/kokchun/Programmering-med-Python-21/blob/main/Files/test_result.txt\n",
    "\n",
    "&nbsp; a) &nbsp; Print out the text in the terminal (*)\n",
    "\n",
    "&nbsp; b) &nbsp; Create new rows in the same file and write the people and their corresponding scores in alphabetical order. (*)\n",
    "\n",
    "&nbsp; c) &nbsp; Create additional rows in the same file and sort the people after their grades. The grade limits are: (**)\n",
    "\n",
    " <table style=\"display:inline-block; text-align:left;\">\n",
    "    <tr style=\"background-color: #174A7E; color: white;\">\n",
    "      <th>Grade</th>\n",
    "      <th>Range</th>\n",
    "    </tr>\n",
    "    <tr>\n",
    "      <td>F</td>\n",
    "      <td>&lt; 20</td>\n",
    "    </tr>\n",
    "    <tr>\n",
    "      <td>E</td>\n",
    "      <td>20-29</td>\n",
    "    </tr>\n",
    "    <tr>\n",
    "      <td>D</td>\n",
    "      <td>30-39</td>\n",
    "    </tr>\n",
    "    <tr>\n",
    "      <td>C</td>\n",
    "      <td>40-49</td>\n",
    "    </tr>\n",
    "    <tr>\n",
    "      <td>B</td>\n",
    "      <td>50-59</td>\n",
    "    </tr>\n",
    "    <tr>\n",
    "      <td>A</td>\n",
    "      <td>60-70</td>\n",
    "    </tr>\n",
    "  </table>\n",
    "\n",
    "---\n",
    "## 2. National test (*)\n",
    "Read in the file NPvt19Ma2A.txt and NPvt19Ma2C.txt (located in the data folder of this repo) in Python. Use **matplotlib** to plot pie charts for each grade categories in each file.\n",
    "\n",
    "---\n",
    "## 3. Dice roll experiment (**)\n",
    "Simulate 10, 100, 1000, 10000, 100000 dice rolls and count the freqencies and probabilities for each number in each simulation. Create a new text file using Python with the name \"simulation.txt\" and write the results to that text file.\n",
    "\n",
    "---\n",
    "\n",
    "</div>\n",
    "\n",
    "\n"
   ]
  },
  {
   "cell_type": "markdown",
   "metadata": {},
   "source": [
    "<div style=\"width: 66ch;\">\n",
    "\n",
    "\n",
    "</div>"
   ]
  },
  {
   "cell_type": "code",
   "execution_count": 23,
   "metadata": {},
   "outputs": [
    {
     "name": "stdout",
     "output_type": "stream",
     "text": [
      "Tärningskasten har sparats till C:/Users/utjis/OneDrive - Handelsakademin/Python-Github/Python-Richard-Boden-OPA23/Exercise/dice_rolls2.txt\n"
     ]
    }
   ],
   "source": [
    "#0.a)\n",
    "import random\n",
    "\n",
    "file_path = \"C:/Users/utjis/OneDrive - Handelsakademin/Python-Github/Python-Richard-Boden-OPA23/Exercise/dice_rolls2.txt\"\n",
    "\n",
    "random_rolls = [str(random.randint(1, 6)) for _ in range(20)]\n",
    "# Konvertera listan till en sträng där varje element separeras av en radbrytning\n",
    "rolls_str = \"\\n\".join(random_rolls)\n",
    "\n",
    "# Skriv hela strängen till filen\n",
    "with open(file_path, \"w\") as file:\n",
    "    file.write(rolls_str)\n",
    "\n",
    "print(f\"Tärningskasten har sparats till {file_path}\")\n"
   ]
  },
  {
   "cell_type": "code",
   "execution_count": 1,
   "metadata": {},
   "outputs": [
    {
     "name": "stdout",
     "output_type": "stream",
     "text": [
      "De sorterade tärningskasten och alla fyror på en separat rad har sparats till C:/Users/utjis/OneDrive - Handelsakademin/Python-Github/Python-Richard-Boden-OPA23/Exercise/dice_rolls2.txt\n"
     ]
    }
   ],
   "source": [
    "#0.b/c)\n",
    "import random\n",
    "\n",
    "file_path = \"C:/Users/utjis/OneDrive - Handelsakademin/Python-Github/Python-Richard-Boden-OPA23/Exercise/dice_rolls2.txt\"\n",
    "\n",
    "# Skapa en lista med 20 slumpmässiga tärningskast\n",
    "random_rolls = [random.randint(1, 6) for _ in range(20)]\n",
    "# Sortera listan\n",
    "sorted_rolls = sorted(random_rolls)\n",
    "# Beräkna hur många gånger 4 förekommer i den sorterade listan\n",
    "number_of_fours = sorted_rolls.count(4)\n",
    "\n",
    "# Konvertera den sorterade listan till en sträng där varje tärningskast separeras av ett mellanrum\n",
    "rolls_str = \" \".join(str(roll) for roll in sorted_rolls)\n",
    "\n",
    "# Skapa en sträng med enbart fyror, separerade med mellanrum\n",
    "fours_str = \" \".join([\"4\" for _ in range(number_of_fours)])\n",
    "\n",
    "# Skriv de sorterade tärningskasten på första raden och alla fyror på den andra raden till filen\n",
    "with open(file_path, \"w\") as file:\n",
    "    file.write(rolls_str + \"\\n\" + fours_str)\n",
    "\n",
    "print(f\"De sorterade tärningskasten och alla fyror på en separat rad har sparats till {file_path}\")\n"
   ]
  },
  {
   "cell_type": "code",
   "execution_count": null,
   "metadata": {},
   "outputs": [],
   "source": [
    "# 1.a)\n",
    "\n",
    "with open(\"C:/Users/utjis/OneDrive - Handelsakademin/Python-Github/Python-Richard-Boden-OPA23/Exercise/test_result.txt\") as file:\n",
    "    print(file.read())"
   ]
  },
  {
   "cell_type": "code",
   "execution_count": 18,
   "metadata": {},
   "outputs": [],
   "source": [
    "# 1. b)\n",
    "\n",
    "Filename = \"C:/Users/utjis/OneDrive - Handelsakademin/Python-Github/Python-Richard-Boden-OPA23/Exercise/test_result.txt\"\n",
    "\n",
    "with open(Filename, 'r') as file:\n",
    "    lines = file.readlines()\n",
    "\n",
    "\n",
    "original_list_of_names = lines.copy()\n",
    "\n",
    "sorted_lines = sorted(lines, key=lambda line: line.split(' ', 1)[0])\n",
    "\n",
    "with open(Filename, 'w') as file:\n",
    "    # Skriv först det ursprungliga innehållet\n",
    "    file.writelines(original_list_of_names)\n",
    "    # Skriv en avskiljare om du vill ha tydlig separation\n",
    "    file.write(\"\\n\\n\")\n",
    "    # Sedan, skriv det sorterade innehållet\n",
    "    file.writelines(sorted_lines)"
   ]
  }
 ],
 "metadata": {
  "kernelspec": {
   "display_name": "Python 3.9.6 64-bit",
   "language": "python",
   "name": "python3"
  },
  "language_info": {
   "codemirror_mode": {
    "name": "ipython",
    "version": 3
   },
   "file_extension": ".py",
   "mimetype": "text/x-python",
   "name": "python",
   "nbconvert_exporter": "python",
   "pygments_lexer": "ipython3",
   "version": "3.11.7"
  },
  "orig_nbformat": 4,
  "vscode": {
   "interpreter": {
    "hash": "0da836a34428266995a795f1e1e27b816fa1c02f148d9728b3fbbbc5459afca6"
   }
  }
 },
 "nbformat": 4,
 "nbformat_minor": 2
}
