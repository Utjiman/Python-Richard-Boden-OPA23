{
 "cells": [
  {
   "cell_type": "markdown",
   "metadata": {},
   "source": [
    "# Exercise - lists\n",
    "\n",
    "<div style=\"max-width: 66ch;\">\n",
    "\n",
    "---\n",
    "These are introductory exercises in Python with focus in **lists**, which is a data structure that allows you to store and organize a collection of items.\n",
    "\n",
    "<p class = \"alert alert-info\" role=\"alert\"><b>Remember</b> to use <b>descriptive variables</b> in order to get readable code </p>\n",
    "\n",
    "<p class = \"alert alert-info\" role=\"alert\"><b>Remember</b> to format your answers in a neat way using <b>f-strings</b>\n",
    "\n",
    "<p class = \"alert alert-info\" role=\"alert\"><b>Remember</b> to format your input questions in a pedagogical way to guide the user\n",
    "\n",
    "The number of stars (\\*), (\\*\\*), (\\*\\*\\*) denotes the difficulty level of the task\n",
    "\n",
    "---\n",
    "\n",
    "</div>"
   ]
  },
  {
   "cell_type": "code",
   "execution_count": 1,
   "metadata": {},
   "outputs": [
    {
     "data": {
      "text/plain": [
       "[50, 71, 34, 99, 77, 60, 58, 46, 94, 49]"
      ]
     },
     "execution_count": 1,
     "metadata": {},
     "output_type": "execute_result"
    }
   ],
   "source": [
    "#0. a)\n",
    "import random\n",
    "\n",
    "random_rolls = [random.randint(1, 100) for _ in range(10)]\n",
    "random_rolls"
   ]
  },
  {
   "cell_type": "markdown",
   "metadata": {},
   "source": [
    "<div style=\"max-width:66ch;\">\n",
    "\n",
    "## 0. Dice rolls (*)\n",
    "\n",
    "Simulate 10 dice rolls and **append** the rolls to a list or use **list comprehension**.\n",
    "\n",
    "&nbsp; a) &nbsp; sort the list in **ascending** order (*)\n",
    "\n",
    "&nbsp; b) &nbsp; sort the list in **descending** order (*)\n",
    "\n",
    "&nbsp; c) &nbsp; find the **maximum** and **minimum** value in the list (*)\n",
    "\n",
    "--- \n",
    "## 1. Food menu (*)\n",
    "\n",
    "Create a:  \n",
    "\n",
    "&nbsp; a) &nbsp; **list** with the following elements: \"vegetarisk lasagne\", \"spaghetti\", \"fisk\", \"grönsakssoppa\", \"pannkakor\". (*)\n",
    "\n",
    "&nbsp; b) &nbsp; **list** with the weekdays (*)\n",
    "\n",
    "&nbsp; c) &nbsp; create a food menu with each day corresponding to each food item and print it out. (*)\n",
    "\n",
    "\n",
    "--- \n",
    "## 2. Squares (*)\n",
    "\n",
    "&nbsp; a) &nbsp; Use **list comprehension** to create a list of squares from -10 to 10 (*)\n",
    "\n",
    "&nbsp; b) &nbsp; Plot this list using **matplotlib**. (*)\n",
    "\n",
    "---\n",
    "## 3. Chessboard (**)\n",
    "\n",
    "&nbsp; a) &nbsp; Create this list using **list comprehension**: (*)\n",
    "\n",
    "```python\n",
    "['A1', 'B1', 'C1', 'D1', 'E1', 'F1', 'G1', 'H1']\n",
    "```\n",
    "\n",
    "&nbsp; b) &nbsp; Create a 2D list to hold the coordinates in a chessboard. (**)\n",
    "\n",
    "---\n",
    "## 4. Dice rolls convergence (**)\n",
    "\n",
    "Simulate: \n",
    "\n",
    "&nbsp; a) &nbsp; 100 dice rolls and count the number of outcome six. (*)\n",
    "\n",
    "&nbsp; b) &nbsp; 10, 100, 1000, 10000, 100000, 1000000 dice rolls. Count the number of outcome six in each simulation and store it in a list. Compute the probability of outcome six in each simulation. (**)\n",
    "\n",
    "&nbsp; c) &nbsp; Use matplotlib to plot this list. (*)\n",
    "\n",
    "--- \n",
    "## 5. Monte Carlo simulation (**)\n",
    "\n",
    "&nbsp; a) Simulate 5000 uniformly distributed points between -1 and 1, $X\\sim U(-1,1)$. Now calculate the Euclidean distances between each point and the origin (0,0), $d_i = \\sqrt{x_i^2 + y_i^2}$. For $d_i < 1$ plot the point with one color, and for $d_i > 1$ plot the point in another color, $i = \\{1,\\ldots, 5000\\}$.  (**)\n",
    "\n",
    "&nbsp; b) Calculate the fraction between number of inner points and number of outer points. What do you this will converge to when number of points reaches infinity? (**)\n",
    "\n",
    "--- \n",
    "## 6. A cute rabbit among two ferocious snakes (**)\n",
    "\n",
    "There are three identical doors, behind two of them, there are ferocious snakes and behind one of them is a cute little rabbit. Your aim is to pick a door and get the cute rabbit. You start picking one door randomly and suddenly another door opens and snake slithers away *pssss*. Now you have a choice to either stay with your door or change to the remaining door. \n",
    "\n",
    "<img src=\"https://github.com/kokchun/assets/blob/main/python/snakes_rabbits.png?raw=true\" width = 200>\n",
    "\n",
    "&nbsp; a) What is your choice and why? (**)\n",
    "\n",
    "&nbsp; b) Randomly assign which door has the rabbit, and randomly pick an initial door. Now simulate 10, 100, 1000, 10000, 100000, 1000000 times for staying and for switching doors. Calculate the proportion of finding the rabbits for each set of simulations. Plot the results (**)\n",
    "\n",
    "\n",
    "</div>\n",
    "\n",
    "\n"
   ]
  },
  {
   "cell_type": "code",
   "execution_count": 9,
   "metadata": {},
   "outputs": [
    {
     "name": "stdout",
     "output_type": "stream",
     "text": [
      "[3, 5, 20, 27, 29, 48, 64, 77, 87, 91]\n",
      "[17, 25, 26, 41, 42, 44, 57, 62, 81, 81]\n"
     ]
    }
   ],
   "source": [
    "#0.a)\n",
    "import random\n",
    "\n",
    "random_rolls = [random.randint(1, 100) for _ in range(10)]# List comprehension\n",
    "random_rolls.sort()\n",
    "\n",
    "random_rolls2 = []\n",
    "for _ in range(10): # Vanlig for loop\n",
    "    roll = random.randint(1, 100)\n",
    "    random_rolls2.append(roll)\n",
    "random_rolls2.sort()\n",
    "\n",
    "print(random_rolls2)\n",
    "print(random_rolls)"
   ]
  },
  {
   "cell_type": "code",
   "execution_count": 9,
   "metadata": {},
   "outputs": [
    {
     "name": "stdout",
     "output_type": "stream",
     "text": [
      "[84, 82, 73, 65, 53, 42, 33, 29, 24, 4]\n"
     ]
    }
   ],
   "source": [
    "#0.b)\n",
    "import random\n",
    "\n",
    "random_rolls = [random.randint(1, 100) for _ in range(10)]\n",
    "random_rolls.sort(reverse=True)\n",
    "print(random_rolls)"
   ]
  },
  {
   "cell_type": "markdown",
   "metadata": {},
   "source": [
    "<div style=\"width: 66ch;\">\n",
    "\n",
    "\n",
    "</div>"
   ]
  },
  {
   "cell_type": "code",
   "execution_count": 10,
   "metadata": {},
   "outputs": [
    {
     "name": "stdout",
     "output_type": "stream",
     "text": [
      "[100, 98, 64, 61, 57, 27, 20, 17, 14, 9]\n",
      "100 14\n"
     ]
    }
   ],
   "source": [
    "#0.C)\n",
    "\n",
    "import random\n",
    "\n",
    "random_rolls = [random.randint(1, 100) for _ in range(10)]\n",
    "random_rolls.sort(reverse=True)\n",
    "print(random_rolls)\n",
    "print(random_rolls[0], random_rolls[-1])# Skriver ut högst och lägsta värdet i listan [0] är första [-1] är sista"
   ]
  },
  {
   "cell_type": "code",
   "execution_count": 31,
   "metadata": {},
   "outputs": [
    {
     "data": {
      "text/plain": [
       "['Vegetarisk lasagne', 'Spaghetti', 'Fisk', 'Grönsakssoppa', 'pannkakor']"
      ]
     },
     "execution_count": 31,
     "metadata": {},
     "output_type": "execute_result"
    }
   ],
   "source": [
    "#1.a)\n",
    "Mat = [\"Vegetarisk lasagne\", \"Spaghetti\", \"Fisk\", \"Grönsakssoppa\", \"Pannkakor\"]\n",
    "Mat"
   ]
  },
  {
   "cell_type": "code",
   "execution_count": 32,
   "metadata": {},
   "outputs": [
    {
     "data": {
      "text/plain": [
       "['monday', 'Tuesday', 'Wednesday', 'Thursday', 'Friday', 'Saturday', 'Sunday']"
      ]
     },
     "execution_count": 32,
     "metadata": {},
     "output_type": "execute_result"
    }
   ],
   "source": [
    "#1.b)\n",
    "Weekdays = [\"Monday\", \"Tuesday\", \"Wednesday\", \"Thursday\", \"Friday\"]\n",
    "Weekdays"
   ]
  },
  {
   "cell_type": "code",
   "execution_count": 33,
   "metadata": {},
   "outputs": [
    {
     "name": "stdout",
     "output_type": "stream",
     "text": [
      "monday: Vegetarisk lasagne\n",
      "Tuesday: Spaghetti\n",
      "Wednesday: Fisk\n",
      "Thursday: Grönsakssoppa\n",
      "Friday: pannkakor\n"
     ]
    }
   ],
   "source": [
    "#1.C)\n",
    "# zip(Weekdays, Mat) tar två listor som argument och \"zippar\" dem tillsammans. Det betyder att den skapar ett iteratorobjekt där varje element är ett par \n",
    "# (en tuple) bestående av korresponderande element från de två listorna.\n",
    "for days, food in zip(Weekdays, Mat): #\n",
    "    print(f\"{days}: {food}\")"
   ]
  },
  {
   "cell_type": "code",
   "execution_count": 35,
   "metadata": {},
   "outputs": [
    {
     "data": {
      "text/plain": [
       "[100, 81, 64, 49, 36, 25, 16, 9, 4, 1, 0, 1, 4, 9, 16, 25, 36, 49, 64, 81, 100]"
      ]
     },
     "execution_count": 35,
     "metadata": {},
     "output_type": "execute_result"
    }
   ],
   "source": [
    "# 2.a)\n",
    "# Skapar en lista med kvadraterna av talen från -10 till 10.\n",
    "Squares = [x**2 for x in range(-10, 11)]\n",
    "Squares"
   ]
  },
  {
   "cell_type": "code",
   "execution_count": 36,
   "metadata": {},
   "outputs": [
    {
     "data": {
      "text/plain": [
       "[<matplotlib.lines.Line2D at 0x1ef6071cf90>]"
      ]
     },
     "execution_count": 36,
     "metadata": {},
     "output_type": "execute_result"
    },
    {
     "data": {
      "image/png": "[encoded data removed]",
      "text/plain": [
       "<Figure size 640x480 with 1 Axes>"
      ]
     },
     "metadata": {},
     "output_type": "display_data"
    }
   ],
   "source": [
    "#2.b)\n",
    "import matplotlib.pyplot as plt\n",
    "\n",
    "plt.plot(Squares)\n"
   ]
  },
  {
   "cell_type": "code",
   "execution_count": 37,
   "metadata": {},
   "outputs": [
    {
     "data": {
      "text/plain": [
       "['A1', 'B1', 'C1', 'D1', 'E1', 'F1', 'G1', 'H1']"
      ]
     },
     "execution_count": 37,
     "metadata": {},
     "output_type": "execute_result"
    }
   ],
   "source": [
    "#3. a)\n",
    "# Varje bokstav i strängen \"ABCDEFGH\" genomgår en iteration, och för varje bokstav skapas en ny sträng \n",
    "# där bokstaven följs av siffran \"1\". Resultatet lagras i listan letters.\n",
    "\n",
    "letters = [f\"{letter}1\" for letter in \"ABCDEFGH\"]\n",
    "\n",
    "letters\n",
    "\n"
   ]
  },
  {
   "cell_type": "code",
   "execution_count": 2,
   "metadata": {},
   "outputs": [
    {
     "data": {
      "text/plain": [
       "[['A1', 'B1', 'C1', 'D1', 'E1', 'F1', 'G1', 'H1'],\n",
       " ['A2', 'B2', 'C2', 'D2', 'E2', 'F2', 'G2', 'H2'],\n",
       " ['A3', 'B3', 'C3', 'D3', 'E3', 'F3', 'G3', 'H3'],\n",
       " ['A4', 'B4', 'C4', 'D4', 'E4', 'F4', 'G4', 'H4'],\n",
       " ['A5', 'B5', 'C5', 'D5', 'E5', 'F5', 'G5', 'H5'],\n",
       " ['A6', 'B6', 'C6', 'D6', 'E6', 'F6', 'G6', 'H6'],\n",
       " ['A7', 'B7', 'C7', 'D7', 'E7', 'F7', 'G7', 'H7'],\n",
       " ['A8', 'B8', 'C8', 'D8', 'E8', 'F8', 'G8', 'H8']]"
      ]
     },
     "execution_count": 2,
     "metadata": {},
     "output_type": "execute_result"
    }
   ],
   "source": [
    "#3. b)\n",
    "# ord('A') och ord('H') konverterar bokstäverna 'A' och 'H' till deras ASCII-värden\n",
    "# range(ord('A'), ord('H')+1) skapar en sekvens av ASCII-värden från 'A' till 'H' (inklusive 'H').\n",
    "# chr(letter) konverterar ASCII-värden tillbaka till bokstäver.\n",
    "# f'{chr(letter)}{number}' kombinerar en bokstav med ett nummer för att representera varje ruta på schackbrädet.\n",
    "# Den yttre listkomprehensionen (for number in range(1, 9)) loopar över radnummer 1 till 8 och den inre listkomprehensionen \n",
    "# (for letter in range(ord('A'), ord('H')+1)) loopar över kolumnbokstäverna 'A' till 'H', \n",
    "# och på varje steg skapas en sträng som representerar en ruta på brädet.\n",
    "\n",
    "\n",
    "\n",
    "chessboard = [[f'{chr(letter)}{number}' for letter in range(ord('A'), ord('H')+1)] for number in range(1, 9)]\n",
    "chessboard"
   ]
  },
  {
   "cell_type": "code",
   "execution_count": 15,
   "metadata": {},
   "outputs": [
    {
     "data": {
      "text/plain": [
       "17"
      ]
     },
     "execution_count": 15,
     "metadata": {},
     "output_type": "execute_result"
    }
   ],
   "source": [
    "#4 .a)\n",
    "# 100 dice rolls and count the number of outcome six. (*)\n",
    "import random\n",
    "\n",
    "dice_rolls = [random.randint(1, 6) for _ in range(100)]\n",
    "\n",
    "dice_rolls.count(6)\n"
   ]
  },
  {
   "cell_type": "code",
   "execution_count": 26,
   "metadata": {},
   "outputs": [
    {
     "name": "stdout",
     "output_type": "stream",
     "text": [
      "Antal sexor vid 10 simuleringar: 1\n",
      "Antal sexor vid 100 simuleringar: 20\n",
      "Antal sexor vid 1000 simuleringar: 171\n",
      "Antal sexor vid 10000 simuleringar: 1698\n",
      "Antal sexor vid 100000 simuleringar: 16480\n",
      "Antal sexor vid 1000000 simuleringar: 166781\n"
     ]
    }
   ],
   "source": [
    "#4 .b)\n",
    "# 10, 100, 1000, 10000, 100000, 1000000 dice rolls. Count the number of outcome six in each simulation\n",
    "# and store it in a list. Compute the probability of outcome six in each simulation. (**)\n",
    "import random\n",
    "\n",
    "# Antal simuleringar för varje steg\n",
    "simulations = [10, 100, 1000, 10000, 100000, 1000000]\n",
    "\n",
    "# Utför tärningskast och räkna antalet sexor för varje simulering\n",
    "sixes_count = [sum(random.randint(1, 6) == 6 for _ in range(num_simulations)) for num_simulations in simulations]\n",
    "\n",
    "# Skriv ut resultatet\n",
    "for i in range(len(simulations)):\n",
    "    print(f\"Antal sexor vid {simulations[i]} simuleringar: {sixes_count[i]}\")\n"
   ]
  },
  {
   "cell_type": "code",
   "execution_count": 32,
   "metadata": {},
   "outputs": [
    {
     "name": "stderr",
     "output_type": "stream",
     "text": [
      "No artists with labels found to put in legend.  Note that artists whose label start with an underscore are ignored when legend() is called with no argument.\n"
     ]
    },
    {
     "data": {
      "text/plain": [
       "<matplotlib.legend.Legend at 0x163dd55aed0>"
      ]
     },
     "execution_count": 32,
     "metadata": {},
     "output_type": "execute_result"
    },
    {
     "data": {
      "image/png": "[encoded data removed]",
      "text/plain": [
       "<Figure size 640x480 with 1 Axes>"
      ]
     },
     "metadata": {},
     "output_type": "display_data"
    }
   ],
   "source": [
    "import matplotlib.pyplot as plt\n",
    "plt.plot(sixes_count)\n",
    "plt.xlabel('blabla')\n",
    "plt.ylabel('Number of 6')\n",
    "plt.title('Dice throws')\n"
   ]
  },
  {
   "cell_type": "code",
   "execution_count": null,
   "metadata": {},
   "outputs": [],
   "source": [
    "#5. a)\n",
    "\n"
   ]
  },
  {
   "cell_type": "markdown",
   "metadata": {},
   "source": [
    "<div style=\"background-color: #FFF; color: #212121; border-radius: 20px; width:25ch; box-shadow: rgba(0, 0, 0, 0.16) 0px 1px 4px; display: flex; justify-content: center; align-items: center;\">\n",
    "<div style=\"padding: 1em; width: 60%;\">\n",
    "    <h2 style=\"font-size: 1.2rem;\">Kokchun Giang</h2>\n",
    "    <a href=\"https://www.linkedin.com/in/kokchungiang/\" target=\"_blank\" style=\"display: flex; align-items: center; gap: .4em; color:#0A66C2;\">\n",
    "        <img src=\"https://content.linkedin.com/content/dam/me/business/en-us/amp/brand-site/v2/bg/LI-Bug.svg.original.svg\" width=\"20\"> \n",
    "        LinkedIn profile\n",
    "    </a>\n",
    "    <a href=\"https://github.com/kokchun/Portfolio-Kokchun-Giang\" target=\"_blank\" style=\"display: flex; align-items: center; gap: .4em; margin: 1em 0; color:#0A66C2;\">\n",
    "        <img src=\"https://github.githubassets.com/images/modules/logos_page/GitHub-Mark.png\" width=\"20\"> \n",
    "        Github portfolio\n",
    "    </a>\n",
    "    <span>AIgineer AB</span>\n",
    "    <div>\n",
    "</div>"
   ]
  }
 ],
 "metadata": {
  "kernelspec": {
   "display_name": "Python 3.9.6 64-bit",
   "language": "python",
   "name": "python3"
  },
  "language_info": {
   "codemirror_mode": {
    "name": "ipython",
    "version": 3
   },
   "file_extension": ".py",
   "mimetype": "text/x-python",
   "name": "python",
   "nbconvert_exporter": "python",
   "pygments_lexer": "ipython3",
   "version": "3.11.7"
  },
  "orig_nbformat": 4,
  "vscode": {
   "interpreter": {
    "hash": "0da836a34428266995a795f1e1e27b816fa1c02f148d9728b3fbbbc5459afca6"
   }
  }
 },
 "nbformat": 4,
 "nbformat_minor": 2
}
