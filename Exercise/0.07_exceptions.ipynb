{
 "cells": [
  {
   "cell_type": "markdown",
   "metadata": {},
   "source": [
    "# Exercise - exceptions and error handling\n",
    "\n",
    "<div style=\"max-width: 66ch;\">\n",
    "\n",
    "---\n",
    "These are introductory exercises in Python with focus in **error handling**, which refers to the process of anticipating, detecting, and responding to errors that may occur during the execution of a program.  \n",
    "\n",
    "<p class = \"alert alert-info\" role=\"alert\"><b>Remember</b> to use <b>descriptive variables</b> in order to get readable code </p>\n",
    "\n",
    "<p class = \"alert alert-info\" role=\"alert\"><b>Remember</b> to format your answers in a neat way using <b>f-strings</b>\n",
    "\n",
    "<p class = \"alert alert-info\" role=\"alert\"><b>Remember</b> to format your input questions in a pedagogical way to guide the user\n",
    "\n",
    "The number of stars (\\*), (\\*\\*), (\\*\\*\\*) denotes the difficulty level of the task\n",
    "\n",
    "---\n",
    "\n",
    "</div>"
   ]
  },
  {
   "cell_type": "code",
   "execution_count": 6,
   "metadata": {},
   "outputs": [
    {
     "name": "stdout",
     "output_type": "stream",
     "text": [
      "1.0\n"
     ]
    }
   ],
   "source": [
    "#0.)\n",
    "import numpy as np\n",
    "\n",
    "def distance(x,y):\n",
    "    return np.sqrt(x+y)\n",
    "\n",
    "print(distance(0.5, 0.5))"
   ]
  },
  {
   "cell_type": "code",
   "execution_count": 1,
   "metadata": {},
   "outputs": [
    {
     "name": "stdout",
     "output_type": "stream",
     "text": [
      "231 is not four-digit\n",
      "3124 is four-digit\n",
      "-4124 is four-digit\n",
      "-1000 is four-digit\n",
      "-999 is not four-digit\n",
      "1001 is four-digit\n",
      "10000 is not four-digit\n",
      "-10000 is not four-digit\n",
      "999 is not four-digit\n"
     ]
    }
   ],
   "source": [
    "#1.)\n",
    "\n",
    "def is_fourdigit(number):\n",
    "    if 1000 <= abs(number) <= 9999:\n",
    "        return True\n",
    "    else: \n",
    "        return False\n",
    "\n",
    "# test program\n",
    "test_numbers = [231, 3124, -4124, -1000,-999, 1001, 10000, -10000, 999]\n",
    "\n",
    "for number in test_numbers:\n",
    "    if is_fourdigit(number):\n",
    "        print(f\"{number} is four-digit\")\n",
    "    else:\n",
    "        print(f\"{number} is not four-digit\")"
   ]
  },
  {
   "cell_type": "code",
   "execution_count": 9,
   "metadata": {},
   "outputs": [
    {
     "name": "stdout",
     "output_type": "stream",
     "text": [
      "Please enter a positive number for the times you plan to take the tram.\n"
     ]
    }
   ],
   "source": [
    "def worth_it(times):\n",
    "    one_ticket = 100\n",
    "    monthly_ticket = 1500\n",
    "    \n",
    "    try:\n",
    "        times = int(times)  # Attempt to convert the input to an integer\n",
    "        if times < 0:\n",
    "            print(\"Please enter a positive number for the times you plan to take the tram.\")\n",
    "            return\n",
    "    except ValueError:\n",
    "        print(\"Invalid input. Please enter a number.\")\n",
    "        return\n",
    "    \n",
    "    total_cost = times * one_ticket  # Calculate the total cost of individual tickets\n",
    "    if total_cost > monthly_ticket:  # Compare the total cost with the monthly ticket price\n",
    "        print(f\"It's more worth buying a monthly ticket for {monthly_ticket} than buying individual tickets {times} times.\")\n",
    "    else:\n",
    "        print(f\"Go ahead and pay {one_ticket} per ticket, it's cheaper than buying a monthly ticket.\")\n",
    "\n",
    "\n",
    "times_input = input(\"How many times do you want to take the tram in a month?: \")\n",
    "worth_it(times_input)\n",
    "\n",
    "\n",
    "\n"
   ]
  },
  {
   "cell_type": "markdown",
   "metadata": {},
   "source": [
    "<div style=\"max-width:66ch;\">\n",
    "\n",
    "## 0. Find and fix errors (*)\n",
    "\n",
    "Find the errors in this code to compute the distance between the point $(x,y)$ and the origin in a cartesian coordinate system.\n",
    "\n",
    "```python\n",
    "impor numpy as np\n",
    "\n",
    "def distance(x,y)\n",
    "    reurn np.sqrt(x+y)\n",
    "\n",
    "print(distance([0.5, 0.5]))\n",
    "\n",
    "```\n",
    "\n",
    "\n",
    "---\n",
    "## 1. Find and fix errors (*)\n",
    "\n",
    "Find the errors in this code. Just change the function, don't touch the test program.\n",
    "\n",
    "```python\n",
    "\n",
    "def is_fourdigit(number):\n",
    "    if number//1000 < 10\n",
    "        return true\n",
    "    else \n",
    "        return false\n",
    "\n",
    "# test program\n",
    "test_numbers = [231, 3124, -4124, -1000,-999, 1001, 10000, -10000, 999]\n",
    "\n",
    "for number in test_numbers:\n",
    "    if is_fourdigit(number):\n",
    "        print(f\"{number} is four-digit\")\n",
    "    else:\n",
    "        print(f\"{number} is not four-digit\")\n",
    "\n",
    "```\n",
    "\n",
    "---\n",
    "## 2. Tram (*)\n",
    "\n",
    "Kokchun is a **clumpsy** computer user that doesn't take trams too often. Write a program to prompt the user for: \n",
    "- number of times he/she wants to take tram in one month\n",
    "- cost for one ticket\n",
    "- cost for monthly card\n",
    "\n",
    "The program should calculate if it's worth for him to buy  monthly card or not. Make the program user friendly with clear error messages and ask again in case of input errors. \n",
    "\n",
    "---\n",
    "\n",
    "</div>\n",
    "\n",
    "\n"
   ]
  },
  {
   "cell_type": "markdown",
   "metadata": {},
   "source": [
    "<div style=\"width: 66ch;\">\n",
    "\n",
    "\n",
    "</div>"
   ]
  },
  {
   "cell_type": "markdown",
   "metadata": {},
   "source": [
    "<div style=\"background-color: #FFF; color: #212121; border-radius: 20px; width:25ch; box-shadow: rgba(0, 0, 0, 0.16) 0px 1px 4px; display: flex; justify-content: center; align-items: center;\">\n",
    "<div style=\"padding: 1em; width: 60%;\">\n",
    "    <h2 style=\"font-size: 1.2rem;\">Kokchun Giang</h2>\n",
    "    <a href=\"https://www.linkedin.com/in/kokchungiang/\" target=\"_blank\" style=\"display: flex; align-items: center; gap: .4em; color:#0A66C2;\">\n",
    "        <img src=\"https://content.linkedin.com/content/dam/me/business/en-us/amp/brand-site/v2/bg/LI-Bug.svg.original.svg\" width=\"20\"> \n",
    "        LinkedIn profile\n",
    "    </a>\n",
    "    <a href=\"https://github.com/kokchun/Portfolio-Kokchun-Giang\" target=\"_blank\" style=\"display: flex; align-items: center; gap: .4em; margin: 1em 0; color:#0A66C2;\">\n",
    "        <img src=\"https://github.githubassets.com/images/modules/logos_page/GitHub-Mark.png\" width=\"20\"> \n",
    "        Github portfolio\n",
    "    </a>\n",
    "    <span>AIgineer AB</span>\n",
    "    <div>\n",
    "</div>"
   ]
  }
 ],
 "metadata": {
  "kernelspec": {
   "display_name": "Python 3.9.6 64-bit",
   "language": "python",
   "name": "python3"
  },
  "language_info": {
   "codemirror_mode": {
    "name": "ipython",
    "version": 3
   },
   "file_extension": ".py",
   "mimetype": "text/x-python",
   "name": "python",
   "nbconvert_exporter": "python",
   "pygments_lexer": "ipython3",
   "version": "3.11.7"
  },
  "orig_nbformat": 4,
  "vscode": {
   "interpreter": {
    "hash": "0da836a34428266995a795f1e1e27b816fa1c02f148d9728b3fbbbc5459afca6"
   }
  }
 },
 "nbformat": 4,
 "nbformat_minor": 2
}
