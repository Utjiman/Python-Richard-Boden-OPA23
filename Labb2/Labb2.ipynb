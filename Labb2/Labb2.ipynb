{
 "cells": [
  {
   "cell_type": "markdown",
   "metadata": {},
   "source": [
    "### Uppgift 0 - uppvärmning med riket\n",
    "- 0.a) Börja med att läsa in filen riket2023_åk9_np.xlsx och sheets för de olika ämnena. Ändra kolumnnamnen på\n",
    "respektive dataframe så du får något liknande som nedan.\n",
    "\n",
    "- Import and read the excel file.\n",
    "\n"
   ]
  },
  {
   "cell_type": "code",
   "execution_count": 1,
   "metadata": {},
   "outputs": [],
   "source": [
    "import pandas as pd\n",
    "\n",
    "\n",
    "file_path_riket = (\"../Labb2/riket2023_åk9_np.xlsx\")\n",
    "\n",
    "# Read the different sheets from the Excel file, skipping the first 8 rows, and store it in a DataFrame.\n",
    "df_riket_engelska = pd.read_excel(file_path_riket, sheet_name='Engelska', skiprows=8)\n",
    "df_riket_matematik = pd.read_excel(file_path_riket, sheet_name='Matematik', skiprows=8)\n",
    "df_riket_svenska = pd.read_excel(file_path_riket, sheet_name='Svenska', skiprows=8)\n",
    "df_riket_andra_språk = pd.read_excel(file_path_riket, sheet_name='Svenska som andraspråk', skiprows=8)\n",
    "\n"
   ]
  },
  {
   "cell_type": "markdown",
   "metadata": {},
   "source": [
    "## Name change columns\n",
    "\n",
    "- 0.a) \n",
    "\n",
    "- Rename columns "
   ]
  },
  {
   "cell_type": "code",
   "execution_count": 2,
   "metadata": {},
   "outputs": [
    {
     "data": {
      "text/html": [
       "<div>\n",
       "<style scoped>\n",
       "    .dataframe tbody tr th:only-of-type {\n",
       "        vertical-align: middle;\n",
       "    }\n",
       "\n",
       "    .dataframe tbody tr th {\n",
       "        vertical-align: top;\n",
       "    }\n",
       "\n",
       "    .dataframe thead th {\n",
       "        text-align: right;\n",
       "    }\n",
       "</style>\n",
       "<table border=\"1\" class=\"dataframe\">\n",
       "  <thead>\n",
       "    <tr style=\"text-align: right;\">\n",
       "      <th></th>\n",
       "      <th>Plats</th>\n",
       "      <th>Huvudman</th>\n",
       "      <th>Totalt (A-F)</th>\n",
       "      <th>Flickor (A-F)</th>\n",
       "      <th>Pojkar (A-F)</th>\n",
       "      <th>Totalt (A-E)</th>\n",
       "      <th>Flickor (A-E)</th>\n",
       "      <th>Pojkar (A-E)</th>\n",
       "      <th>Totalt (Poäng)</th>\n",
       "      <th>Flickor (Poäng)</th>\n",
       "      <th>Pojkar (Poäng)</th>\n",
       "    </tr>\n",
       "  </thead>\n",
       "  <tbody>\n",
       "    <tr>\n",
       "      <th>0</th>\n",
       "      <td>Riket</td>\n",
       "      <td>Samtliga</td>\n",
       "      <td>106766</td>\n",
       "      <td>51548</td>\n",
       "      <td>55218</td>\n",
       "      <td>89.1</td>\n",
       "      <td>88.7</td>\n",
       "      <td>89.5</td>\n",
       "      <td>11.9</td>\n",
       "      <td>11.8</td>\n",
       "      <td>12.0</td>\n",
       "    </tr>\n",
       "    <tr>\n",
       "      <th>1</th>\n",
       "      <td>Riket</td>\n",
       "      <td>Kommunal</td>\n",
       "      <td>84163</td>\n",
       "      <td>40386</td>\n",
       "      <td>43777</td>\n",
       "      <td>88.1</td>\n",
       "      <td>87.7</td>\n",
       "      <td>88.5</td>\n",
       "      <td>11.6</td>\n",
       "      <td>11.5</td>\n",
       "      <td>11.7</td>\n",
       "    </tr>\n",
       "    <tr>\n",
       "      <th>2</th>\n",
       "      <td>Riket</td>\n",
       "      <td>Enskild</td>\n",
       "      <td>22553</td>\n",
       "      <td>11137</td>\n",
       "      <td>11416</td>\n",
       "      <td>92.9</td>\n",
       "      <td>92.2</td>\n",
       "      <td>93.5</td>\n",
       "      <td>13.0</td>\n",
       "      <td>12.8</td>\n",
       "      <td>13.1</td>\n",
       "    </tr>\n",
       "    <tr>\n",
       "      <th>3</th>\n",
       "      <td>Riket</td>\n",
       "      <td>Skolverket</td>\n",
       "      <td>50</td>\n",
       "      <td>25</td>\n",
       "      <td>25</td>\n",
       "      <td>~100</td>\n",
       "      <td>~100</td>\n",
       "      <td>~100</td>\n",
       "      <td>14.1</td>\n",
       "      <td>13.5</td>\n",
       "      <td>14.7</td>\n",
       "    </tr>\n",
       "  </tbody>\n",
       "</table>\n",
       "</div>"
      ],
      "text/plain": [
       "   Plats    Huvudman  Totalt (A-F)  Flickor (A-F)   Pojkar (A-F) Totalt (A-E)  \\\n",
       "0  Riket    Samtliga        106766          51548          55218         89.1   \n",
       "1  Riket    Kommunal         84163          40386          43777         88.1   \n",
       "2  Riket     Enskild         22553          11137          11416         92.9   \n",
       "3  Riket  Skolverket            50             25             25         ~100   \n",
       "\n",
       "  Flickor (A-E) Pojkar (A-E)  Totalt (Poäng)  Flickor (Poäng)  Pojkar (Poäng)  \n",
       "0          88.7         89.5            11.9             11.8            12.0  \n",
       "1          87.7         88.5            11.6             11.5            11.7  \n",
       "2          92.2         93.5            13.0             12.8            13.1  \n",
       "3          ~100         ~100            14.1             13.5            14.7  "
      ]
     },
     "execution_count": 2,
     "metadata": {},
     "output_type": "execute_result"
    }
   ],
   "source": [
    "# Changing names on columns\n",
    "df_riket_engelska.columns = ['Plats', 'Huvudman', 'Totalt (A-F)', 'Flickor (A-F)', ' Pojkar (A-F)', 'Totalt (A-E)', 'Flickor (A-E)', 'Pojkar (A-E)', 'Totalt (Poäng)', 'Flickor (Poäng)', 'Pojkar (Poäng)']\n",
    "df_riket_matematik.columns = ['Plats', 'Huvudman', 'Totalt (A-F)', 'Flickor (A-F)', ' Pojkar (A-F)', 'Totalt (A-E)', 'Flickor (A-E)', 'Pojkar (A-E)', 'Totalt (Poäng)', 'Flickor (Poäng)', 'Pojkar (Poäng)']\n",
    "df_riket_svenska.columns = ['Plats', 'Huvudman', 'Totalt (A-F)', 'Flickor (A-F)', ' Pojkar (A-F)', 'Totalt (A-E)', 'Flickor (A-E)', 'Pojkar (A-E)', 'Totalt (Poäng)', 'Flickor (Poäng)', 'Pojkar (Poäng)']\n",
    "df_riket_andra_språk.columns = ['Plats', 'Huvudman', 'Totalt (A-F)', 'Flickor (A-F)', ' Pojkar (A-F)', 'Totalt (A-E)', 'Flickor (A-E)', 'Pojkar (A-E)', 'Totalt (Poäng)', 'Flickor (Poäng)', 'Pojkar (Poäng)']\n",
    "\n",
    "df_riket_matematik"
   ]
  },
  {
   "cell_type": "markdown",
   "metadata": {},
   "source": [
    "### F in mathematics \n",
    "\n",
    "- 0.b) Ta reda på antalet som fått F i matematik totalt, pojkar respektive flickor.\n",
    "\n",
    "- This code prepares a DataFrame for analysis of F grades in mathematics by copying and cleaning the original data, standardizing specific values, converting certain columns to numeric type, \n",
    "- calculating the number of girls and boys with F grades, and summing these to get the total number of students with F grades.\n"
   ]
  },
  {
   "cell_type": "code",
   "execution_count": 3,
   "metadata": {},
   "outputs": [
    {
     "name": "stderr",
     "output_type": "stream",
     "text": [
      "C:\\Users\\utjis\\AppData\\Local\\Temp\\ipykernel_18256\\3816872280.py:8: FutureWarning: Downcasting behavior in `replace` is deprecated and will be removed in a future version. To retain the old behavior, explicitly call `result.infer_objects(copy=False)`. To opt-in to the future behavior, set `pd.set_option('future.no_silent_downcasting', True)`\n",
      "  df_f_math.replace('~100', 100, inplace=True)\n"
     ]
    },
    {
     "data": {
      "text/html": [
       "<div>\n",
       "<style scoped>\n",
       "    .dataframe tbody tr th:only-of-type {\n",
       "        vertical-align: middle;\n",
       "    }\n",
       "\n",
       "    .dataframe tbody tr th {\n",
       "        vertical-align: top;\n",
       "    }\n",
       "\n",
       "    .dataframe thead th {\n",
       "        text-align: right;\n",
       "    }\n",
       "</style>\n",
       "<table border=\"1\" class=\"dataframe\">\n",
       "  <thead>\n",
       "    <tr style=\"text-align: right;\">\n",
       "      <th></th>\n",
       "      <th>Plats</th>\n",
       "      <th>Huvudman</th>\n",
       "      <th>Totalt (A-F)</th>\n",
       "      <th>Flickor (A-F)</th>\n",
       "      <th>Pojkar (A-F)</th>\n",
       "      <th>Totalt (A-E)</th>\n",
       "      <th>Flickor (A-E)</th>\n",
       "      <th>Pojkar (A-E)</th>\n",
       "      <th>Totalt (Poäng)</th>\n",
       "      <th>Flickor (Poäng)</th>\n",
       "      <th>Pojkar (Poäng)</th>\n",
       "      <th>Flickor (F)</th>\n",
       "      <th>Pojkar (F)</th>\n",
       "      <th>Totalt (F)</th>\n",
       "    </tr>\n",
       "  </thead>\n",
       "  <tbody>\n",
       "    <tr>\n",
       "      <th>0</th>\n",
       "      <td>Riket</td>\n",
       "      <td>Samtliga</td>\n",
       "      <td>106766</td>\n",
       "      <td>51548</td>\n",
       "      <td>55218</td>\n",
       "      <td>89.1</td>\n",
       "      <td>88.7</td>\n",
       "      <td>89.5</td>\n",
       "      <td>11.9</td>\n",
       "      <td>11.8</td>\n",
       "      <td>12.0</td>\n",
       "      <td>5825.0</td>\n",
       "      <td>5798.0</td>\n",
       "      <td>11623.0</td>\n",
       "    </tr>\n",
       "    <tr>\n",
       "      <th>1</th>\n",
       "      <td>Riket</td>\n",
       "      <td>Kommunal</td>\n",
       "      <td>84163</td>\n",
       "      <td>40386</td>\n",
       "      <td>43777</td>\n",
       "      <td>88.1</td>\n",
       "      <td>87.7</td>\n",
       "      <td>88.5</td>\n",
       "      <td>11.6</td>\n",
       "      <td>11.5</td>\n",
       "      <td>11.7</td>\n",
       "      <td>4967.0</td>\n",
       "      <td>5034.0</td>\n",
       "      <td>10001.0</td>\n",
       "    </tr>\n",
       "    <tr>\n",
       "      <th>2</th>\n",
       "      <td>Riket</td>\n",
       "      <td>Enskild</td>\n",
       "      <td>22553</td>\n",
       "      <td>11137</td>\n",
       "      <td>11416</td>\n",
       "      <td>92.9</td>\n",
       "      <td>92.2</td>\n",
       "      <td>93.5</td>\n",
       "      <td>13.0</td>\n",
       "      <td>12.8</td>\n",
       "      <td>13.1</td>\n",
       "      <td>869.0</td>\n",
       "      <td>742.0</td>\n",
       "      <td>1611.0</td>\n",
       "    </tr>\n",
       "    <tr>\n",
       "      <th>3</th>\n",
       "      <td>Riket</td>\n",
       "      <td>Skolverket</td>\n",
       "      <td>50</td>\n",
       "      <td>25</td>\n",
       "      <td>25</td>\n",
       "      <td>100.0</td>\n",
       "      <td>100.0</td>\n",
       "      <td>100.0</td>\n",
       "      <td>14.1</td>\n",
       "      <td>13.5</td>\n",
       "      <td>14.7</td>\n",
       "      <td>0.0</td>\n",
       "      <td>0.0</td>\n",
       "      <td>0.0</td>\n",
       "    </tr>\n",
       "  </tbody>\n",
       "</table>\n",
       "</div>"
      ],
      "text/plain": [
       "   Plats    Huvudman  Totalt (A-F)  Flickor (A-F)  Pojkar (A-F)  Totalt (A-E)  \\\n",
       "0  Riket    Samtliga        106766          51548         55218          89.1   \n",
       "1  Riket    Kommunal         84163          40386         43777          88.1   \n",
       "2  Riket     Enskild         22553          11137         11416          92.9   \n",
       "3  Riket  Skolverket            50             25            25         100.0   \n",
       "\n",
       "   Flickor (A-E)  Pojkar (A-E)  Totalt (Poäng)  Flickor (Poäng)  \\\n",
       "0           88.7          89.5            11.9             11.8   \n",
       "1           87.7          88.5            11.6             11.5   \n",
       "2           92.2          93.5            13.0             12.8   \n",
       "3          100.0         100.0            14.1             13.5   \n",
       "\n",
       "   Pojkar (Poäng)  Flickor (F)  Pojkar (F)  Totalt (F)  \n",
       "0            12.0       5825.0      5798.0     11623.0  \n",
       "1            11.7       4967.0      5034.0     10001.0  \n",
       "2            13.1        869.0       742.0      1611.0  \n",
       "3            14.7          0.0         0.0         0.0  "
      ]
     },
     "execution_count": 3,
     "metadata": {},
     "output_type": "execute_result"
    }
   ],
   "source": [
    "# Copy the dataFrame to a new dataFrame for F grade calculations\n",
    "df_f_math = df_riket_matematik.copy()\n",
    "\n",
    "# Clean the column names by removing spaces\n",
    "df_f_math.columns = [col.strip() for col in df_f_math.columns]\n",
    "\n",
    "# replace '~100' with '100' \n",
    "df_f_math.replace('~100', 100, inplace=True)\n",
    "\n",
    "# Make selected columns numeric, turn errors into NaN\n",
    "columns_to_convert = ['Flickor (A-F)', 'Pojkar (A-F)', 'Flickor (A-E)', 'Pojkar (A-E)']\n",
    "for column in columns_to_convert:\n",
    "    df_f_math[column] = pd.to_numeric(df_f_math[column], errors='coerce')\n",
    "\n",
    "# Calculate the number of girls with F grades by subtracting the estimated number of girls with A-E from the total.\n",
    "df_f_math['Flickor (F)'] = df_f_math['Flickor (A-F)'] - (df_f_math['Flickor (A-F)'] * (df_f_math['Flickor (A-E)'] / 100)).round()\n",
    "df_f_math['Pojkar (F)'] = df_f_math['Pojkar (A-F)'] - (df_f_math['Pojkar (A-F)'] * (df_f_math['Pojkar (A-E)'] / 100)).round()\n",
    "# Sum the F grades for girls and boys to get the total number of students with F grades.\n",
    "df_f_math['Totalt (F)'] = df_f_math['Flickor (F)'] + df_f_math['Pojkar (F)']\n",
    "\n",
    "df_f_math"
   ]
  },
  {
   "cell_type": "markdown",
   "metadata": {},
   "source": [
    "## Barplot total points\n",
    "\n",
    "- 0.c) Rita ett stapeldiagram på totala poängen för de olika ämnena.\n",
    "\n",
    "- Data cleaning and preparing data for plotting\n",
    " \n"
   ]
  },
  {
   "cell_type": "code",
   "execution_count": 4,
   "metadata": {},
   "outputs": [
    {
     "data": {
      "text/html": [
       "<div>\n",
       "<style scoped>\n",
       "    .dataframe tbody tr th:only-of-type {\n",
       "        vertical-align: middle;\n",
       "    }\n",
       "\n",
       "    .dataframe tbody tr th {\n",
       "        vertical-align: top;\n",
       "    }\n",
       "\n",
       "    .dataframe thead th {\n",
       "        text-align: right;\n",
       "    }\n",
       "</style>\n",
       "<table border=\"1\" class=\"dataframe\">\n",
       "  <thead>\n",
       "    <tr style=\"text-align: right;\">\n",
       "      <th></th>\n",
       "      <th>Matte</th>\n",
       "      <th>Engelska</th>\n",
       "      <th>Svenska</th>\n",
       "      <th>Svenska som andraspråk</th>\n",
       "    </tr>\n",
       "  </thead>\n",
       "  <tbody>\n",
       "    <tr>\n",
       "      <th>0</th>\n",
       "      <td>11.9</td>\n",
       "      <td>15.7</td>\n",
       "      <td>13.6</td>\n",
       "      <td>9.4</td>\n",
       "    </tr>\n",
       "    <tr>\n",
       "      <th>1</th>\n",
       "      <td>11.6</td>\n",
       "      <td>15.4</td>\n",
       "      <td>13.3</td>\n",
       "      <td>9.0</td>\n",
       "    </tr>\n",
       "    <tr>\n",
       "      <th>2</th>\n",
       "      <td>13.0</td>\n",
       "      <td>16.9</td>\n",
       "      <td>14.4</td>\n",
       "      <td>11.1</td>\n",
       "    </tr>\n",
       "    <tr>\n",
       "      <th>3</th>\n",
       "      <td>14.1</td>\n",
       "      <td>18.5</td>\n",
       "      <td>15.0</td>\n",
       "      <td>NaN</td>\n",
       "    </tr>\n",
       "  </tbody>\n",
       "</table>\n",
       "</div>"
      ],
      "text/plain": [
       "   Matte  Engelska  Svenska  Svenska som andraspråk\n",
       "0   11.9      15.7     13.6                     9.4\n",
       "1   11.6      15.4     13.3                     9.0\n",
       "2   13.0      16.9     14.4                    11.1\n",
       "3   14.1      18.5     15.0                     NaN"
      ]
     },
     "execution_count": 4,
     "metadata": {},
     "output_type": "execute_result"
    }
   ],
   "source": [
    "import matplotlib.pyplot as plt\n",
    "\n",
    "# Converts the total points from different subjects into lists for plotting\n",
    "math_total = df_riket_matematik['Totalt (Poäng)'].tolist()  \n",
    "english_total = df_riket_engelska['Totalt (Poäng)'].tolist()  \n",
    "swedish_total = df_riket_svenska['Totalt (Poäng)'].tolist()  \n",
    "other_lang_total = df_riket_andra_språk['Totalt (Poäng)'].tolist()\n",
    "\n",
    "# Create a new DataFrame combining all subjects\n",
    "combined_df = pd.DataFrame({'Matte':math_total, 'Engelska': english_total, 'Svenska': swedish_total, 'Svenska som andraspråk': other_lang_total})\n",
    "\n",
    "# Make a clean copy of the combined DataFrame\n",
    "combined_cleaned = pd.DataFrame(combined_df)\n",
    "\n",
    "# Converts 'svenska som andraspråk' to numeric, changing errors to NaN\n",
    "combined_cleaned['Svenska som andraspråk'] = pd.to_numeric(combined_cleaned['Svenska som andraspråk'], errors='coerce')\n",
    "\n",
    "combined_cleaned\n"
   ]
  },
  {
   "cell_type": "markdown",
   "metadata": {},
   "source": [
    "## Plot total points\n",
    "\n",
    "- This code makes a bar plot for scores per subject using the row 'samtliga' [0]. Customize the plot with different colors, set titles and labels. \n",
    "- rotate x-label for clarity and modify the plot spines for a cleaner appeareance. "
   ]
  },
  {
   "cell_type": "code",
   "execution_count": 5,
   "metadata": {},
   "outputs": [
    {
     "data": {
      "image/png": "[encoded data removed]",
      "text/plain": [
       "<Figure size 800x400 with 1 Axes>"
      ]
     },
     "metadata": {},
     "output_type": "display_data"
    }
   ],
   "source": [
    "total_scores_per_subject = combined_cleaned.iloc[0] # filtered on index 0 \n",
    "\n",
    "colors = ['steelblue', 'khaki', 'olive', 'maroon'] # color palette for the bar plot\n",
    "\n",
    "ax_new = total_scores_per_subject.plot(kind='bar', figsize=(8, 4), color=colors) # create a barplot and define the size and colors\n",
    "\n",
    "# sets title and labels for x and y axis\n",
    "plt.title('Totalpoäng per Ämne', loc='left', color= 'grey')\n",
    "plt.xlabel('Ämne', color= 'grey')\n",
    "plt.ylabel('Totala Poäng', color= 'grey')\n",
    "\n",
    "plt.xticks(rotation=0) # rotate the x-axis for better readability\n",
    "\n",
    "# hides right and top spine for a cleaner look, sets lighter colours on the rest\n",
    "ax_new.spines['top'].set_visible(False)\n",
    "ax_new.spines['right'].set_visible(False)\n",
    "ax_new.spines['bottom'].set_color('lightgray')\n",
    "ax_new.spines['left'].set_color('lightgray')\n",
    "\n",
    "plt.tight_layout()\n",
    "plt.show()"
   ]
  },
  {
   "cell_type": "markdown",
   "metadata": {},
   "source": [
    "## Total points subplots\n",
    "- 0.d Rita fyra olika stapeldiagram i subplots på totala poängen för de olika ämnena för de olika huvudmännen\n",
    "\n",
    "- Create a set of bar charts comparing total scores across four subjects for different 'huvudmän'. Making missing data NaN, organizes the data into subjects and 'huvudmän' labels, and generate four subplots in a 2x2 layout.\n",
    "- Each subplot represent one 'huvudman' and displaying scores for each of the subjects. The charts is customized for better readability and visual appearance."
   ]
  },
  {
   "cell_type": "code",
   "execution_count": 6,
   "metadata": {},
   "outputs": [
    {
     "data": {
      "image/png": "[encoded data removed]",
      "text/plain": [
       "<Figure size 1600x1200 with 4 Axes>"
      ]
     },
     "metadata": {},
     "output_type": "display_data"
    }
   ],
   "source": [
    "import numpy as np\n",
    "\n",
    "# Convert other language total scores to float, setting \"..\" as NaN\n",
    "cleaned_other_lang_total = [np.nan if x == '..' else float(x) for x in other_lang_total]\n",
    "# Subjects name\n",
    "subjects = ['Matematik', 'Engelska', 'Svenska', 'Svenska som andraspråk']\n",
    "# Huvudmännens name for x-axis\n",
    "labels = ['Samtliga', 'Kommunalt', 'Enskilt', 'Skolverket']\n",
    "# Create 4 subplots in a 2x2 layout\n",
    "fig, axes = plt.subplots(nrows=2, ncols=2, figsize=(16, 12))\n",
    "\n",
    "# Flattens ax-array for easier iteration\n",
    "# This converts the multi-dimensional array into a 1D array, making it easier to loop through each subplot // Thanks chatgpt :)\n",
    "axes = axes.flatten()\n",
    "\n",
    "# For each huvudman, create a chart with points for each subject\n",
    "for i, label in enumerate(labels):\n",
    "    # Gets the scores for each subject for the current huvudmans authority\n",
    "    totals = [math_total[i], english_total[i], swedish_total[i], cleaned_other_lang_total[i]]\n",
    "    axes[i].bar(subjects, totals, color=colors)\n",
    "    axes[i].set_title(label, loc=\"left\", color='grey')\n",
    "    axes[i].set_xticks(range(len(subjects)))  # Define the positions for the x-ticks\n",
    "    axes[i].set_xticklabels(subjects, rotation=45, ha=\"right\")  # Rotate 45 degrees for better readability\n",
    "    axes[i].set_ylabel('Poäng', color='grey')\n",
    "    axes[i].spines['right'].set_visible(False)\n",
    "    axes[i].spines['top'].set_visible(False)\n",
    "    axes[i].spines['bottom'].set_color('lightgray')\n",
    "    axes[i].spines['left'].set_color('lightgray')\n",
    "\n",
    "# Sets a supertitle\n",
    "fig.suptitle('Totala poäng för de olika ämnena efter huvudman', fontsize=20)\n",
    "\n",
    "plt.tight_layout()\n",
    "plt.show()"
   ]
  },
  {
   "cell_type": "markdown",
   "metadata": {},
   "source": [
    "## Uppgift 1 - uppvärmning betyg och prov\n",
    "\n",
    "\n",
    "- a) Rita ett linjediagram för andel elever som saknar godkänt betyg i ett eller fler ämnen för läsår 18-23. Ta med totalt,\n",
    "flickor och pojkar i samma graf.\n",
    "\n",
    "- Read data from 2 sheets. \n",
    "- Set column namnes.\n",
    "- Handle missing values."
   ]
  },
  {
   "cell_type": "code",
   "execution_count": 7,
   "metadata": {},
   "outputs": [
    {
     "name": "stderr",
     "output_type": "stream",
     "text": [
      "C:\\Users\\utjis\\AppData\\Local\\Temp\\ipykernel_18256\\1887249937.py:11: FutureWarning: Downcasting behavior in `replace` is deprecated and will be removed in a future version. To retain the old behavior, explicitly call `result.infer_objects(copy=False)`. To opt-in to the future behavior, set `pd.set_option('future.no_silent_downcasting', True)`\n",
      "  df_betyg_T1a.replace('.', np.nan, inplace=True) # handle missing values\n"
     ]
    },
    {
     "data": {
      "text/html": [
       "<div>\n",
       "<style scoped>\n",
       "    .dataframe tbody tr th:only-of-type {\n",
       "        vertical-align: middle;\n",
       "    }\n",
       "\n",
       "    .dataframe tbody tr th {\n",
       "        vertical-align: top;\n",
       "    }\n",
       "\n",
       "    .dataframe thead th {\n",
       "        text-align: right;\n",
       "    }\n",
       "</style>\n",
       "<table border=\"1\" class=\"dataframe\">\n",
       "  <thead>\n",
       "    <tr style=\"text-align: right;\">\n",
       "      <th></th>\n",
       "      <th>Läsår/huvudman/Bakgrund</th>\n",
       "      <th>Genomsnittligt meritvärde Tot (16 ämnen)</th>\n",
       "      <th>Genomsnittligt meritvärde F (16 ämnen)</th>\n",
       "      <th>Genomsnittligt meritvärde P (16 ämnen)</th>\n",
       "      <th>Genomsnittligt meritvärde Tot (17 ämnen)</th>\n",
       "      <th>Genomsnittligt meritvärde F (17 ämnen)</th>\n",
       "      <th>Genomsnittligt meritvärde P (17 ämnen)</th>\n",
       "      <th>(%) elever som saknar godkänt betyg i ett eller fler ämnen (Totalt)</th>\n",
       "      <th>(%) elever som saknar godkänt betyg i ett eller fler ämnen (Flickor)</th>\n",
       "      <th>(%) elever som saknar godkänt betyg i ett eller fler ämnen (Pojkar)</th>\n",
       "    </tr>\n",
       "  </thead>\n",
       "  <tbody>\n",
       "    <tr>\n",
       "      <th>0</th>\n",
       "      <td>2018/19</td>\n",
       "      <td>221.7</td>\n",
       "      <td>234.3</td>\n",
       "      <td>209.8</td>\n",
       "      <td>229.8</td>\n",
       "      <td>243.3</td>\n",
       "      <td>217.0</td>\n",
       "      <td>24.5</td>\n",
       "      <td>21.7</td>\n",
       "      <td>27.2</td>\n",
       "    </tr>\n",
       "    <tr>\n",
       "      <th>1</th>\n",
       "      <td>2019/20</td>\n",
       "      <td>222.9</td>\n",
       "      <td>235.7</td>\n",
       "      <td>210.9</td>\n",
       "      <td>231.1</td>\n",
       "      <td>244.9</td>\n",
       "      <td>218.2</td>\n",
       "      <td>23.9</td>\n",
       "      <td>21.4</td>\n",
       "      <td>26.3</td>\n",
       "    </tr>\n",
       "    <tr>\n",
       "      <th>2</th>\n",
       "      <td>2020/21</td>\n",
       "      <td>223.9</td>\n",
       "      <td>235.4</td>\n",
       "      <td>212.9</td>\n",
       "      <td>232.1</td>\n",
       "      <td>244.4</td>\n",
       "      <td>220.3</td>\n",
       "      <td>23.9</td>\n",
       "      <td>21.9</td>\n",
       "      <td>25.9</td>\n",
       "    </tr>\n",
       "    <tr>\n",
       "      <th>3</th>\n",
       "      <td>2021/22</td>\n",
       "      <td>221.2</td>\n",
       "      <td>231.6</td>\n",
       "      <td>211.4</td>\n",
       "      <td>229.2</td>\n",
       "      <td>240.3</td>\n",
       "      <td>218.8</td>\n",
       "      <td>25.9</td>\n",
       "      <td>24.2</td>\n",
       "      <td>27.5</td>\n",
       "    </tr>\n",
       "    <tr>\n",
       "      <th>4</th>\n",
       "      <td>2022/23</td>\n",
       "      <td>220.6</td>\n",
       "      <td>229.7</td>\n",
       "      <td>211.9</td>\n",
       "      <td>228.5</td>\n",
       "      <td>238.2</td>\n",
       "      <td>219.3</td>\n",
       "      <td>26.8</td>\n",
       "      <td>25.5</td>\n",
       "      <td>28.0</td>\n",
       "    </tr>\n",
       "  </tbody>\n",
       "</table>\n",
       "</div>"
      ],
      "text/plain": [
       "  Läsår/huvudman/Bakgrund  Genomsnittligt meritvärde Tot (16 ämnen)  \\\n",
       "0                 2018/19                                     221.7   \n",
       "1                 2019/20                                     222.9   \n",
       "2                 2020/21                                     223.9   \n",
       "3                 2021/22                                     221.2   \n",
       "4                 2022/23                                     220.6   \n",
       "\n",
       "   Genomsnittligt meritvärde F (16 ämnen)  \\\n",
       "0                                   234.3   \n",
       "1                                   235.7   \n",
       "2                                   235.4   \n",
       "3                                   231.6   \n",
       "4                                   229.7   \n",
       "\n",
       "   Genomsnittligt meritvärde P (16 ämnen)  \\\n",
       "0                                   209.8   \n",
       "1                                   210.9   \n",
       "2                                   212.9   \n",
       "3                                   211.4   \n",
       "4                                   211.9   \n",
       "\n",
       "   Genomsnittligt meritvärde Tot (17 ämnen)  \\\n",
       "0                                     229.8   \n",
       "1                                     231.1   \n",
       "2                                     232.1   \n",
       "3                                     229.2   \n",
       "4                                     228.5   \n",
       "\n",
       "   Genomsnittligt meritvärde F (17 ämnen)  \\\n",
       "0                                   243.3   \n",
       "1                                   244.9   \n",
       "2                                   244.4   \n",
       "3                                   240.3   \n",
       "4                                   238.2   \n",
       "\n",
       "   Genomsnittligt meritvärde P (17 ämnen)  \\\n",
       "0                                   217.0   \n",
       "1                                   218.2   \n",
       "2                                   220.3   \n",
       "3                                   218.8   \n",
       "4                                   219.3   \n",
       "\n",
       "   (%) elever som saknar godkänt betyg i ett eller fler ämnen (Totalt)  \\\n",
       "0                                               24.5                     \n",
       "1                                               23.9                     \n",
       "2                                               23.9                     \n",
       "3                                               25.9                     \n",
       "4                                               26.8                     \n",
       "\n",
       "   (%) elever som saknar godkänt betyg i ett eller fler ämnen (Flickor)  \\\n",
       "0                                               21.7                      \n",
       "1                                               21.4                      \n",
       "2                                               21.9                      \n",
       "3                                               24.2                      \n",
       "4                                               25.5                      \n",
       "\n",
       "   (%) elever som saknar godkänt betyg i ett eller fler ämnen (Pojkar)  \n",
       "0                                               27.2                    \n",
       "1                                               26.3                    \n",
       "2                                               25.9                    \n",
       "3                                               27.5                    \n",
       "4                                               28.0                    "
      ]
     },
     "execution_count": 7,
     "metadata": {},
     "output_type": "execute_result"
    }
   ],
   "source": [
    "file_path_betyg = (\"../Labb2/betyg_o_prov_riksnivå.xlsx\")\n",
    "\n",
    "\n",
    "df_betyg_T1a = pd.read_excel(file_path_betyg, sheet_name='Tabell 1A', skiprows=9)\n",
    "df_betyg_T1b = pd.read_excel(file_path_betyg, sheet_name='Tabell 1B', skiprows=7)\n",
    "\n",
    "df_betyg_T1a.columns = ['Läsår/huvudman/Bakgrund', 'Elever som avslutat åk 9 (Totalt)', 'Elever som avslutat åk 9 (Flickor)', 'Elever som avslutat åk 9 (Pojkar)', ' Med slutbetyg (Totalt)', \n",
    "                        'Med slutbetyg (Flickor)', 'Med slutbetyg (Pojkar)', 'Med godkända slutbetyg (Totalt)', \n",
    "                        'Med godkända slutbetyg (Flickor)', 'Med godkända slutbetyg (Pojkar)']\n",
    "\n",
    "df_betyg_T1a.replace('.', np.nan, inplace=True) # handle missing values\n",
    "\n",
    "df_betyg_T1b.columns = ['Läsår/huvudman/Bakgrund', 'Genomsnittligt meritvärde Tot (16 ämnen)', 'Genomsnittligt meritvärde F (16 ämnen)', 'Genomsnittligt meritvärde P (16 ämnen)', 'Genomsnittligt meritvärde Tot (17 ämnen)', \n",
    "                        'Genomsnittligt meritvärde F (17 ämnen)', 'Genomsnittligt meritvärde P (17 ämnen)', '(%) elever som saknar godkänt betyg i ett eller fler ämnen (Totalt)', \n",
    "                        '(%) elever som saknar godkänt betyg i ett eller fler ämnen (Flickor)', '(%) elever som saknar godkänt betyg i ett eller fler ämnen (Pojkar)']\n",
    "\n",
    "df_betyg_T1b.head()\n"
   ]
  },
  {
   "cell_type": "markdown",
   "metadata": {},
   "source": [
    "## Plot task 1 \n",
    "\n",
    "- Extracts data from the first 5 rows and selected columns of the Dataframe ('df_betyg_T1B'). Rename columns for clarity, create a line chart using plotly to show the trend\n",
    "- of students without passing grades over different school years. The chart is customized in diffrents ways for better readability. Saves the chart as an html file. "
   ]
  },
  {
   "cell_type": "code",
   "execution_count": 8,
   "metadata": {},
   "outputs": [
    {
     "data": {
      "application/vnd.plotly.v1+json": {
       "config": {
        "plotlyServerURL": "https://plot.ly"
       },
       "data": [
        {
         "hovertemplate": "Grupp=Totalt (%)<br>Läsår=%{x}<br>Andel (%)=%{y}<extra></extra>",
         "legendgroup": "Totalt (%)",
         "line": {
          "color": "orangered",
          "dash": "solid"
         },
         "marker": {
          "symbol": "circle"
         },
         "mode": "lines+markers",
         "name": "Totalt (%)",
         "orientation": "v",
         "showlegend": true,
         "type": "scatter",
         "x": [
          "2018/19",
          "2019/20",
          "2020/21",
          "2021/22",
          "2022/23"
         ],
         "xaxis": "x",
         "y": [
          24.5,
          23.9,
          23.9,
          25.9,
          26.8
         ],
         "yaxis": "y"
        },
        {
         "hovertemplate": "Grupp=Flickor (%)<br>Läsår=%{x}<br>Andel (%)=%{y}<extra></extra>",
         "legendgroup": "Flickor (%)",
         "line": {
          "color": "indigo",
          "dash": "solid"
         },
         "marker": {
          "symbol": "circle"
         },
         "mode": "lines+markers",
         "name": "Flickor (%)",
         "orientation": "v",
         "showlegend": true,
         "type": "scatter",
         "x": [
          "2018/19",
          "2019/20",
          "2020/21",
          "2021/22",
          "2022/23"
         ],
         "xaxis": "x",
         "y": [
          21.7,
          21.4,
          21.9,
          24.2,
          25.5
         ],
         "yaxis": "y"
        },
        {
         "hovertemplate": "Grupp=Pojkar (%)<br>Läsår=%{x}<br>Andel (%)=%{y}<extra></extra>",
         "legendgroup": "Pojkar (%)",
         "line": {
          "color": "teal",
          "dash": "solid"
         },
         "marker": {
          "symbol": "circle"
         },
         "mode": "lines+markers",
         "name": "Pojkar (%)",
         "orientation": "v",
         "showlegend": true,
         "type": "scatter",
         "x": [
          "2018/19",
          "2019/20",
          "2020/21",
          "2021/22",
          "2022/23"
         ],
         "xaxis": "x",
         "y": [
          27.2,
          26.3,
          25.9,
          27.5,
          28
         ],
         "yaxis": "y"
        }
       ],
       "layout": {
        "legend": {
         "orientation": "h",
         "title": {
          "text": "Grupper"
         },
         "tracegroupgap": 0,
         "x": 1,
         "xanchor": "right",
         "y": 1.02,
         "yanchor": "bottom"
        },
        "paper_bgcolor": "white",
        "plot_bgcolor": "whitesmoke",
        "template": {
         "data": {
          "bar": [
           {
            "error_x": {
             "color": "#2a3f5f"
            },
            "error_y": {
             "color": "#2a3f5f"
            },
            "marker": {
             "line": {
              "color": "#E5ECF6",
              "width": 0.5
             },
             "pattern": {
              "fillmode": "overlay",
              "size": 10,
              "solidity": 0.2
             }
            },
            "type": "bar"
           }
          ],
          "barpolar": [
           {
            "marker": {
             "line": {
              "color": "#E5ECF6",
              "width": 0.5
             },
             "pattern": {
              "fillmode": "overlay",
              "size": 10,
              "solidity": 0.2
             }
            },
            "type": "barpolar"
           }
          ],
          "carpet": [
           {
            "aaxis": {
             "endlinecolor": "#2a3f5f",
             "gridcolor": "white",
             "linecolor": "white",
             "minorgridcolor": "white",
             "startlinecolor": "#2a3f5f"
            },
            "baxis": {
             "endlinecolor": "#2a3f5f",
             "gridcolor": "white",
             "linecolor": "white",
             "minorgridcolor": "white",
             "startlinecolor": "#2a3f5f"
            },
            "type": "carpet"
           }
          ],
          "choropleth": [
           {
            "colorbar": {
             "outlinewidth": 0,
             "ticks": ""
            },
            "type": "choropleth"
           }
          ],
          "contour": [
           {
            "colorbar": {
             "outlinewidth": 0,
             "ticks": ""
            },
            "colorscale": [
             [
              0,
              "#0d0887"
             ],
             [
              0.1111111111111111,
              "#46039f"
             ],
             [
              0.2222222222222222,
              "#7201a8"
             ],
             [
              0.3333333333333333,
              "#9c179e"
             ],
             [
              0.4444444444444444,
              "#bd3786"
             ],
             [
              0.5555555555555556,
              "#d8576b"
             ],
             [
              0.6666666666666666,
              "#ed7953"
             ],
             [
              0.7777777777777778,
              "#fb9f3a"
             ],
             [
              0.8888888888888888,
              "#fdca26"
             ],
             [
              1,
              "#f0f921"
             ]
            ],
            "type": "contour"
           }
          ],
          "contourcarpet": [
           {
            "colorbar": {
             "outlinewidth": 0,
             "ticks": ""
            },
            "type": "contourcarpet"
           }
          ],
          "heatmap": [
           {
            "colorbar": {
             "outlinewidth": 0,
             "ticks": ""
            },
            "colorscale": [
             [
              0,
              "#0d0887"
             ],
             [
              0.1111111111111111,
              "#46039f"
             ],
             [
              0.2222222222222222,
              "#7201a8"
             ],
             [
              0.3333333333333333,
              "#9c179e"
             ],
             [
              0.4444444444444444,
              "#bd3786"
             ],
             [
              0.5555555555555556,
              "#d8576b"
             ],
             [
              0.6666666666666666,
              "#ed7953"
             ],
             [
              0.7777777777777778,
              "#fb9f3a"
             ],
             [
              0.8888888888888888,
              "#fdca26"
             ],
             [
              1,
              "#f0f921"
             ]
            ],
            "type": "heatmap"
           }
          ],
          "heatmapgl": [
           {
            "colorbar": {
             "outlinewidth": 0,
             "ticks": ""
            },
            "colorscale": [
             [
              0,
              "#0d0887"
             ],
             [
              0.1111111111111111,
              "#46039f"
             ],
             [
              0.2222222222222222,
              "#7201a8"
             ],
             [
              0.3333333333333333,
              "#9c179e"
             ],
             [
              0.4444444444444444,
              "#bd3786"
             ],
             [
              0.5555555555555556,
              "#d8576b"
             ],
             [
              0.6666666666666666,
              "#ed7953"
             ],
             [
              0.7777777777777778,
              "#fb9f3a"
             ],
             [
              0.8888888888888888,
              "#fdca26"
             ],
             [
              1,
              "#f0f921"
             ]
            ],
            "type": "heatmapgl"
           }
          ],
          "histogram": [
           {
            "marker": {
             "pattern": {
              "fillmode": "overlay",
              "size": 10,
              "solidity": 0.2
             }
            },
            "type": "histogram"
           }
          ],
          "histogram2d": [
           {
            "colorbar": {
             "outlinewidth": 0,
             "ticks": ""
            },
            "colorscale": [
             [
              0,
              "#0d0887"
             ],
             [
              0.1111111111111111,
              "#46039f"
             ],
             [
              0.2222222222222222,
              "#7201a8"
             ],
             [
              0.3333333333333333,
              "#9c179e"
             ],
             [
              0.4444444444444444,
              "#bd3786"
             ],
             [
              0.5555555555555556,
              "#d8576b"
             ],
             [
              0.6666666666666666,
              "#ed7953"
             ],
             [
              0.7777777777777778,
              "#fb9f3a"
             ],
             [
              0.8888888888888888,
              "#fdca26"
             ],
             [
              1,
              "#f0f921"
             ]
            ],
            "type": "histogram2d"
           }
          ],
          "histogram2dcontour": [
           {
            "colorbar": {
             "outlinewidth": 0,
             "ticks": ""
            },
            "colorscale": [
             [
              0,
              "#0d0887"
             ],
             [
              0.1111111111111111,
              "#46039f"
             ],
             [
              0.2222222222222222,
              "#7201a8"
             ],
             [
              0.3333333333333333,
              "#9c179e"
             ],
             [
              0.4444444444444444,
              "#bd3786"
             ],
             [
              0.5555555555555556,
              "#d8576b"
             ],
             [
              0.6666666666666666,
              "#ed7953"
             ],
             [
              0.7777777777777778,
              "#fb9f3a"
             ],
             [
              0.8888888888888888,
              "#fdca26"
             ],
             [
              1,
              "#f0f921"
             ]
            ],
            "type": "histogram2dcontour"
           }
          ],
          "mesh3d": [
           {
            "colorbar": {
             "outlinewidth": 0,
             "ticks": ""
            },
            "type": "mesh3d"
           }
          ],
          "parcoords": [
           {
            "line": {
             "colorbar": {
              "outlinewidth": 0,
              "ticks": ""
             }
            },
            "type": "parcoords"
           }
          ],
          "pie": [
           {
            "automargin": true,
            "type": "pie"
           }
          ],
          "scatter": [
           {
            "fillpattern": {
             "fillmode": "overlay",
             "size": 10,
             "solidity": 0.2
            },
            "type": "scatter"
           }
          ],
          "scatter3d": [
           {
            "line": {
             "colorbar": {
              "outlinewidth": 0,
              "ticks": ""
             }
            },
            "marker": {
             "colorbar": {
              "outlinewidth": 0,
              "ticks": ""
             }
            },
            "type": "scatter3d"
           }
          ],
          "scattercarpet": [
           {
            "marker": {
             "colorbar": {
              "outlinewidth": 0,
              "ticks": ""
             }
            },
            "type": "scattercarpet"
           }
          ],
          "scattergeo": [
           {
            "marker": {
             "colorbar": {
              "outlinewidth": 0,
              "ticks": ""
             }
            },
            "type": "scattergeo"
           }
          ],
          "scattergl": [
           {
            "marker": {
             "colorbar": {
              "outlinewidth": 0,
              "ticks": ""
             }
            },
            "type": "scattergl"
           }
          ],
          "scattermapbox": [
           {
            "marker": {
             "colorbar": {
              "outlinewidth": 0,
              "ticks": ""
             }
            },
            "type": "scattermapbox"
           }
          ],
          "scatterpolar": [
           {
            "marker": {
             "colorbar": {
              "outlinewidth": 0,
              "ticks": ""
             }
            },
            "type": "scatterpolar"
           }
          ],
          "scatterpolargl": [
           {
            "marker": {
             "colorbar": {
              "outlinewidth": 0,
              "ticks": ""
             }
            },
            "type": "scatterpolargl"
           }
          ],
          "scatterternary": [
           {
            "marker": {
             "colorbar": {
              "outlinewidth": 0,
              "ticks": ""
             }
            },
            "type": "scatterternary"
           }
          ],
          "surface": [
           {
            "colorbar": {
             "outlinewidth": 0,
             "ticks": ""
            },
            "colorscale": [
             [
              0,
              "#0d0887"
             ],
             [
              0.1111111111111111,
              "#46039f"
             ],
             [
              0.2222222222222222,
              "#7201a8"
             ],
             [
              0.3333333333333333,
              "#9c179e"
             ],
             [
              0.4444444444444444,
              "#bd3786"
             ],
             [
              0.5555555555555556,
              "#d8576b"
             ],
             [
              0.6666666666666666,
              "#ed7953"
             ],
             [
              0.7777777777777778,
              "#fb9f3a"
             ],
             [
              0.8888888888888888,
              "#fdca26"
             ],
             [
              1,
              "#f0f921"
             ]
            ],
            "type": "surface"
           }
          ],
          "table": [
           {
            "cells": {
             "fill": {
              "color": "#EBF0F8"
             },
             "line": {
              "color": "white"
             }
            },
            "header": {
             "fill": {
              "color": "#C8D4E3"
             },
             "line": {
              "color": "white"
             }
            },
            "type": "table"
           }
          ]
         },
         "layout": {
          "annotationdefaults": {
           "arrowcolor": "#2a3f5f",
           "arrowhead": 0,
           "arrowwidth": 1
          },
          "autotypenumbers": "strict",
          "coloraxis": {
           "colorbar": {
            "outlinewidth": 0,
            "ticks": ""
           }
          },
          "colorscale": {
           "diverging": [
            [
             0,
             "#8e0152"
            ],
            [
             0.1,
             "#c51b7d"
            ],
            [
             0.2,
             "#de77ae"
            ],
            [
             0.3,
             "#f1b6da"
            ],
            [
             0.4,
             "#fde0ef"
            ],
            [
             0.5,
             "#f7f7f7"
            ],
            [
             0.6,
             "#e6f5d0"
            ],
            [
             0.7,
             "#b8e186"
            ],
            [
             0.8,
             "#7fbc41"
            ],
            [
             0.9,
             "#4d9221"
            ],
            [
             1,
             "#276419"
            ]
           ],
           "sequential": [
            [
             0,
             "#0d0887"
            ],
            [
             0.1111111111111111,
             "#46039f"
            ],
            [
             0.2222222222222222,
             "#7201a8"
            ],
            [
             0.3333333333333333,
             "#9c179e"
            ],
            [
             0.4444444444444444,
             "#bd3786"
            ],
            [
             0.5555555555555556,
             "#d8576b"
            ],
            [
             0.6666666666666666,
             "#ed7953"
            ],
            [
             0.7777777777777778,
             "#fb9f3a"
            ],
            [
             0.8888888888888888,
             "#fdca26"
            ],
            [
             1,
             "#f0f921"
            ]
           ],
           "sequentialminus": [
            [
             0,
             "#0d0887"
            ],
            [
             0.1111111111111111,
             "#46039f"
            ],
            [
             0.2222222222222222,
             "#7201a8"
            ],
            [
             0.3333333333333333,
             "#9c179e"
            ],
            [
             0.4444444444444444,
             "#bd3786"
            ],
            [
             0.5555555555555556,
             "#d8576b"
            ],
            [
             0.6666666666666666,
             "#ed7953"
            ],
            [
             0.7777777777777778,
             "#fb9f3a"
            ],
            [
             0.8888888888888888,
             "#fdca26"
            ],
            [
             1,
             "#f0f921"
            ]
           ]
          },
          "colorway": [
           "#636efa",
           "#EF553B",
           "#00cc96",
           "#ab63fa",
           "#FFA15A",
           "#19d3f3",
           "#FF6692",
           "#B6E880",
           "#FF97FF",
           "#FECB52"
          ],
          "font": {
           "color": "#2a3f5f"
          },
          "geo": {
           "bgcolor": "white",
           "lakecolor": "white",
           "landcolor": "#E5ECF6",
           "showlakes": true,
           "showland": true,
           "subunitcolor": "white"
          },
          "hoverlabel": {
           "align": "left"
          },
          "hovermode": "closest",
          "mapbox": {
           "style": "light"
          },
          "paper_bgcolor": "white",
          "plot_bgcolor": "#E5ECF6",
          "polar": {
           "angularaxis": {
            "gridcolor": "white",
            "linecolor": "white",
            "ticks": ""
           },
           "bgcolor": "#E5ECF6",
           "radialaxis": {
            "gridcolor": "white",
            "linecolor": "white",
            "ticks": ""
           }
          },
          "scene": {
           "xaxis": {
            "backgroundcolor": "#E5ECF6",
            "gridcolor": "white",
            "gridwidth": 2,
            "linecolor": "white",
            "showbackground": true,
            "ticks": "",
            "zerolinecolor": "white"
           },
           "yaxis": {
            "backgroundcolor": "#E5ECF6",
            "gridcolor": "white",
            "gridwidth": 2,
            "linecolor": "white",
            "showbackground": true,
            "ticks": "",
            "zerolinecolor": "white"
           },
           "zaxis": {
            "backgroundcolor": "#E5ECF6",
            "gridcolor": "white",
            "gridwidth": 2,
            "linecolor": "white",
            "showbackground": true,
            "ticks": "",
            "zerolinecolor": "white"
           }
          },
          "shapedefaults": {
           "line": {
            "color": "#2a3f5f"
           }
          },
          "ternary": {
           "aaxis": {
            "gridcolor": "white",
            "linecolor": "white",
            "ticks": ""
           },
           "baxis": {
            "gridcolor": "white",
            "linecolor": "white",
            "ticks": ""
           },
           "bgcolor": "#E5ECF6",
           "caxis": {
            "gridcolor": "white",
            "linecolor": "white",
            "ticks": ""
           }
          },
          "title": {
           "x": 0.05
          },
          "xaxis": {
           "automargin": true,
           "gridcolor": "white",
           "linecolor": "white",
           "ticks": "",
           "title": {
            "standoff": 15
           },
           "zerolinecolor": "white",
           "zerolinewidth": 2
          },
          "yaxis": {
           "automargin": true,
           "gridcolor": "white",
           "linecolor": "white",
           "ticks": "",
           "title": {
            "standoff": 15
           },
           "zerolinecolor": "white",
           "zerolinewidth": 2
          }
         }
        },
        "title": {
         "text": "Andel elever som saknar godkänt betyg i ett eller fler ämnen 2018-2023"
        },
        "xaxis": {
         "anchor": "y",
         "domain": [
          0,
          1
         ],
         "title": {
          "text": "Läsår"
         }
        },
        "yaxis": {
         "anchor": "x",
         "domain": [
          0,
          1
         ],
         "tickformat": ".1f",
         "title": {
          "text": "Andel (%) som saknar godkänt betyg"
         }
        }
       }
      }
     },
     "metadata": {},
     "output_type": "display_data"
    }
   ],
   "source": [
    "import plotly.express as px\n",
    "\n",
    "# Select relevant data: first 5 rows, columns for year and percentages\n",
    "df_focused_failed = df_betyg_T1b.iloc[:5, [0, 7, 8, 9]].copy()\n",
    "\n",
    "# Rename columns for clarity in the plot\n",
    "df_focused_failed.columns = ['Läsår', 'Totalt (%)', 'Flickor (%)', 'Pojkar (%)']\n",
    "\n",
    "# Create the linechart with Plotly with the new data\n",
    "fig = px.line(df_focused_failed, x='Läsår', y=['Totalt (%)', 'Flickor (%)', 'Pojkar (%)'], \n",
    "              title=\"Andel elever som saknar godkänt betyg i ett eller fler ämnen 2018-2023\",\n",
    "              labels={\"value\": \"Andel (%)\", \"variable\": \"Grupp\"},\n",
    "              markers=True, # Add markers for each data point\n",
    "              color_discrete_map={ # Assign custom colors\n",
    "                  'Totalt (%)': 'orangered',  \n",
    "                  'Flickor (%)': 'indigo',  \n",
    "                  'Pojkar (%)': 'teal'  \n",
    "              })\n",
    "\n",
    "# Update the layout of the figure for a cleaner presentation\n",
    "fig.update_layout(yaxis_tickformat = '.1f', # Formats the y-axis ticks to show numbers with one decimal \n",
    "                  xaxis_title=\"Läsår\", \n",
    "                  yaxis_title=\"Andel (%) som saknar godkänt betyg\", \n",
    "                  legend=dict(title=\"Grupper\",orientation=\"h\",yanchor=\"bottom\",y=1.02,xanchor=\"right\",x=1), # Customizes the legend's appearance and position\n",
    "                  paper_bgcolor=\"white\", plot_bgcolor=\"whitesmoke\")\n",
    "\n",
    "fig.write_html(\"../Labb2/Visualiseringar/Andel_elever_saknar_betyg.html\") #Save the chart as a html file.\n",
    "\n",
    "fig.show()\n"
   ]
  },
  {
   "cell_type": "markdown",
   "metadata": {},
   "source": [
    "## b.)\n",
    "\n",
    "- Mostly the same as the plot above except this chart visualize the average merit scores for 16 subjects from 2018 to 2023, separated by total, girls, and boys."
   ]
  },
  {
   "cell_type": "code",
   "execution_count": 9,
   "metadata": {},
   "outputs": [
    {
     "data": {
      "application/vnd.plotly.v1+json": {
       "config": {
        "plotlyServerURL": "https://plot.ly"
       },
       "data": [
        {
         "hovertemplate": "Grupp=Totalt<br>Läsår=%{x}<br>Antal=%{y}<extra></extra>",
         "legendgroup": "Totalt",
         "line": {
          "color": "tomato",
          "dash": "solid"
         },
         "marker": {
          "symbol": "circle"
         },
         "mode": "lines+markers",
         "name": "Totalt",
         "orientation": "v",
         "showlegend": true,
         "type": "scatter",
         "x": [
          "2018/19",
          "2019/20",
          "2020/21",
          "2021/22",
          "2022/23"
         ],
         "xaxis": "x",
         "y": [
          221.7,
          222.9,
          223.9,
          221.2,
          220.6
         ],
         "yaxis": "y"
        },
        {
         "hovertemplate": "Grupp=Flickor<br>Läsår=%{x}<br>Antal=%{y}<extra></extra>",
         "legendgroup": "Flickor",
         "line": {
          "color": "darkviolet",
          "dash": "solid"
         },
         "marker": {
          "symbol": "circle"
         },
         "mode": "lines+markers",
         "name": "Flickor",
         "orientation": "v",
         "showlegend": true,
         "type": "scatter",
         "x": [
          "2018/19",
          "2019/20",
          "2020/21",
          "2021/22",
          "2022/23"
         ],
         "xaxis": "x",
         "y": [
          234.3,
          235.7,
          235.4,
          231.6,
          229.7
         ],
         "yaxis": "y"
        },
        {
         "hovertemplate": "Grupp=Pojkar<br>Läsår=%{x}<br>Antal=%{y}<extra></extra>",
         "legendgroup": "Pojkar",
         "line": {
          "color": "cadetblue",
          "dash": "solid"
         },
         "marker": {
          "symbol": "circle"
         },
         "mode": "lines+markers",
         "name": "Pojkar",
         "orientation": "v",
         "showlegend": true,
         "type": "scatter",
         "x": [
          "2018/19",
          "2019/20",
          "2020/21",
          "2021/22",
          "2022/23"
         ],
         "xaxis": "x",
         "y": [
          209.8,
          210.9,
          212.9,
          211.4,
          211.9
         ],
         "yaxis": "y"
        }
       ],
       "layout": {
        "legend": {
         "orientation": "h",
         "title": {
          "text": "Grupper"
         },
         "tracegroupgap": 0,
         "x": 1,
         "xanchor": "right",
         "y": 1.02,
         "yanchor": "bottom"
        },
        "paper_bgcolor": "white",
        "plot_bgcolor": "whitesmoke",
        "template": {
         "data": {
          "bar": [
           {
            "error_x": {
             "color": "#2a3f5f"
            },
            "error_y": {
             "color": "#2a3f5f"
            },
            "marker": {
             "line": {
              "color": "#E5ECF6",
              "width": 0.5
             },
             "pattern": {
              "fillmode": "overlay",
              "size": 10,
              "solidity": 0.2
             }
            },
            "type": "bar"
           }
          ],
          "barpolar": [
           {
            "marker": {
             "line": {
              "color": "#E5ECF6",
              "width": 0.5
             },
             "pattern": {
              "fillmode": "overlay",
              "size": 10,
              "solidity": 0.2
             }
            },
            "type": "barpolar"
           }
          ],
          "carpet": [
           {
            "aaxis": {
             "endlinecolor": "#2a3f5f",
             "gridcolor": "white",
             "linecolor": "white",
             "minorgridcolor": "white",
             "startlinecolor": "#2a3f5f"
            },
            "baxis": {
             "endlinecolor": "#2a3f5f",
             "gridcolor": "white",
             "linecolor": "white",
             "minorgridcolor": "white",
             "startlinecolor": "#2a3f5f"
            },
            "type": "carpet"
           }
          ],
          "choropleth": [
           {
            "colorbar": {
             "outlinewidth": 0,
             "ticks": ""
            },
            "type": "choropleth"
           }
          ],
          "contour": [
           {
            "colorbar": {
             "outlinewidth": 0,
             "ticks": ""
            },
            "colorscale": [
             [
              0,
              "#0d0887"
             ],
             [
              0.1111111111111111,
              "#46039f"
             ],
             [
              0.2222222222222222,
              "#7201a8"
             ],
             [
              0.3333333333333333,
              "#9c179e"
             ],
             [
              0.4444444444444444,
              "#bd3786"
             ],
             [
              0.5555555555555556,
              "#d8576b"
             ],
             [
              0.6666666666666666,
              "#ed7953"
             ],
             [
              0.7777777777777778,
              "#fb9f3a"
             ],
             [
              0.8888888888888888,
              "#fdca26"
             ],
             [
              1,
              "#f0f921"
             ]
            ],
            "type": "contour"
           }
          ],
          "contourcarpet": [
           {
            "colorbar": {
             "outlinewidth": 0,
             "ticks": ""
            },
            "type": "contourcarpet"
           }
          ],
          "heatmap": [
           {
            "colorbar": {
             "outlinewidth": 0,
             "ticks": ""
            },
            "colorscale": [
             [
              0,
              "#0d0887"
             ],
             [
              0.1111111111111111,
              "#46039f"
             ],
             [
              0.2222222222222222,
              "#7201a8"
             ],
             [
              0.3333333333333333,
              "#9c179e"
             ],
             [
              0.4444444444444444,
              "#bd3786"
             ],
             [
              0.5555555555555556,
              "#d8576b"
             ],
             [
              0.6666666666666666,
              "#ed7953"
             ],
             [
              0.7777777777777778,
              "#fb9f3a"
             ],
             [
              0.8888888888888888,
              "#fdca26"
             ],
             [
              1,
              "#f0f921"
             ]
            ],
            "type": "heatmap"
           }
          ],
          "heatmapgl": [
           {
            "colorbar": {
             "outlinewidth": 0,
             "ticks": ""
            },
            "colorscale": [
             [
              0,
              "#0d0887"
             ],
             [
              0.1111111111111111,
              "#46039f"
             ],
             [
              0.2222222222222222,
              "#7201a8"
             ],
             [
              0.3333333333333333,
              "#9c179e"
             ],
             [
              0.4444444444444444,
              "#bd3786"
             ],
             [
              0.5555555555555556,
              "#d8576b"
             ],
             [
              0.6666666666666666,
              "#ed7953"
             ],
             [
              0.7777777777777778,
              "#fb9f3a"
             ],
             [
              0.8888888888888888,
              "#fdca26"
             ],
             [
              1,
              "#f0f921"
             ]
            ],
            "type": "heatmapgl"
           }
          ],
          "histogram": [
           {
            "marker": {
             "pattern": {
              "fillmode": "overlay",
              "size": 10,
              "solidity": 0.2
             }
            },
            "type": "histogram"
           }
          ],
          "histogram2d": [
           {
            "colorbar": {
             "outlinewidth": 0,
             "ticks": ""
            },
            "colorscale": [
             [
              0,
              "#0d0887"
             ],
             [
              0.1111111111111111,
              "#46039f"
             ],
             [
              0.2222222222222222,
              "#7201a8"
             ],
             [
              0.3333333333333333,
              "#9c179e"
             ],
             [
              0.4444444444444444,
              "#bd3786"
             ],
             [
              0.5555555555555556,
              "#d8576b"
             ],
             [
              0.6666666666666666,
              "#ed7953"
             ],
             [
              0.7777777777777778,
              "#fb9f3a"
             ],
             [
              0.8888888888888888,
              "#fdca26"
             ],
             [
              1,
              "#f0f921"
             ]
            ],
            "type": "histogram2d"
           }
          ],
          "histogram2dcontour": [
           {
            "colorbar": {
             "outlinewidth": 0,
             "ticks": ""
            },
            "colorscale": [
             [
              0,
              "#0d0887"
             ],
             [
              0.1111111111111111,
              "#46039f"
             ],
             [
              0.2222222222222222,
              "#7201a8"
             ],
             [
              0.3333333333333333,
              "#9c179e"
             ],
             [
              0.4444444444444444,
              "#bd3786"
             ],
             [
              0.5555555555555556,
              "#d8576b"
             ],
             [
              0.6666666666666666,
              "#ed7953"
             ],
             [
              0.7777777777777778,
              "#fb9f3a"
             ],
             [
              0.8888888888888888,
              "#fdca26"
             ],
             [
              1,
              "#f0f921"
             ]
            ],
            "type": "histogram2dcontour"
           }
          ],
          "mesh3d": [
           {
            "colorbar": {
             "outlinewidth": 0,
             "ticks": ""
            },
            "type": "mesh3d"
           }
          ],
          "parcoords": [
           {
            "line": {
             "colorbar": {
              "outlinewidth": 0,
              "ticks": ""
             }
            },
            "type": "parcoords"
           }
          ],
          "pie": [
           {
            "automargin": true,
            "type": "pie"
           }
          ],
          "scatter": [
           {
            "fillpattern": {
             "fillmode": "overlay",
             "size": 10,
             "solidity": 0.2
            },
            "type": "scatter"
           }
          ],
          "scatter3d": [
           {
            "line": {
             "colorbar": {
              "outlinewidth": 0,
              "ticks": ""
             }
            },
            "marker": {
             "colorbar": {
              "outlinewidth": 0,
              "ticks": ""
             }
            },
            "type": "scatter3d"
           }
          ],
          "scattercarpet": [
           {
            "marker": {
             "colorbar": {
              "outlinewidth": 0,
              "ticks": ""
             }
            },
            "type": "scattercarpet"
           }
          ],
          "scattergeo": [
           {
            "marker": {
             "colorbar": {
              "outlinewidth": 0,
              "ticks": ""
             }
            },
            "type": "scattergeo"
           }
          ],
          "scattergl": [
           {
            "marker": {
             "colorbar": {
              "outlinewidth": 0,
              "ticks": ""
             }
            },
            "type": "scattergl"
           }
          ],
          "scattermapbox": [
           {
            "marker": {
             "colorbar": {
              "outlinewidth": 0,
              "ticks": ""
             }
            },
            "type": "scattermapbox"
           }
          ],
          "scatterpolar": [
           {
            "marker": {
             "colorbar": {
              "outlinewidth": 0,
              "ticks": ""
             }
            },
            "type": "scatterpolar"
           }
          ],
          "scatterpolargl": [
           {
            "marker": {
             "colorbar": {
              "outlinewidth": 0,
              "ticks": ""
             }
            },
            "type": "scatterpolargl"
           }
          ],
          "scatterternary": [
           {
            "marker": {
             "colorbar": {
              "outlinewidth": 0,
              "ticks": ""
             }
            },
            "type": "scatterternary"
           }
          ],
          "surface": [
           {
            "colorbar": {
             "outlinewidth": 0,
             "ticks": ""
            },
            "colorscale": [
             [
              0,
              "#0d0887"
             ],
             [
              0.1111111111111111,
              "#46039f"
             ],
             [
              0.2222222222222222,
              "#7201a8"
             ],
             [
              0.3333333333333333,
              "#9c179e"
             ],
             [
              0.4444444444444444,
              "#bd3786"
             ],
             [
              0.5555555555555556,
              "#d8576b"
             ],
             [
              0.6666666666666666,
              "#ed7953"
             ],
             [
              0.7777777777777778,
              "#fb9f3a"
             ],
             [
              0.8888888888888888,
              "#fdca26"
             ],
             [
              1,
              "#f0f921"
             ]
            ],
            "type": "surface"
           }
          ],
          "table": [
           {
            "cells": {
             "fill": {
              "color": "#EBF0F8"
             },
             "line": {
              "color": "white"
             }
            },
            "header": {
             "fill": {
              "color": "#C8D4E3"
             },
             "line": {
              "color": "white"
             }
            },
            "type": "table"
           }
          ]
         },
         "layout": {
          "annotationdefaults": {
           "arrowcolor": "#2a3f5f",
           "arrowhead": 0,
           "arrowwidth": 1
          },
          "autotypenumbers": "strict",
          "coloraxis": {
           "colorbar": {
            "outlinewidth": 0,
            "ticks": ""
           }
          },
          "colorscale": {
           "diverging": [
            [
             0,
             "#8e0152"
            ],
            [
             0.1,
             "#c51b7d"
            ],
            [
             0.2,
             "#de77ae"
            ],
            [
             0.3,
             "#f1b6da"
            ],
            [
             0.4,
             "#fde0ef"
            ],
            [
             0.5,
             "#f7f7f7"
            ],
            [
             0.6,
             "#e6f5d0"
            ],
            [
             0.7,
             "#b8e186"
            ],
            [
             0.8,
             "#7fbc41"
            ],
            [
             0.9,
             "#4d9221"
            ],
            [
             1,
             "#276419"
            ]
           ],
           "sequential": [
            [
             0,
             "#0d0887"
            ],
            [
             0.1111111111111111,
             "#46039f"
            ],
            [
             0.2222222222222222,
             "#7201a8"
            ],
            [
             0.3333333333333333,
             "#9c179e"
            ],
            [
             0.4444444444444444,
             "#bd3786"
            ],
            [
             0.5555555555555556,
             "#d8576b"
            ],
            [
             0.6666666666666666,
             "#ed7953"
            ],
            [
             0.7777777777777778,
             "#fb9f3a"
            ],
            [
             0.8888888888888888,
             "#fdca26"
            ],
            [
             1,
             "#f0f921"
            ]
           ],
           "sequentialminus": [
            [
             0,
             "#0d0887"
            ],
            [
             0.1111111111111111,
             "#46039f"
            ],
            [
             0.2222222222222222,
             "#7201a8"
            ],
            [
             0.3333333333333333,
             "#9c179e"
            ],
            [
             0.4444444444444444,
             "#bd3786"
            ],
            [
             0.5555555555555556,
             "#d8576b"
            ],
            [
             0.6666666666666666,
             "#ed7953"
            ],
            [
             0.7777777777777778,
             "#fb9f3a"
            ],
            [
             0.8888888888888888,
             "#fdca26"
            ],
            [
             1,
             "#f0f921"
            ]
           ]
          },
          "colorway": [
           "#636efa",
           "#EF553B",
           "#00cc96",
           "#ab63fa",
           "#FFA15A",
           "#19d3f3",
           "#FF6692",
           "#B6E880",
           "#FF97FF",
           "#FECB52"
          ],
          "font": {
           "color": "#2a3f5f"
          },
          "geo": {
           "bgcolor": "white",
           "lakecolor": "white",
           "landcolor": "#E5ECF6",
           "showlakes": true,
           "showland": true,
           "subunitcolor": "white"
          },
          "hoverlabel": {
           "align": "left"
          },
          "hovermode": "closest",
          "mapbox": {
           "style": "light"
          },
          "paper_bgcolor": "white",
          "plot_bgcolor": "#E5ECF6",
          "polar": {
           "angularaxis": {
            "gridcolor": "white",
            "linecolor": "white",
            "ticks": ""
           },
           "bgcolor": "#E5ECF6",
           "radialaxis": {
            "gridcolor": "white",
            "linecolor": "white",
            "ticks": ""
           }
          },
          "scene": {
           "xaxis": {
            "backgroundcolor": "#E5ECF6",
            "gridcolor": "white",
            "gridwidth": 2,
            "linecolor": "white",
            "showbackground": true,
            "ticks": "",
            "zerolinecolor": "white"
           },
           "yaxis": {
            "backgroundcolor": "#E5ECF6",
            "gridcolor": "white",
            "gridwidth": 2,
            "linecolor": "white",
            "showbackground": true,
            "ticks": "",
            "zerolinecolor": "white"
           },
           "zaxis": {
            "backgroundcolor": "#E5ECF6",
            "gridcolor": "white",
            "gridwidth": 2,
            "linecolor": "white",
            "showbackground": true,
            "ticks": "",
            "zerolinecolor": "white"
           }
          },
          "shapedefaults": {
           "line": {
            "color": "#2a3f5f"
           }
          },
          "ternary": {
           "aaxis": {
            "gridcolor": "white",
            "linecolor": "white",
            "ticks": ""
           },
           "baxis": {
            "gridcolor": "white",
            "linecolor": "white",
            "ticks": ""
           },
           "bgcolor": "#E5ECF6",
           "caxis": {
            "gridcolor": "white",
            "linecolor": "white",
            "ticks": ""
           }
          },
          "title": {
           "x": 0.05
          },
          "xaxis": {
           "automargin": true,
           "gridcolor": "white",
           "linecolor": "white",
           "ticks": "",
           "title": {
            "standoff": 15
           },
           "zerolinecolor": "white",
           "zerolinewidth": 2
          },
          "yaxis": {
           "automargin": true,
           "gridcolor": "white",
           "linecolor": "white",
           "ticks": "",
           "title": {
            "standoff": 15
           },
           "zerolinecolor": "white",
           "zerolinewidth": 2
          }
         }
        },
        "title": {
         "text": "Meritvärde för 16 ämnen 2018-2023"
        },
        "xaxis": {
         "anchor": "y",
         "domain": [
          0,
          1
         ],
         "title": {
          "text": "Läsår"
         }
        },
        "yaxis": {
         "anchor": "x",
         "domain": [
          0,
          1
         ],
         "tickformat": ".1f",
         "title": {
          "text": "Meritvärde"
         }
        }
       }
      }
     },
     "metadata": {},
     "output_type": "display_data"
    }
   ],
   "source": [
    "df_focused_merit = df_betyg_T1b.iloc[:5, [0, 1, 2, 3]].copy()\n",
    "\n",
    "df_focused_merit.columns = ['Läsår', 'Totalt', 'Flickor', 'Pojkar']\n",
    "\n",
    "fig = px.line(df_focused_merit, x='Läsår', y=['Totalt', 'Flickor', 'Pojkar'], \n",
    "              title=\"Meritvärde för 16 ämnen 2018-2023\",\n",
    "              labels={\"value\": \"Antal\", \"variable\": \"Grupp\"},\n",
    "              markers=True, \n",
    "              color_discrete_map={ \n",
    "                  'Totalt': 'tomato',  \n",
    "                  'Flickor': 'darkviolet',  \n",
    "                  'Pojkar': 'cadetblue'  \n",
    "              })\n",
    "fig.update_layout(yaxis_tickformat = '.1f', \n",
    "                  xaxis_title=\"Läsår\", \n",
    "                  yaxis_title=\"Meritvärde\", \n",
    "                  legend=dict(title=\"Grupper\",orientation=\"h\",yanchor=\"bottom\",y=1.02,xanchor=\"right\",x=1), \n",
    "                  paper_bgcolor=\"white\", plot_bgcolor=\"whitesmoke\")\n",
    "fig.write_html(\"../Labb2/Visualiseringar/Meritvärde_16_ämnen.html\")\n",
    "fig.show()"
   ]
  },
  {
   "cell_type": "markdown",
   "metadata": {},
   "source": [
    "## C.)\n",
    "\n",
    "- C.) Undersök nu andra variabler, och hur de påverkar meritvärde och andel med minst ett saknat betyg. Data finns för\n",
    "läsår 22/23. Exempel kan man undersöka föräldrarnas utbildningsbakgrund. Rita lämpliga grafer."
   ]
  },
  {
   "cell_type": "code",
   "execution_count": 10,
   "metadata": {},
   "outputs": [
    {
     "data": {
      "text/html": [
       "<div>\n",
       "<style scoped>\n",
       "    .dataframe tbody tr th:only-of-type {\n",
       "        vertical-align: middle;\n",
       "    }\n",
       "\n",
       "    .dataframe tbody tr th {\n",
       "        vertical-align: top;\n",
       "    }\n",
       "\n",
       "    .dataframe thead th {\n",
       "        text-align: right;\n",
       "    }\n",
       "</style>\n",
       "<table border=\"1\" class=\"dataframe\">\n",
       "  <thead>\n",
       "    <tr style=\"text-align: right;\">\n",
       "      <th></th>\n",
       "      <th>Läsår/huvudman/Bakgrund</th>\n",
       "      <th>Genomsnittligt meritvärde Tot (16 ämnen)</th>\n",
       "      <th>Genomsnittligt meritvärde F (16 ämnen)</th>\n",
       "      <th>Genomsnittligt meritvärde P (16 ämnen)</th>\n",
       "      <th>Genomsnittligt meritvärde Tot (17 ämnen)</th>\n",
       "      <th>Genomsnittligt meritvärde F (17 ämnen)</th>\n",
       "      <th>Genomsnittligt meritvärde P (17 ämnen)</th>\n",
       "      <th>(%) elever som saknar godkänt betyg i ett eller fler ämnen (Totalt)</th>\n",
       "      <th>(%) elever som saknar godkänt betyg i ett eller fler ämnen (Flickor)</th>\n",
       "      <th>(%) elever som saknar godkänt betyg i ett eller fler ämnen (Pojkar)</th>\n",
       "    </tr>\n",
       "  </thead>\n",
       "  <tbody>\n",
       "    <tr>\n",
       "      <th>0</th>\n",
       "      <td>2018/19</td>\n",
       "      <td>221.7</td>\n",
       "      <td>234.3</td>\n",
       "      <td>209.8</td>\n",
       "      <td>229.8</td>\n",
       "      <td>243.3</td>\n",
       "      <td>217.0</td>\n",
       "      <td>24.5</td>\n",
       "      <td>21.7</td>\n",
       "      <td>27.2</td>\n",
       "    </tr>\n",
       "    <tr>\n",
       "      <th>1</th>\n",
       "      <td>2019/20</td>\n",
       "      <td>222.9</td>\n",
       "      <td>235.7</td>\n",
       "      <td>210.9</td>\n",
       "      <td>231.1</td>\n",
       "      <td>244.9</td>\n",
       "      <td>218.2</td>\n",
       "      <td>23.9</td>\n",
       "      <td>21.4</td>\n",
       "      <td>26.3</td>\n",
       "    </tr>\n",
       "    <tr>\n",
       "      <th>2</th>\n",
       "      <td>2020/21</td>\n",
       "      <td>223.9</td>\n",
       "      <td>235.4</td>\n",
       "      <td>212.9</td>\n",
       "      <td>232.1</td>\n",
       "      <td>244.4</td>\n",
       "      <td>220.3</td>\n",
       "      <td>23.9</td>\n",
       "      <td>21.9</td>\n",
       "      <td>25.9</td>\n",
       "    </tr>\n",
       "    <tr>\n",
       "      <th>3</th>\n",
       "      <td>2021/22</td>\n",
       "      <td>221.2</td>\n",
       "      <td>231.6</td>\n",
       "      <td>211.4</td>\n",
       "      <td>229.2</td>\n",
       "      <td>240.3</td>\n",
       "      <td>218.8</td>\n",
       "      <td>25.9</td>\n",
       "      <td>24.2</td>\n",
       "      <td>27.5</td>\n",
       "    </tr>\n",
       "    <tr>\n",
       "      <th>4</th>\n",
       "      <td>2022/23</td>\n",
       "      <td>220.6</td>\n",
       "      <td>229.7</td>\n",
       "      <td>211.9</td>\n",
       "      <td>228.5</td>\n",
       "      <td>238.2</td>\n",
       "      <td>219.3</td>\n",
       "      <td>26.8</td>\n",
       "      <td>25.5</td>\n",
       "      <td>28.0</td>\n",
       "    </tr>\n",
       "    <tr>\n",
       "      <th>5</th>\n",
       "      <td>därav</td>\n",
       "      <td>NaN</td>\n",
       "      <td>NaN</td>\n",
       "      <td>NaN</td>\n",
       "      <td>NaN</td>\n",
       "      <td>NaN</td>\n",
       "      <td>NaN</td>\n",
       "      <td>NaN</td>\n",
       "      <td>NaN</td>\n",
       "      <td>NaN</td>\n",
       "    </tr>\n",
       "    <tr>\n",
       "      <th>6</th>\n",
       "      <td>Kommun</td>\n",
       "      <td>216.1</td>\n",
       "      <td>225.6</td>\n",
       "      <td>207.2</td>\n",
       "      <td>223.6</td>\n",
       "      <td>233.8</td>\n",
       "      <td>214.1</td>\n",
       "      <td>28.9</td>\n",
       "      <td>27.4</td>\n",
       "      <td>30.3</td>\n",
       "    </tr>\n",
       "    <tr>\n",
       "      <th>7</th>\n",
       "      <td>Enskild</td>\n",
       "      <td>237.9</td>\n",
       "      <td>245.0</td>\n",
       "      <td>230.8</td>\n",
       "      <td>247.2</td>\n",
       "      <td>254.8</td>\n",
       "      <td>239.7</td>\n",
       "      <td>18.7</td>\n",
       "      <td>18.4</td>\n",
       "      <td>19.0</td>\n",
       "    </tr>\n",
       "    <tr>\n",
       "      <th>8</th>\n",
       "      <td>därav</td>\n",
       "      <td>NaN</td>\n",
       "      <td>NaN</td>\n",
       "      <td>NaN</td>\n",
       "      <td>NaN</td>\n",
       "      <td>NaN</td>\n",
       "      <td>NaN</td>\n",
       "      <td>NaN</td>\n",
       "      <td>NaN</td>\n",
       "      <td>NaN</td>\n",
       "    </tr>\n",
       "    <tr>\n",
       "      <th>9</th>\n",
       "      <td>Allmän inriktning</td>\n",
       "      <td>238.5</td>\n",
       "      <td>245.8</td>\n",
       "      <td>231.2</td>\n",
       "      <td>247.9</td>\n",
       "      <td>255.7</td>\n",
       "      <td>240.1</td>\n",
       "      <td>18.0</td>\n",
       "      <td>17.7</td>\n",
       "      <td>18.3</td>\n",
       "    </tr>\n",
       "    <tr>\n",
       "      <th>10</th>\n",
       "      <td>Konfessionell</td>\n",
       "      <td>225.6</td>\n",
       "      <td>230.5</td>\n",
       "      <td>220.5</td>\n",
       "      <td>233.2</td>\n",
       "      <td>238.4</td>\n",
       "      <td>227.8</td>\n",
       "      <td>29.4</td>\n",
       "      <td>29.5</td>\n",
       "      <td>29.4</td>\n",
       "    </tr>\n",
       "    <tr>\n",
       "      <th>11</th>\n",
       "      <td>Waldorf</td>\n",
       "      <td>236.3</td>\n",
       "      <td>239.0</td>\n",
       "      <td>233.9</td>\n",
       "      <td>244.3</td>\n",
       "      <td>247.1</td>\n",
       "      <td>241.7</td>\n",
       "      <td>25.6</td>\n",
       "      <td>25.3</td>\n",
       "      <td>25.8</td>\n",
       "    </tr>\n",
       "    <tr>\n",
       "      <th>12</th>\n",
       "      <td>Elever med svensk bakgrund</td>\n",
       "      <td>227.4</td>\n",
       "      <td>236.3</td>\n",
       "      <td>219.1</td>\n",
       "      <td>236.0</td>\n",
       "      <td>245.4</td>\n",
       "      <td>227.1</td>\n",
       "      <td>21.4</td>\n",
       "      <td>20.5</td>\n",
       "      <td>22.2</td>\n",
       "    </tr>\n",
       "    <tr>\n",
       "      <th>13</th>\n",
       "      <td>Elever med utländsk bakgrund</td>\n",
       "      <td>204.0</td>\n",
       "      <td>214.1</td>\n",
       "      <td>194.5</td>\n",
       "      <td>210.2</td>\n",
       "      <td>221.0</td>\n",
       "      <td>200.1</td>\n",
       "      <td>40.2</td>\n",
       "      <td>37.8</td>\n",
       "      <td>42.5</td>\n",
       "    </tr>\n",
       "    <tr>\n",
       "      <th>14</th>\n",
       "      <td>därav</td>\n",
       "      <td>NaN</td>\n",
       "      <td>NaN</td>\n",
       "      <td>NaN</td>\n",
       "      <td>NaN</td>\n",
       "      <td>NaN</td>\n",
       "      <td>NaN</td>\n",
       "      <td>NaN</td>\n",
       "      <td>NaN</td>\n",
       "      <td>NaN</td>\n",
       "    </tr>\n",
       "    <tr>\n",
       "      <th>15</th>\n",
       "      <td>Födda i Sverige</td>\n",
       "      <td>215.5</td>\n",
       "      <td>224.7</td>\n",
       "      <td>206.6</td>\n",
       "      <td>223.0</td>\n",
       "      <td>232.8</td>\n",
       "      <td>213.5</td>\n",
       "      <td>32.6</td>\n",
       "      <td>30.8</td>\n",
       "      <td>34.3</td>\n",
       "    </tr>\n",
       "    <tr>\n",
       "      <th>16</th>\n",
       "      <td>Födda utomlands, inv. före 2014</td>\n",
       "      <td>217.4</td>\n",
       "      <td>227.6</td>\n",
       "      <td>208.0</td>\n",
       "      <td>224.8</td>\n",
       "      <td>235.8</td>\n",
       "      <td>214.7</td>\n",
       "      <td>32.0</td>\n",
       "      <td>29.8</td>\n",
       "      <td>34.0</td>\n",
       "    </tr>\n",
       "    <tr>\n",
       "      <th>17</th>\n",
       "      <td>Födda utomlands, inv. 2014 el. senare</td>\n",
       "      <td>182.1</td>\n",
       "      <td>193.1</td>\n",
       "      <td>171.8</td>\n",
       "      <td>186.1</td>\n",
       "      <td>197.7</td>\n",
       "      <td>175.1</td>\n",
       "      <td>54.3</td>\n",
       "      <td>51.1</td>\n",
       "      <td>57.2</td>\n",
       "    </tr>\n",
       "    <tr>\n",
       "      <th>18</th>\n",
       "      <td>Totalt exkl. nyinvandrade elever och okänd bak...</td>\n",
       "      <td>223.0</td>\n",
       "      <td>232.1</td>\n",
       "      <td>214.3</td>\n",
       "      <td>231.1</td>\n",
       "      <td>240.9</td>\n",
       "      <td>221.7</td>\n",
       "      <td>25.2</td>\n",
       "      <td>24.0</td>\n",
       "      <td>26.4</td>\n",
       "    </tr>\n",
       "    <tr>\n",
       "      <th>19</th>\n",
       "      <td>Nyinvandrade elever</td>\n",
       "      <td>144.8</td>\n",
       "      <td>152.0</td>\n",
       "      <td>138.2</td>\n",
       "      <td>146.2</td>\n",
       "      <td>153.6</td>\n",
       "      <td>139.3</td>\n",
       "      <td>75.0</td>\n",
       "      <td>72.9</td>\n",
       "      <td>77.0</td>\n",
       "    </tr>\n",
       "    <tr>\n",
       "      <th>20</th>\n",
       "      <td>Elever med okänd bakgrund</td>\n",
       "      <td>133.3</td>\n",
       "      <td>133.9</td>\n",
       "      <td>132.8</td>\n",
       "      <td>135.2</td>\n",
       "      <td>135.8</td>\n",
       "      <td>134.6</td>\n",
       "      <td>77.9</td>\n",
       "      <td>79.8</td>\n",
       "      <td>76.1</td>\n",
       "    </tr>\n",
       "    <tr>\n",
       "      <th>21</th>\n",
       "      <td>Föräldrarnas högsta utbildning2</td>\n",
       "      <td>NaN</td>\n",
       "      <td>NaN</td>\n",
       "      <td>NaN</td>\n",
       "      <td>NaN</td>\n",
       "      <td>NaN</td>\n",
       "      <td>NaN</td>\n",
       "      <td>NaN</td>\n",
       "      <td>NaN</td>\n",
       "      <td>NaN</td>\n",
       "    </tr>\n",
       "    <tr>\n",
       "      <th>22</th>\n",
       "      <td>Förgymnasial utbildning</td>\n",
       "      <td>163.8</td>\n",
       "      <td>172.2</td>\n",
       "      <td>155.8</td>\n",
       "      <td>166.8</td>\n",
       "      <td>175.6</td>\n",
       "      <td>158.3</td>\n",
       "      <td>63.5</td>\n",
       "      <td>61.5</td>\n",
       "      <td>65.3</td>\n",
       "    </tr>\n",
       "    <tr>\n",
       "      <th>23</th>\n",
       "      <td>Gymnasial utbildning</td>\n",
       "      <td>197.4</td>\n",
       "      <td>207.2</td>\n",
       "      <td>188.2</td>\n",
       "      <td>203.2</td>\n",
       "      <td>213.6</td>\n",
       "      <td>193.3</td>\n",
       "      <td>37.4</td>\n",
       "      <td>35.2</td>\n",
       "      <td>39.5</td>\n",
       "    </tr>\n",
       "    <tr>\n",
       "      <th>24</th>\n",
       "      <td>Eftergymnasial utbildning</td>\n",
       "      <td>239.1</td>\n",
       "      <td>247.9</td>\n",
       "      <td>230.7</td>\n",
       "      <td>248.6</td>\n",
       "      <td>258.1</td>\n",
       "      <td>239.6</td>\n",
       "      <td>16.8</td>\n",
       "      <td>16.1</td>\n",
       "      <td>17.5</td>\n",
       "    </tr>\n",
       "    <tr>\n",
       "      <th>25</th>\n",
       "      <td>därav</td>\n",
       "      <td>NaN</td>\n",
       "      <td>NaN</td>\n",
       "      <td>NaN</td>\n",
       "      <td>NaN</td>\n",
       "      <td>NaN</td>\n",
       "      <td>NaN</td>\n",
       "      <td>NaN</td>\n",
       "      <td>NaN</td>\n",
       "      <td>NaN</td>\n",
       "    </tr>\n",
       "    <tr>\n",
       "      <th>26</th>\n",
       "      <td>Kort utbildning</td>\n",
       "      <td>218.9</td>\n",
       "      <td>228.4</td>\n",
       "      <td>209.7</td>\n",
       "      <td>226.5</td>\n",
       "      <td>236.6</td>\n",
       "      <td>216.6</td>\n",
       "      <td>26.1</td>\n",
       "      <td>24.5</td>\n",
       "      <td>27.5</td>\n",
       "    </tr>\n",
       "    <tr>\n",
       "      <th>27</th>\n",
       "      <td>Lång utbildning</td>\n",
       "      <td>245.8</td>\n",
       "      <td>254.5</td>\n",
       "      <td>237.6</td>\n",
       "      <td>256.0</td>\n",
       "      <td>265.3</td>\n",
       "      <td>247.2</td>\n",
       "      <td>13.7</td>\n",
       "      <td>13.3</td>\n",
       "      <td>14.1</td>\n",
       "    </tr>\n",
       "  </tbody>\n",
       "</table>\n",
       "</div>"
      ],
      "text/plain": [
       "                              Läsår/huvudman/Bakgrund  \\\n",
       "0                                             2018/19   \n",
       "1                                             2019/20   \n",
       "2                                             2020/21   \n",
       "3                                             2021/22   \n",
       "4                                             2022/23   \n",
       "5                                               därav   \n",
       "6                                              Kommun   \n",
       "7                                             Enskild   \n",
       "8                                               därav   \n",
       "9                                   Allmän inriktning   \n",
       "10                                      Konfessionell   \n",
       "11                                            Waldorf   \n",
       "12                         Elever med svensk bakgrund   \n",
       "13                       Elever med utländsk bakgrund   \n",
       "14                                              därav   \n",
       "15                                    Födda i Sverige   \n",
       "16                    Födda utomlands, inv. före 2014   \n",
       "17              Födda utomlands, inv. 2014 el. senare   \n",
       "18  Totalt exkl. nyinvandrade elever och okänd bak...   \n",
       "19                                Nyinvandrade elever   \n",
       "20                          Elever med okänd bakgrund   \n",
       "21                    Föräldrarnas högsta utbildning2   \n",
       "22                            Förgymnasial utbildning   \n",
       "23                               Gymnasial utbildning   \n",
       "24                          Eftergymnasial utbildning   \n",
       "25                                              därav   \n",
       "26                                    Kort utbildning   \n",
       "27                                    Lång utbildning   \n",
       "\n",
       "    Genomsnittligt meritvärde Tot (16 ämnen)  \\\n",
       "0                                      221.7   \n",
       "1                                      222.9   \n",
       "2                                      223.9   \n",
       "3                                      221.2   \n",
       "4                                      220.6   \n",
       "5                                        NaN   \n",
       "6                                      216.1   \n",
       "7                                      237.9   \n",
       "8                                        NaN   \n",
       "9                                      238.5   \n",
       "10                                     225.6   \n",
       "11                                     236.3   \n",
       "12                                     227.4   \n",
       "13                                     204.0   \n",
       "14                                       NaN   \n",
       "15                                     215.5   \n",
       "16                                     217.4   \n",
       "17                                     182.1   \n",
       "18                                     223.0   \n",
       "19                                     144.8   \n",
       "20                                     133.3   \n",
       "21                                       NaN   \n",
       "22                                     163.8   \n",
       "23                                     197.4   \n",
       "24                                     239.1   \n",
       "25                                       NaN   \n",
       "26                                     218.9   \n",
       "27                                     245.8   \n",
       "\n",
       "    Genomsnittligt meritvärde F (16 ämnen)  \\\n",
       "0                                    234.3   \n",
       "1                                    235.7   \n",
       "2                                    235.4   \n",
       "3                                    231.6   \n",
       "4                                    229.7   \n",
       "5                                      NaN   \n",
       "6                                    225.6   \n",
       "7                                    245.0   \n",
       "8                                      NaN   \n",
       "9                                    245.8   \n",
       "10                                   230.5   \n",
       "11                                   239.0   \n",
       "12                                   236.3   \n",
       "13                                   214.1   \n",
       "14                                     NaN   \n",
       "15                                   224.7   \n",
       "16                                   227.6   \n",
       "17                                   193.1   \n",
       "18                                   232.1   \n",
       "19                                   152.0   \n",
       "20                                   133.9   \n",
       "21                                     NaN   \n",
       "22                                   172.2   \n",
       "23                                   207.2   \n",
       "24                                   247.9   \n",
       "25                                     NaN   \n",
       "26                                   228.4   \n",
       "27                                   254.5   \n",
       "\n",
       "    Genomsnittligt meritvärde P (16 ämnen)  \\\n",
       "0                                    209.8   \n",
       "1                                    210.9   \n",
       "2                                    212.9   \n",
       "3                                    211.4   \n",
       "4                                    211.9   \n",
       "5                                      NaN   \n",
       "6                                    207.2   \n",
       "7                                    230.8   \n",
       "8                                      NaN   \n",
       "9                                    231.2   \n",
       "10                                   220.5   \n",
       "11                                   233.9   \n",
       "12                                   219.1   \n",
       "13                                   194.5   \n",
       "14                                     NaN   \n",
       "15                                   206.6   \n",
       "16                                   208.0   \n",
       "17                                   171.8   \n",
       "18                                   214.3   \n",
       "19                                   138.2   \n",
       "20                                   132.8   \n",
       "21                                     NaN   \n",
       "22                                   155.8   \n",
       "23                                   188.2   \n",
       "24                                   230.7   \n",
       "25                                     NaN   \n",
       "26                                   209.7   \n",
       "27                                   237.6   \n",
       "\n",
       "    Genomsnittligt meritvärde Tot (17 ämnen)  \\\n",
       "0                                      229.8   \n",
       "1                                      231.1   \n",
       "2                                      232.1   \n",
       "3                                      229.2   \n",
       "4                                      228.5   \n",
       "5                                        NaN   \n",
       "6                                      223.6   \n",
       "7                                      247.2   \n",
       "8                                        NaN   \n",
       "9                                      247.9   \n",
       "10                                     233.2   \n",
       "11                                     244.3   \n",
       "12                                     236.0   \n",
       "13                                     210.2   \n",
       "14                                       NaN   \n",
       "15                                     223.0   \n",
       "16                                     224.8   \n",
       "17                                     186.1   \n",
       "18                                     231.1   \n",
       "19                                     146.2   \n",
       "20                                     135.2   \n",
       "21                                       NaN   \n",
       "22                                     166.8   \n",
       "23                                     203.2   \n",
       "24                                     248.6   \n",
       "25                                       NaN   \n",
       "26                                     226.5   \n",
       "27                                     256.0   \n",
       "\n",
       "    Genomsnittligt meritvärde F (17 ämnen)  \\\n",
       "0                                    243.3   \n",
       "1                                    244.9   \n",
       "2                                    244.4   \n",
       "3                                    240.3   \n",
       "4                                    238.2   \n",
       "5                                      NaN   \n",
       "6                                    233.8   \n",
       "7                                    254.8   \n",
       "8                                      NaN   \n",
       "9                                    255.7   \n",
       "10                                   238.4   \n",
       "11                                   247.1   \n",
       "12                                   245.4   \n",
       "13                                   221.0   \n",
       "14                                     NaN   \n",
       "15                                   232.8   \n",
       "16                                   235.8   \n",
       "17                                   197.7   \n",
       "18                                   240.9   \n",
       "19                                   153.6   \n",
       "20                                   135.8   \n",
       "21                                     NaN   \n",
       "22                                   175.6   \n",
       "23                                   213.6   \n",
       "24                                   258.1   \n",
       "25                                     NaN   \n",
       "26                                   236.6   \n",
       "27                                   265.3   \n",
       "\n",
       "    Genomsnittligt meritvärde P (17 ämnen)  \\\n",
       "0                                    217.0   \n",
       "1                                    218.2   \n",
       "2                                    220.3   \n",
       "3                                    218.8   \n",
       "4                                    219.3   \n",
       "5                                      NaN   \n",
       "6                                    214.1   \n",
       "7                                    239.7   \n",
       "8                                      NaN   \n",
       "9                                    240.1   \n",
       "10                                   227.8   \n",
       "11                                   241.7   \n",
       "12                                   227.1   \n",
       "13                                   200.1   \n",
       "14                                     NaN   \n",
       "15                                   213.5   \n",
       "16                                   214.7   \n",
       "17                                   175.1   \n",
       "18                                   221.7   \n",
       "19                                   139.3   \n",
       "20                                   134.6   \n",
       "21                                     NaN   \n",
       "22                                   158.3   \n",
       "23                                   193.3   \n",
       "24                                   239.6   \n",
       "25                                     NaN   \n",
       "26                                   216.6   \n",
       "27                                   247.2   \n",
       "\n",
       "    (%) elever som saknar godkänt betyg i ett eller fler ämnen (Totalt)  \\\n",
       "0                                                24.5                     \n",
       "1                                                23.9                     \n",
       "2                                                23.9                     \n",
       "3                                                25.9                     \n",
       "4                                                26.8                     \n",
       "5                                                 NaN                     \n",
       "6                                                28.9                     \n",
       "7                                                18.7                     \n",
       "8                                                 NaN                     \n",
       "9                                                18.0                     \n",
       "10                                               29.4                     \n",
       "11                                               25.6                     \n",
       "12                                               21.4                     \n",
       "13                                               40.2                     \n",
       "14                                                NaN                     \n",
       "15                                               32.6                     \n",
       "16                                               32.0                     \n",
       "17                                               54.3                     \n",
       "18                                               25.2                     \n",
       "19                                               75.0                     \n",
       "20                                               77.9                     \n",
       "21                                                NaN                     \n",
       "22                                               63.5                     \n",
       "23                                               37.4                     \n",
       "24                                               16.8                     \n",
       "25                                                NaN                     \n",
       "26                                               26.1                     \n",
       "27                                               13.7                     \n",
       "\n",
       "    (%) elever som saknar godkänt betyg i ett eller fler ämnen (Flickor)  \\\n",
       "0                                                21.7                      \n",
       "1                                                21.4                      \n",
       "2                                                21.9                      \n",
       "3                                                24.2                      \n",
       "4                                                25.5                      \n",
       "5                                                 NaN                      \n",
       "6                                                27.4                      \n",
       "7                                                18.4                      \n",
       "8                                                 NaN                      \n",
       "9                                                17.7                      \n",
       "10                                               29.5                      \n",
       "11                                               25.3                      \n",
       "12                                               20.5                      \n",
       "13                                               37.8                      \n",
       "14                                                NaN                      \n",
       "15                                               30.8                      \n",
       "16                                               29.8                      \n",
       "17                                               51.1                      \n",
       "18                                               24.0                      \n",
       "19                                               72.9                      \n",
       "20                                               79.8                      \n",
       "21                                                NaN                      \n",
       "22                                               61.5                      \n",
       "23                                               35.2                      \n",
       "24                                               16.1                      \n",
       "25                                                NaN                      \n",
       "26                                               24.5                      \n",
       "27                                               13.3                      \n",
       "\n",
       "    (%) elever som saknar godkänt betyg i ett eller fler ämnen (Pojkar)  \n",
       "0                                                27.2                    \n",
       "1                                                26.3                    \n",
       "2                                                25.9                    \n",
       "3                                                27.5                    \n",
       "4                                                28.0                    \n",
       "5                                                 NaN                    \n",
       "6                                                30.3                    \n",
       "7                                                19.0                    \n",
       "8                                                 NaN                    \n",
       "9                                                18.3                    \n",
       "10                                               29.4                    \n",
       "11                                               25.8                    \n",
       "12                                               22.2                    \n",
       "13                                               42.5                    \n",
       "14                                                NaN                    \n",
       "15                                               34.3                    \n",
       "16                                               34.0                    \n",
       "17                                               57.2                    \n",
       "18                                               26.4                    \n",
       "19                                               77.0                    \n",
       "20                                               76.1                    \n",
       "21                                                NaN                    \n",
       "22                                               65.3                    \n",
       "23                                               39.5                    \n",
       "24                                               17.5                    \n",
       "25                                                NaN                    \n",
       "26                                               27.5                    \n",
       "27                                               14.1                    "
      ]
     },
     "execution_count": 10,
     "metadata": {},
     "output_type": "execute_result"
    }
   ],
   "source": [
    "df_betyg_T1b"
   ]
  },
  {
   "cell_type": "code",
   "execution_count": 11,
   "metadata": {},
   "outputs": [
    {
     "data": {
      "text/html": [
       "<div>\n",
       "<style scoped>\n",
       "    .dataframe tbody tr th:only-of-type {\n",
       "        vertical-align: middle;\n",
       "    }\n",
       "\n",
       "    .dataframe tbody tr th {\n",
       "        vertical-align: top;\n",
       "    }\n",
       "\n",
       "    .dataframe thead th {\n",
       "        text-align: right;\n",
       "    }\n",
       "</style>\n",
       "<table border=\"1\" class=\"dataframe\">\n",
       "  <thead>\n",
       "    <tr style=\"text-align: right;\">\n",
       "      <th></th>\n",
       "      <th>Läsår/huvudman/Bakgrund</th>\n",
       "      <th>Genomsnittligt meritvärde Tot (16 ämnen)</th>\n",
       "      <th>Genomsnittligt meritvärde F (16 ämnen)</th>\n",
       "      <th>Genomsnittligt meritvärde P (16 ämnen)</th>\n",
       "      <th>Genomsnittligt meritvärde Tot (17 ämnen)</th>\n",
       "      <th>Genomsnittligt meritvärde F (17 ämnen)</th>\n",
       "      <th>Genomsnittligt meritvärde P (17 ämnen)</th>\n",
       "      <th>(%) elever som saknar godkänt betyg i ett eller fler ämnen (Totalt)</th>\n",
       "      <th>(%) elever som saknar godkänt betyg i ett eller fler ämnen (Flickor)</th>\n",
       "      <th>(%) elever som saknar godkänt betyg i ett eller fler ämnen (Pojkar)</th>\n",
       "    </tr>\n",
       "  </thead>\n",
       "  <tbody>\n",
       "    <tr>\n",
       "      <th>22</th>\n",
       "      <td>Förgymnasial utbildning</td>\n",
       "      <td>163.8</td>\n",
       "      <td>172.2</td>\n",
       "      <td>155.8</td>\n",
       "      <td>166.8</td>\n",
       "      <td>175.6</td>\n",
       "      <td>158.3</td>\n",
       "      <td>63.5</td>\n",
       "      <td>61.5</td>\n",
       "      <td>65.3</td>\n",
       "    </tr>\n",
       "    <tr>\n",
       "      <th>23</th>\n",
       "      <td>Gymnasial utbildning</td>\n",
       "      <td>197.4</td>\n",
       "      <td>207.2</td>\n",
       "      <td>188.2</td>\n",
       "      <td>203.2</td>\n",
       "      <td>213.6</td>\n",
       "      <td>193.3</td>\n",
       "      <td>37.4</td>\n",
       "      <td>35.2</td>\n",
       "      <td>39.5</td>\n",
       "    </tr>\n",
       "    <tr>\n",
       "      <th>24</th>\n",
       "      <td>Eftergymnasial utbildning</td>\n",
       "      <td>239.1</td>\n",
       "      <td>247.9</td>\n",
       "      <td>230.7</td>\n",
       "      <td>248.6</td>\n",
       "      <td>258.1</td>\n",
       "      <td>239.6</td>\n",
       "      <td>16.8</td>\n",
       "      <td>16.1</td>\n",
       "      <td>17.5</td>\n",
       "    </tr>\n",
       "  </tbody>\n",
       "</table>\n",
       "</div>"
      ],
      "text/plain": [
       "      Läsår/huvudman/Bakgrund  Genomsnittligt meritvärde Tot (16 ämnen)  \\\n",
       "22    Förgymnasial utbildning                                     163.8   \n",
       "23       Gymnasial utbildning                                     197.4   \n",
       "24  Eftergymnasial utbildning                                     239.1   \n",
       "\n",
       "    Genomsnittligt meritvärde F (16 ämnen)  \\\n",
       "22                                   172.2   \n",
       "23                                   207.2   \n",
       "24                                   247.9   \n",
       "\n",
       "    Genomsnittligt meritvärde P (16 ämnen)  \\\n",
       "22                                   155.8   \n",
       "23                                   188.2   \n",
       "24                                   230.7   \n",
       "\n",
       "    Genomsnittligt meritvärde Tot (17 ämnen)  \\\n",
       "22                                     166.8   \n",
       "23                                     203.2   \n",
       "24                                     248.6   \n",
       "\n",
       "    Genomsnittligt meritvärde F (17 ämnen)  \\\n",
       "22                                   175.6   \n",
       "23                                   213.6   \n",
       "24                                   258.1   \n",
       "\n",
       "    Genomsnittligt meritvärde P (17 ämnen)  \\\n",
       "22                                   158.3   \n",
       "23                                   193.3   \n",
       "24                                   239.6   \n",
       "\n",
       "    (%) elever som saknar godkänt betyg i ett eller fler ämnen (Totalt)  \\\n",
       "22                                               63.5                     \n",
       "23                                               37.4                     \n",
       "24                                               16.8                     \n",
       "\n",
       "    (%) elever som saknar godkänt betyg i ett eller fler ämnen (Flickor)  \\\n",
       "22                                               61.5                      \n",
       "23                                               35.2                      \n",
       "24                                               16.1                      \n",
       "\n",
       "    (%) elever som saknar godkänt betyg i ett eller fler ämnen (Pojkar)  \n",
       "22                                               65.3                    \n",
       "23                                               39.5                    \n",
       "24                                               17.5                    "
      ]
     },
     "execution_count": 11,
     "metadata": {},
     "output_type": "execute_result"
    }
   ],
   "source": [
    "\n",
    "df_filtered_parents = df_betyg_T1b.loc[[22, 23, 24]] # Filtering out the needed information for the coming charts from the ('df_betyg_T1b') Dataframe.\n",
    "\n",
    "df_filtered_parents"
   ]
  },
  {
   "cell_type": "markdown",
   "metadata": {},
   "source": [
    "### C.) Plot\n",
    "\n",
    "- This code generates two bar charts using Plotly, showing the relationship between parental education levels and student academic outcomes. \n",
    "- The first chart visualizes average merit scores across 17 subjects, while the second displays the percentage of students lacking passing grades, both categorized by parental education level.\n",
    "- The charts are customized for better readability"
   ]
  },
  {
   "cell_type": "code",
   "execution_count": 12,
   "metadata": {},
   "outputs": [
    {
     "data": {
      "application/vnd.plotly.v1+json": {
       "config": {
        "plotlyServerURL": "https://plot.ly"
       },
       "data": [
        {
         "alignmentgroup": "True",
         "hovertemplate": "Läsår/huvudman/Bakgrund=%{x}<br>Genomsnittligt meritvärde Tot (17 ämnen)=%{y}<extra></extra>",
         "legendgroup": "Förgymnasial utbildning",
         "marker": {
          "color": "orangered",
          "pattern": {
           "shape": ""
          }
         },
         "name": "Förgymnasial utbildning",
         "offsetgroup": "Förgymnasial utbildning",
         "orientation": "v",
         "showlegend": true,
         "textposition": "auto",
         "type": "bar",
         "x": [
          "Förgymnasial utbildning"
         ],
         "xaxis": "x",
         "y": [
          166.8
         ],
         "yaxis": "y"
        },
        {
         "alignmentgroup": "True",
         "hovertemplate": "Läsår/huvudman/Bakgrund=%{x}<br>Genomsnittligt meritvärde Tot (17 ämnen)=%{y}<extra></extra>",
         "legendgroup": "Gymnasial utbildning",
         "marker": {
          "color": "indigo",
          "pattern": {
           "shape": ""
          }
         },
         "name": "Gymnasial utbildning",
         "offsetgroup": "Gymnasial utbildning",
         "orientation": "v",
         "showlegend": true,
         "textposition": "auto",
         "type": "bar",
         "x": [
          "Gymnasial utbildning"
         ],
         "xaxis": "x",
         "y": [
          203.2
         ],
         "yaxis": "y"
        },
        {
         "alignmentgroup": "True",
         "hovertemplate": "Läsår/huvudman/Bakgrund=%{x}<br>Genomsnittligt meritvärde Tot (17 ämnen)=%{y}<extra></extra>",
         "legendgroup": "Eftergymnasial utbildning",
         "marker": {
          "color": "teal",
          "pattern": {
           "shape": ""
          }
         },
         "name": "Eftergymnasial utbildning",
         "offsetgroup": "Eftergymnasial utbildning",
         "orientation": "v",
         "showlegend": true,
         "textposition": "auto",
         "type": "bar",
         "x": [
          "Eftergymnasial utbildning"
         ],
         "xaxis": "x",
         "y": [
          248.6
         ],
         "yaxis": "y"
        }
       ],
       "layout": {
        "barmode": "relative",
        "height": 500,
        "legend": {
         "title": {
          "text": "Läsår/huvudman/Bakgrund"
         },
         "tracegroupgap": 0
        },
        "template": {
         "data": {
          "bar": [
           {
            "error_x": {
             "color": "#2a3f5f"
            },
            "error_y": {
             "color": "#2a3f5f"
            },
            "marker": {
             "line": {
              "color": "#E5ECF6",
              "width": 0.5
             },
             "pattern": {
              "fillmode": "overlay",
              "size": 10,
              "solidity": 0.2
             }
            },
            "type": "bar"
           }
          ],
          "barpolar": [
           {
            "marker": {
             "line": {
              "color": "#E5ECF6",
              "width": 0.5
             },
             "pattern": {
              "fillmode": "overlay",
              "size": 10,
              "solidity": 0.2
             }
            },
            "type": "barpolar"
           }
          ],
          "carpet": [
           {
            "aaxis": {
             "endlinecolor": "#2a3f5f",
             "gridcolor": "white",
             "linecolor": "white",
             "minorgridcolor": "white",
             "startlinecolor": "#2a3f5f"
            },
            "baxis": {
             "endlinecolor": "#2a3f5f",
             "gridcolor": "white",
             "linecolor": "white",
             "minorgridcolor": "white",
             "startlinecolor": "#2a3f5f"
            },
            "type": "carpet"
           }
          ],
          "choropleth": [
           {
            "colorbar": {
             "outlinewidth": 0,
             "ticks": ""
            },
            "type": "choropleth"
           }
          ],
          "contour": [
           {
            "colorbar": {
             "outlinewidth": 0,
             "ticks": ""
            },
            "colorscale": [
             [
              0,
              "#0d0887"
             ],
             [
              0.1111111111111111,
              "#46039f"
             ],
             [
              0.2222222222222222,
              "#7201a8"
             ],
             [
              0.3333333333333333,
              "#9c179e"
             ],
             [
              0.4444444444444444,
              "#bd3786"
             ],
             [
              0.5555555555555556,
              "#d8576b"
             ],
             [
              0.6666666666666666,
              "#ed7953"
             ],
             [
              0.7777777777777778,
              "#fb9f3a"
             ],
             [
              0.8888888888888888,
              "#fdca26"
             ],
             [
              1,
              "#f0f921"
             ]
            ],
            "type": "contour"
           }
          ],
          "contourcarpet": [
           {
            "colorbar": {
             "outlinewidth": 0,
             "ticks": ""
            },
            "type": "contourcarpet"
           }
          ],
          "heatmap": [
           {
            "colorbar": {
             "outlinewidth": 0,
             "ticks": ""
            },
            "colorscale": [
             [
              0,
              "#0d0887"
             ],
             [
              0.1111111111111111,
              "#46039f"
             ],
             [
              0.2222222222222222,
              "#7201a8"
             ],
             [
              0.3333333333333333,
              "#9c179e"
             ],
             [
              0.4444444444444444,
              "#bd3786"
             ],
             [
              0.5555555555555556,
              "#d8576b"
             ],
             [
              0.6666666666666666,
              "#ed7953"
             ],
             [
              0.7777777777777778,
              "#fb9f3a"
             ],
             [
              0.8888888888888888,
              "#fdca26"
             ],
             [
              1,
              "#f0f921"
             ]
            ],
            "type": "heatmap"
           }
          ],
          "heatmapgl": [
           {
            "colorbar": {
             "outlinewidth": 0,
             "ticks": ""
            },
            "colorscale": [
             [
              0,
              "#0d0887"
             ],
             [
              0.1111111111111111,
              "#46039f"
             ],
             [
              0.2222222222222222,
              "#7201a8"
             ],
             [
              0.3333333333333333,
              "#9c179e"
             ],
             [
              0.4444444444444444,
              "#bd3786"
             ],
             [
              0.5555555555555556,
              "#d8576b"
             ],
             [
              0.6666666666666666,
              "#ed7953"
             ],
             [
              0.7777777777777778,
              "#fb9f3a"
             ],
             [
              0.8888888888888888,
              "#fdca26"
             ],
             [
              1,
              "#f0f921"
             ]
            ],
            "type": "heatmapgl"
           }
          ],
          "histogram": [
           {
            "marker": {
             "pattern": {
              "fillmode": "overlay",
              "size": 10,
              "solidity": 0.2
             }
            },
            "type": "histogram"
           }
          ],
          "histogram2d": [
           {
            "colorbar": {
             "outlinewidth": 0,
             "ticks": ""
            },
            "colorscale": [
             [
              0,
              "#0d0887"
             ],
             [
              0.1111111111111111,
              "#46039f"
             ],
             [
              0.2222222222222222,
              "#7201a8"
             ],
             [
              0.3333333333333333,
              "#9c179e"
             ],
             [
              0.4444444444444444,
              "#bd3786"
             ],
             [
              0.5555555555555556,
              "#d8576b"
             ],
             [
              0.6666666666666666,
              "#ed7953"
             ],
             [
              0.7777777777777778,
              "#fb9f3a"
             ],
             [
              0.8888888888888888,
              "#fdca26"
             ],
             [
              1,
              "#f0f921"
             ]
            ],
            "type": "histogram2d"
           }
          ],
          "histogram2dcontour": [
           {
            "colorbar": {
             "outlinewidth": 0,
             "ticks": ""
            },
            "colorscale": [
             [
              0,
              "#0d0887"
             ],
             [
              0.1111111111111111,
              "#46039f"
             ],
             [
              0.2222222222222222,
              "#7201a8"
             ],
             [
              0.3333333333333333,
              "#9c179e"
             ],
             [
              0.4444444444444444,
              "#bd3786"
             ],
             [
              0.5555555555555556,
              "#d8576b"
             ],
             [
              0.6666666666666666,
              "#ed7953"
             ],
             [
              0.7777777777777778,
              "#fb9f3a"
             ],
             [
              0.8888888888888888,
              "#fdca26"
             ],
             [
              1,
              "#f0f921"
             ]
            ],
            "type": "histogram2dcontour"
           }
          ],
          "mesh3d": [
           {
            "colorbar": {
             "outlinewidth": 0,
             "ticks": ""
            },
            "type": "mesh3d"
           }
          ],
          "parcoords": [
           {
            "line": {
             "colorbar": {
              "outlinewidth": 0,
              "ticks": ""
             }
            },
            "type": "parcoords"
           }
          ],
          "pie": [
           {
            "automargin": true,
            "type": "pie"
           }
          ],
          "scatter": [
           {
            "fillpattern": {
             "fillmode": "overlay",
             "size": 10,
             "solidity": 0.2
            },
            "type": "scatter"
           }
          ],
          "scatter3d": [
           {
            "line": {
             "colorbar": {
              "outlinewidth": 0,
              "ticks": ""
             }
            },
            "marker": {
             "colorbar": {
              "outlinewidth": 0,
              "ticks": ""
             }
            },
            "type": "scatter3d"
           }
          ],
          "scattercarpet": [
           {
            "marker": {
             "colorbar": {
              "outlinewidth": 0,
              "ticks": ""
             }
            },
            "type": "scattercarpet"
           }
          ],
          "scattergeo": [
           {
            "marker": {
             "colorbar": {
              "outlinewidth": 0,
              "ticks": ""
             }
            },
            "type": "scattergeo"
           }
          ],
          "scattergl": [
           {
            "marker": {
             "colorbar": {
              "outlinewidth": 0,
              "ticks": ""
             }
            },
            "type": "scattergl"
           }
          ],
          "scattermapbox": [
           {
            "marker": {
             "colorbar": {
              "outlinewidth": 0,
              "ticks": ""
             }
            },
            "type": "scattermapbox"
           }
          ],
          "scatterpolar": [
           {
            "marker": {
             "colorbar": {
              "outlinewidth": 0,
              "ticks": ""
             }
            },
            "type": "scatterpolar"
           }
          ],
          "scatterpolargl": [
           {
            "marker": {
             "colorbar": {
              "outlinewidth": 0,
              "ticks": ""
             }
            },
            "type": "scatterpolargl"
           }
          ],
          "scatterternary": [
           {
            "marker": {
             "colorbar": {
              "outlinewidth": 0,
              "ticks": ""
             }
            },
            "type": "scatterternary"
           }
          ],
          "surface": [
           {
            "colorbar": {
             "outlinewidth": 0,
             "ticks": ""
            },
            "colorscale": [
             [
              0,
              "#0d0887"
             ],
             [
              0.1111111111111111,
              "#46039f"
             ],
             [
              0.2222222222222222,
              "#7201a8"
             ],
             [
              0.3333333333333333,
              "#9c179e"
             ],
             [
              0.4444444444444444,
              "#bd3786"
             ],
             [
              0.5555555555555556,
              "#d8576b"
             ],
             [
              0.6666666666666666,
              "#ed7953"
             ],
             [
              0.7777777777777778,
              "#fb9f3a"
             ],
             [
              0.8888888888888888,
              "#fdca26"
             ],
             [
              1,
              "#f0f921"
             ]
            ],
            "type": "surface"
           }
          ],
          "table": [
           {
            "cells": {
             "fill": {
              "color": "#EBF0F8"
             },
             "line": {
              "color": "white"
             }
            },
            "header": {
             "fill": {
              "color": "#C8D4E3"
             },
             "line": {
              "color": "white"
             }
            },
            "type": "table"
           }
          ]
         },
         "layout": {
          "annotationdefaults": {
           "arrowcolor": "#2a3f5f",
           "arrowhead": 0,
           "arrowwidth": 1
          },
          "autotypenumbers": "strict",
          "coloraxis": {
           "colorbar": {
            "outlinewidth": 0,
            "ticks": ""
           }
          },
          "colorscale": {
           "diverging": [
            [
             0,
             "#8e0152"
            ],
            [
             0.1,
             "#c51b7d"
            ],
            [
             0.2,
             "#de77ae"
            ],
            [
             0.3,
             "#f1b6da"
            ],
            [
             0.4,
             "#fde0ef"
            ],
            [
             0.5,
             "#f7f7f7"
            ],
            [
             0.6,
             "#e6f5d0"
            ],
            [
             0.7,
             "#b8e186"
            ],
            [
             0.8,
             "#7fbc41"
            ],
            [
             0.9,
             "#4d9221"
            ],
            [
             1,
             "#276419"
            ]
           ],
           "sequential": [
            [
             0,
             "#0d0887"
            ],
            [
             0.1111111111111111,
             "#46039f"
            ],
            [
             0.2222222222222222,
             "#7201a8"
            ],
            [
             0.3333333333333333,
             "#9c179e"
            ],
            [
             0.4444444444444444,
             "#bd3786"
            ],
            [
             0.5555555555555556,
             "#d8576b"
            ],
            [
             0.6666666666666666,
             "#ed7953"
            ],
            [
             0.7777777777777778,
             "#fb9f3a"
            ],
            [
             0.8888888888888888,
             "#fdca26"
            ],
            [
             1,
             "#f0f921"
            ]
           ],
           "sequentialminus": [
            [
             0,
             "#0d0887"
            ],
            [
             0.1111111111111111,
             "#46039f"
            ],
            [
             0.2222222222222222,
             "#7201a8"
            ],
            [
             0.3333333333333333,
             "#9c179e"
            ],
            [
             0.4444444444444444,
             "#bd3786"
            ],
            [
             0.5555555555555556,
             "#d8576b"
            ],
            [
             0.6666666666666666,
             "#ed7953"
            ],
            [
             0.7777777777777778,
             "#fb9f3a"
            ],
            [
             0.8888888888888888,
             "#fdca26"
            ],
            [
             1,
             "#f0f921"
            ]
           ]
          },
          "colorway": [
           "#636efa",
           "#EF553B",
           "#00cc96",
           "#ab63fa",
           "#FFA15A",
           "#19d3f3",
           "#FF6692",
           "#B6E880",
           "#FF97FF",
           "#FECB52"
          ],
          "font": {
           "color": "#2a3f5f"
          },
          "geo": {
           "bgcolor": "white",
           "lakecolor": "white",
           "landcolor": "#E5ECF6",
           "showlakes": true,
           "showland": true,
           "subunitcolor": "white"
          },
          "hoverlabel": {
           "align": "left"
          },
          "hovermode": "closest",
          "mapbox": {
           "style": "light"
          },
          "paper_bgcolor": "white",
          "plot_bgcolor": "#E5ECF6",
          "polar": {
           "angularaxis": {
            "gridcolor": "white",
            "linecolor": "white",
            "ticks": ""
           },
           "bgcolor": "#E5ECF6",
           "radialaxis": {
            "gridcolor": "white",
            "linecolor": "white",
            "ticks": ""
           }
          },
          "scene": {
           "xaxis": {
            "backgroundcolor": "#E5ECF6",
            "gridcolor": "white",
            "gridwidth": 2,
            "linecolor": "white",
            "showbackground": true,
            "ticks": "",
            "zerolinecolor": "white"
           },
           "yaxis": {
            "backgroundcolor": "#E5ECF6",
            "gridcolor": "white",
            "gridwidth": 2,
            "linecolor": "white",
            "showbackground": true,
            "ticks": "",
            "zerolinecolor": "white"
           },
           "zaxis": {
            "backgroundcolor": "#E5ECF6",
            "gridcolor": "white",
            "gridwidth": 2,
            "linecolor": "white",
            "showbackground": true,
            "ticks": "",
            "zerolinecolor": "white"
           }
          },
          "shapedefaults": {
           "line": {
            "color": "#2a3f5f"
           }
          },
          "ternary": {
           "aaxis": {
            "gridcolor": "white",
            "linecolor": "white",
            "ticks": ""
           },
           "baxis": {
            "gridcolor": "white",
            "linecolor": "white",
            "ticks": ""
           },
           "bgcolor": "#E5ECF6",
           "caxis": {
            "gridcolor": "white",
            "linecolor": "white",
            "ticks": ""
           }
          },
          "title": {
           "x": 0.05
          },
          "xaxis": {
           "automargin": true,
           "gridcolor": "white",
           "linecolor": "white",
           "ticks": "",
           "title": {
            "standoff": 15
           },
           "zerolinecolor": "white",
           "zerolinewidth": 2
          },
          "yaxis": {
           "automargin": true,
           "gridcolor": "white",
           "linecolor": "white",
           "ticks": "",
           "title": {
            "standoff": 15
           },
           "zerolinecolor": "white",
           "zerolinewidth": 2
          }
         }
        },
        "title": {
         "text": "Hur föräldrarnas utbildning höjer elevers meritvärden",
         "x": 0.5
        },
        "width": 800,
        "xaxis": {
         "anchor": "y",
         "categoryarray": [
          "Förgymnasial utbildning",
          "Gymnasial utbildning",
          "Eftergymnasial utbildning"
         ],
         "categoryorder": "array",
         "domain": [
          0,
          1
         ],
         "title": {
          "text": ""
         }
        },
        "yaxis": {
         "anchor": "x",
         "domain": [
          0,
          1
         ],
         "title": {
          "text": "Genomsnittligt meritvärde Tot (17 ämnen)"
         }
        }
       }
      }
     },
     "metadata": {},
     "output_type": "display_data"
    },
    {
     "data": {
      "application/vnd.plotly.v1+json": {
       "config": {
        "plotlyServerURL": "https://plot.ly"
       },
       "data": [
        {
         "alignmentgroup": "True",
         "hovertemplate": "Läsår/huvudman/Bakgrund=%{x}<br>(%) elever som saknar godkänt betyg i ett eller fler ämnen (Totalt)=%{y}<extra></extra>",
         "legendgroup": "Förgymnasial utbildning",
         "marker": {
          "color": "orangered",
          "pattern": {
           "shape": ""
          }
         },
         "name": "Förgymnasial utbildning",
         "offsetgroup": "Förgymnasial utbildning",
         "orientation": "v",
         "showlegend": true,
         "textposition": "auto",
         "type": "bar",
         "x": [
          "Förgymnasial utbildning"
         ],
         "xaxis": "x",
         "y": [
          63.5
         ],
         "yaxis": "y"
        },
        {
         "alignmentgroup": "True",
         "hovertemplate": "Läsår/huvudman/Bakgrund=%{x}<br>(%) elever som saknar godkänt betyg i ett eller fler ämnen (Totalt)=%{y}<extra></extra>",
         "legendgroup": "Gymnasial utbildning",
         "marker": {
          "color": "indigo",
          "pattern": {
           "shape": ""
          }
         },
         "name": "Gymnasial utbildning",
         "offsetgroup": "Gymnasial utbildning",
         "orientation": "v",
         "showlegend": true,
         "textposition": "auto",
         "type": "bar",
         "x": [
          "Gymnasial utbildning"
         ],
         "xaxis": "x",
         "y": [
          37.4
         ],
         "yaxis": "y"
        },
        {
         "alignmentgroup": "True",
         "hovertemplate": "Läsår/huvudman/Bakgrund=%{x}<br>(%) elever som saknar godkänt betyg i ett eller fler ämnen (Totalt)=%{y}<extra></extra>",
         "legendgroup": "Eftergymnasial utbildning",
         "marker": {
          "color": "teal",
          "pattern": {
           "shape": ""
          }
         },
         "name": "Eftergymnasial utbildning",
         "offsetgroup": "Eftergymnasial utbildning",
         "orientation": "v",
         "showlegend": true,
         "textposition": "auto",
         "type": "bar",
         "x": [
          "Eftergymnasial utbildning"
         ],
         "xaxis": "x",
         "y": [
          16.8
         ],
         "yaxis": "y"
        }
       ],
       "layout": {
        "barmode": "relative",
        "height": 500,
        "legend": {
         "title": {
          "text": "Läsår/huvudman/Bakgrund"
         },
         "tracegroupgap": 0
        },
        "template": {
         "data": {
          "bar": [
           {
            "error_x": {
             "color": "#2a3f5f"
            },
            "error_y": {
             "color": "#2a3f5f"
            },
            "marker": {
             "line": {
              "color": "#E5ECF6",
              "width": 0.5
             },
             "pattern": {
              "fillmode": "overlay",
              "size": 10,
              "solidity": 0.2
             }
            },
            "type": "bar"
           }
          ],
          "barpolar": [
           {
            "marker": {
             "line": {
              "color": "#E5ECF6",
              "width": 0.5
             },
             "pattern": {
              "fillmode": "overlay",
              "size": 10,
              "solidity": 0.2
             }
            },
            "type": "barpolar"
           }
          ],
          "carpet": [
           {
            "aaxis": {
             "endlinecolor": "#2a3f5f",
             "gridcolor": "white",
             "linecolor": "white",
             "minorgridcolor": "white",
             "startlinecolor": "#2a3f5f"
            },
            "baxis": {
             "endlinecolor": "#2a3f5f",
             "gridcolor": "white",
             "linecolor": "white",
             "minorgridcolor": "white",
             "startlinecolor": "#2a3f5f"
            },
            "type": "carpet"
           }
          ],
          "choropleth": [
           {
            "colorbar": {
             "outlinewidth": 0,
             "ticks": ""
            },
            "type": "choropleth"
           }
          ],
          "contour": [
           {
            "colorbar": {
             "outlinewidth": 0,
             "ticks": ""
            },
            "colorscale": [
             [
              0,
              "#0d0887"
             ],
             [
              0.1111111111111111,
              "#46039f"
             ],
             [
              0.2222222222222222,
              "#7201a8"
             ],
             [
              0.3333333333333333,
              "#9c179e"
             ],
             [
              0.4444444444444444,
              "#bd3786"
             ],
             [
              0.5555555555555556,
              "#d8576b"
             ],
             [
              0.6666666666666666,
              "#ed7953"
             ],
             [
              0.7777777777777778,
              "#fb9f3a"
             ],
             [
              0.8888888888888888,
              "#fdca26"
             ],
             [
              1,
              "#f0f921"
             ]
            ],
            "type": "contour"
           }
          ],
          "contourcarpet": [
           {
            "colorbar": {
             "outlinewidth": 0,
             "ticks": ""
            },
            "type": "contourcarpet"
           }
          ],
          "heatmap": [
           {
            "colorbar": {
             "outlinewidth": 0,
             "ticks": ""
            },
            "colorscale": [
             [
              0,
              "#0d0887"
             ],
             [
              0.1111111111111111,
              "#46039f"
             ],
             [
              0.2222222222222222,
              "#7201a8"
             ],
             [
              0.3333333333333333,
              "#9c179e"
             ],
             [
              0.4444444444444444,
              "#bd3786"
             ],
             [
              0.5555555555555556,
              "#d8576b"
             ],
             [
              0.6666666666666666,
              "#ed7953"
             ],
             [
              0.7777777777777778,
              "#fb9f3a"
             ],
             [
              0.8888888888888888,
              "#fdca26"
             ],
             [
              1,
              "#f0f921"
             ]
            ],
            "type": "heatmap"
           }
          ],
          "heatmapgl": [
           {
            "colorbar": {
             "outlinewidth": 0,
             "ticks": ""
            },
            "colorscale": [
             [
              0,
              "#0d0887"
             ],
             [
              0.1111111111111111,
              "#46039f"
             ],
             [
              0.2222222222222222,
              "#7201a8"
             ],
             [
              0.3333333333333333,
              "#9c179e"
             ],
             [
              0.4444444444444444,
              "#bd3786"
             ],
             [
              0.5555555555555556,
              "#d8576b"
             ],
             [
              0.6666666666666666,
              "#ed7953"
             ],
             [
              0.7777777777777778,
              "#fb9f3a"
             ],
             [
              0.8888888888888888,
              "#fdca26"
             ],
             [
              1,
              "#f0f921"
             ]
            ],
            "type": "heatmapgl"
           }
          ],
          "histogram": [
           {
            "marker": {
             "pattern": {
              "fillmode": "overlay",
              "size": 10,
              "solidity": 0.2
             }
            },
            "type": "histogram"
           }
          ],
          "histogram2d": [
           {
            "colorbar": {
             "outlinewidth": 0,
             "ticks": ""
            },
            "colorscale": [
             [
              0,
              "#0d0887"
             ],
             [
              0.1111111111111111,
              "#46039f"
             ],
             [
              0.2222222222222222,
              "#7201a8"
             ],
             [
              0.3333333333333333,
              "#9c179e"
             ],
             [
              0.4444444444444444,
              "#bd3786"
             ],
             [
              0.5555555555555556,
              "#d8576b"
             ],
             [
              0.6666666666666666,
              "#ed7953"
             ],
             [
              0.7777777777777778,
              "#fb9f3a"
             ],
             [
              0.8888888888888888,
              "#fdca26"
             ],
             [
              1,
              "#f0f921"
             ]
            ],
            "type": "histogram2d"
           }
          ],
          "histogram2dcontour": [
           {
            "colorbar": {
             "outlinewidth": 0,
             "ticks": ""
            },
            "colorscale": [
             [
              0,
              "#0d0887"
             ],
             [
              0.1111111111111111,
              "#46039f"
             ],
             [
              0.2222222222222222,
              "#7201a8"
             ],
             [
              0.3333333333333333,
              "#9c179e"
             ],
             [
              0.4444444444444444,
              "#bd3786"
             ],
             [
              0.5555555555555556,
              "#d8576b"
             ],
             [
              0.6666666666666666,
              "#ed7953"
             ],
             [
              0.7777777777777778,
              "#fb9f3a"
             ],
             [
              0.8888888888888888,
              "#fdca26"
             ],
             [
              1,
              "#f0f921"
             ]
            ],
            "type": "histogram2dcontour"
           }
          ],
          "mesh3d": [
           {
            "colorbar": {
             "outlinewidth": 0,
             "ticks": ""
            },
            "type": "mesh3d"
           }
          ],
          "parcoords": [
           {
            "line": {
             "colorbar": {
              "outlinewidth": 0,
              "ticks": ""
             }
            },
            "type": "parcoords"
           }
          ],
          "pie": [
           {
            "automargin": true,
            "type": "pie"
           }
          ],
          "scatter": [
           {
            "fillpattern": {
             "fillmode": "overlay",
             "size": 10,
             "solidity": 0.2
            },
            "type": "scatter"
           }
          ],
          "scatter3d": [
           {
            "line": {
             "colorbar": {
              "outlinewidth": 0,
              "ticks": ""
             }
            },
            "marker": {
             "colorbar": {
              "outlinewidth": 0,
              "ticks": ""
             }
            },
            "type": "scatter3d"
           }
          ],
          "scattercarpet": [
           {
            "marker": {
             "colorbar": {
              "outlinewidth": 0,
              "ticks": ""
             }
            },
            "type": "scattercarpet"
           }
          ],
          "scattergeo": [
           {
            "marker": {
             "colorbar": {
              "outlinewidth": 0,
              "ticks": ""
             }
            },
            "type": "scattergeo"
           }
          ],
          "scattergl": [
           {
            "marker": {
             "colorbar": {
              "outlinewidth": 0,
              "ticks": ""
             }
            },
            "type": "scattergl"
           }
          ],
          "scattermapbox": [
           {
            "marker": {
             "colorbar": {
              "outlinewidth": 0,
              "ticks": ""
             }
            },
            "type": "scattermapbox"
           }
          ],
          "scatterpolar": [
           {
            "marker": {
             "colorbar": {
              "outlinewidth": 0,
              "ticks": ""
             }
            },
            "type": "scatterpolar"
           }
          ],
          "scatterpolargl": [
           {
            "marker": {
             "colorbar": {
              "outlinewidth": 0,
              "ticks": ""
             }
            },
            "type": "scatterpolargl"
           }
          ],
          "scatterternary": [
           {
            "marker": {
             "colorbar": {
              "outlinewidth": 0,
              "ticks": ""
             }
            },
            "type": "scatterternary"
           }
          ],
          "surface": [
           {
            "colorbar": {
             "outlinewidth": 0,
             "ticks": ""
            },
            "colorscale": [
             [
              0,
              "#0d0887"
             ],
             [
              0.1111111111111111,
              "#46039f"
             ],
             [
              0.2222222222222222,
              "#7201a8"
             ],
             [
              0.3333333333333333,
              "#9c179e"
             ],
             [
              0.4444444444444444,
              "#bd3786"
             ],
             [
              0.5555555555555556,
              "#d8576b"
             ],
             [
              0.6666666666666666,
              "#ed7953"
             ],
             [
              0.7777777777777778,
              "#fb9f3a"
             ],
             [
              0.8888888888888888,
              "#fdca26"
             ],
             [
              1,
              "#f0f921"
             ]
            ],
            "type": "surface"
           }
          ],
          "table": [
           {
            "cells": {
             "fill": {
              "color": "#EBF0F8"
             },
             "line": {
              "color": "white"
             }
            },
            "header": {
             "fill": {
              "color": "#C8D4E3"
             },
             "line": {
              "color": "white"
             }
            },
            "type": "table"
           }
          ]
         },
         "layout": {
          "annotationdefaults": {
           "arrowcolor": "#2a3f5f",
           "arrowhead": 0,
           "arrowwidth": 1
          },
          "autotypenumbers": "strict",
          "coloraxis": {
           "colorbar": {
            "outlinewidth": 0,
            "ticks": ""
           }
          },
          "colorscale": {
           "diverging": [
            [
             0,
             "#8e0152"
            ],
            [
             0.1,
             "#c51b7d"
            ],
            [
             0.2,
             "#de77ae"
            ],
            [
             0.3,
             "#f1b6da"
            ],
            [
             0.4,
             "#fde0ef"
            ],
            [
             0.5,
             "#f7f7f7"
            ],
            [
             0.6,
             "#e6f5d0"
            ],
            [
             0.7,
             "#b8e186"
            ],
            [
             0.8,
             "#7fbc41"
            ],
            [
             0.9,
             "#4d9221"
            ],
            [
             1,
             "#276419"
            ]
           ],
           "sequential": [
            [
             0,
             "#0d0887"
            ],
            [
             0.1111111111111111,
             "#46039f"
            ],
            [
             0.2222222222222222,
             "#7201a8"
            ],
            [
             0.3333333333333333,
             "#9c179e"
            ],
            [
             0.4444444444444444,
             "#bd3786"
            ],
            [
             0.5555555555555556,
             "#d8576b"
            ],
            [
             0.6666666666666666,
             "#ed7953"
            ],
            [
             0.7777777777777778,
             "#fb9f3a"
            ],
            [
             0.8888888888888888,
             "#fdca26"
            ],
            [
             1,
             "#f0f921"
            ]
           ],
           "sequentialminus": [
            [
             0,
             "#0d0887"
            ],
            [
             0.1111111111111111,
             "#46039f"
            ],
            [
             0.2222222222222222,
             "#7201a8"
            ],
            [
             0.3333333333333333,
             "#9c179e"
            ],
            [
             0.4444444444444444,
             "#bd3786"
            ],
            [
             0.5555555555555556,
             "#d8576b"
            ],
            [
             0.6666666666666666,
             "#ed7953"
            ],
            [
             0.7777777777777778,
             "#fb9f3a"
            ],
            [
             0.8888888888888888,
             "#fdca26"
            ],
            [
             1,
             "#f0f921"
            ]
           ]
          },
          "colorway": [
           "#636efa",
           "#EF553B",
           "#00cc96",
           "#ab63fa",
           "#FFA15A",
           "#19d3f3",
           "#FF6692",
           "#B6E880",
           "#FF97FF",
           "#FECB52"
          ],
          "font": {
           "color": "#2a3f5f"
          },
          "geo": {
           "bgcolor": "white",
           "lakecolor": "white",
           "landcolor": "#E5ECF6",
           "showlakes": true,
           "showland": true,
           "subunitcolor": "white"
          },
          "hoverlabel": {
           "align": "left"
          },
          "hovermode": "closest",
          "mapbox": {
           "style": "light"
          },
          "paper_bgcolor": "white",
          "plot_bgcolor": "#E5ECF6",
          "polar": {
           "angularaxis": {
            "gridcolor": "white",
            "linecolor": "white",
            "ticks": ""
           },
           "bgcolor": "#E5ECF6",
           "radialaxis": {
            "gridcolor": "white",
            "linecolor": "white",
            "ticks": ""
           }
          },
          "scene": {
           "xaxis": {
            "backgroundcolor": "#E5ECF6",
            "gridcolor": "white",
            "gridwidth": 2,
            "linecolor": "white",
            "showbackground": true,
            "ticks": "",
            "zerolinecolor": "white"
           },
           "yaxis": {
            "backgroundcolor": "#E5ECF6",
            "gridcolor": "white",
            "gridwidth": 2,
            "linecolor": "white",
            "showbackground": true,
            "ticks": "",
            "zerolinecolor": "white"
           },
           "zaxis": {
            "backgroundcolor": "#E5ECF6",
            "gridcolor": "white",
            "gridwidth": 2,
            "linecolor": "white",
            "showbackground": true,
            "ticks": "",
            "zerolinecolor": "white"
           }
          },
          "shapedefaults": {
           "line": {
            "color": "#2a3f5f"
           }
          },
          "ternary": {
           "aaxis": {
            "gridcolor": "white",
            "linecolor": "white",
            "ticks": ""
           },
           "baxis": {
            "gridcolor": "white",
            "linecolor": "white",
            "ticks": ""
           },
           "bgcolor": "#E5ECF6",
           "caxis": {
            "gridcolor": "white",
            "linecolor": "white",
            "ticks": ""
           }
          },
          "title": {
           "x": 0.05
          },
          "xaxis": {
           "automargin": true,
           "gridcolor": "white",
           "linecolor": "white",
           "ticks": "",
           "title": {
            "standoff": 15
           },
           "zerolinecolor": "white",
           "zerolinewidth": 2
          },
          "yaxis": {
           "automargin": true,
           "gridcolor": "white",
           "linecolor": "white",
           "ticks": "",
           "title": {
            "standoff": 15
           },
           "zerolinecolor": "white",
           "zerolinewidth": 2
          }
         }
        },
        "title": {
         "text": "Påverkan av föräldrarnas utbildning på elevers Framgång i skolan",
         "x": 0.5
        },
        "width": 800,
        "xaxis": {
         "anchor": "y",
         "categoryarray": [
          "Förgymnasial utbildning",
          "Gymnasial utbildning",
          "Eftergymnasial utbildning"
         ],
         "categoryorder": "array",
         "domain": [
          0,
          1
         ],
         "title": {
          "text": ""
         }
        },
        "yaxis": {
         "anchor": "x",
         "domain": [
          0,
          1
         ],
         "title": {
          "text": "(%) elever som saknar godkänt betyg i ett eller fler ämnen (Totalt)"
         }
        }
       }
      }
     },
     "metadata": {},
     "output_type": "display_data"
    }
   ],
   "source": [
    "# Create a bar plot for the average merit scores of students based on parental education level\n",
    "fig_merit = px.bar(df_filtered_parents, x='Läsår/huvudman/Bakgrund',\n",
    "                   y='Genomsnittligt meritvärde Tot (17 ämnen)',\n",
    "                   title='Hur föräldrarnas utbildning höjer elevers meritvärden',\n",
    "                   color='Läsår/huvudman/Bakgrund',  # Color code bars based on the category of parental education\n",
    "                   color_discrete_map={  \n",
    "                       'Förgymnasial utbildning': 'orangered', # Map colors to specific education levels\n",
    "                       'Gymnasial utbildning': 'indigo',\n",
    "                       'Eftergymnasial utbildning': 'teal'\n",
    "                   })\n",
    "fig_merit.update_layout(width=800, height=500, title_x= 0.5, xaxis_title = '') # Update layout settings for a better presentation\n",
    "fig_merit.write_html(\"../Labb2/Visualiseringar/parents_merit_value.html\")\n",
    "\n",
    "fig_merit.show()\n",
    "\n",
    "\n",
    "# Create a second bar plot showing the percentage of students lacking passing grades based on parental education level\n",
    "fig_andel = px.bar(df_filtered_parents, x='Läsår/huvudman/Bakgrund',\n",
    "                   y='(%) elever som saknar godkänt betyg i ett eller fler ämnen (Totalt)',\n",
    "                   title='Påverkan av föräldrarnas utbildning på elevers Framgång i skolan',\n",
    "                   color='Läsår/huvudman/Bakgrund', \n",
    "                   color_discrete_map={ \n",
    "                       'Förgymnasial utbildning': 'orangered',\n",
    "                       'Gymnasial utbildning': 'indigo',\n",
    "                       'Eftergymnasial utbildning': 'teal'\n",
    "                   })\n",
    "fig_andel.update_layout(width=800, height=500, title_x= 0.5, xaxis_title = '')\n",
    "fig_andel.write_html(\"../Labb2/Visualiseringar/Better_education_higher_merit.html\")\n",
    "fig_andel.show()"
   ]
  },
  {
   "cell_type": "markdown",
   "metadata": {},
   "source": [
    "## Combine the charts to one window\n",
    "\n",
    "- Chat gpt helped me here because my html skills arent that good. \n",
    "- combined both charts into the same window to make the compare easier. "
   ]
  },
  {
   "cell_type": "code",
   "execution_count": 13,
   "metadata": {},
   "outputs": [],
   "source": [
    "html_template = \"\"\"\n",
    "<html>\n",
    "<head>\n",
    "<title>Plotly Charts</title>\n",
    "</head>\n",
    "<body>\n",
    "    <h1>Visualizations</h1>\n",
    "    <div style=\"display:flex;\">\n",
    "        <div style=\"width: 50%;\">{fig_merit}</div>\n",
    "        <div style=\"width: 50%;\">{fig_andel}</div>\n",
    "    </div>\n",
    "</body>\n",
    "</html>\n",
    "\"\"\"\n",
    "\n",
    "# Export each figure to a div using Plotly's to_html method with full_html=False\n",
    "fig_merit_div = fig_merit.to_html(full_html=False, include_plotlyjs='cdn')\n",
    "fig_andel_div = fig_andel.to_html(full_html=False, include_plotlyjs='cdn')\n",
    "\n",
    "# Insert each figure's div into the HTML template\n",
    "final_html = html_template.format(fig_merit=fig_merit_div, fig_andel=fig_andel_div)\n",
    "\n",
    "# Save the combined HTML to a file\n",
    "with open(\"../Labb2/Visualiseringar/Combined_Visualizations_parents.html\", \"w\") as file:\n",
    "    file.write(final_html)"
   ]
  },
  {
   "cell_type": "markdown",
   "metadata": {},
   "source": [
    "## Uppgift 2 - KPIer & EDA\n",
    "\n",
    "- Definiera 3-6 KPIer utöver de som använts i ovanstående uppgifter och gör explorativ dataanalys på en eller flera\n",
    "dataset som ni får söka själva. \n",
    "- Ni får inte ta dataseten som ni redan jobbat med i uppgift 0 och 1. Excel och eller csv-filer\n",
    "kan ni hitta i skolverkets statistik\n",
    "Se till att dokumentera vad du undersöker \n",
    "- med markdown kombinerad med kod i Jupyter notebook eller om du\n",
    "använder Pythonskript,\n",
    "- skriv en markdown vid sidan om. Dokumentera också vad du kommer fram till och spara alla\n",
    "visualiseringar"
   ]
  },
  {
   "cell_type": "markdown",
   "metadata": {},
   "source": [
    "### KPI 1 Gymnasieskola - Relationen mellan kursbetyg och kursprovsbetyg\n",
    "\n",
    "- In this analysis, we explore the relationship between course grades and exam grades for English 5 among high school students during the fall semester of 2022. The purpose is to identify and \n",
    "- understand any discrepancies between these grades across different types of school authorities – municipal and private schools. \n",
    "- By examining these discrepancies, The goal aim is to provide insights that may be relevant for students and their parents regarding school choice. "
   ]
  },
  {
   "cell_type": "code",
   "execution_count": 14,
   "metadata": {},
   "outputs": [
    {
     "data": {
      "text/html": [
       "<div>\n",
       "<style scoped>\n",
       "    .dataframe tbody tr th:only-of-type {\n",
       "        vertical-align: middle;\n",
       "    }\n",
       "\n",
       "    .dataframe tbody tr th {\n",
       "        vertical-align: top;\n",
       "    }\n",
       "\n",
       "    .dataframe thead th {\n",
       "        text-align: right;\n",
       "    }\n",
       "</style>\n",
       "<table border=\"1\" class=\"dataframe\">\n",
       "  <thead>\n",
       "    <tr style=\"text-align: right;\">\n",
       "      <th></th>\n",
       "      <th>Riket</th>\n",
       "      <th>Typ av huvudman</th>\n",
       "      <th>Antal elever</th>\n",
       "      <th>Andel lägre</th>\n",
       "      <th>Andel lika</th>\n",
       "      <th>Andel högre</th>\n",
       "      <th>Antal kvinnor</th>\n",
       "      <th>Andel lägre kvinnor</th>\n",
       "      <th>Andel lika kvinnor</th>\n",
       "      <th>Andel högre kvinnor</th>\n",
       "      <th>Antal män</th>\n",
       "      <th>Andel lägre män</th>\n",
       "      <th>Andel lika män</th>\n",
       "      <th>Andel högre män</th>\n",
       "    </tr>\n",
       "  </thead>\n",
       "  <tbody>\n",
       "    <tr>\n",
       "      <th>0</th>\n",
       "      <td>Riket</td>\n",
       "      <td>Samtliga</td>\n",
       "      <td>177</td>\n",
       "      <td>7.3</td>\n",
       "      <td>79.7</td>\n",
       "      <td>13.0</td>\n",
       "      <td>70</td>\n",
       "      <td>5.7</td>\n",
       "      <td>74.3</td>\n",
       "      <td>20.0</td>\n",
       "      <td>107</td>\n",
       "      <td>8.4</td>\n",
       "      <td>83.2</td>\n",
       "      <td>8.4</td>\n",
       "    </tr>\n",
       "    <tr>\n",
       "      <th>1</th>\n",
       "      <td>Riket</td>\n",
       "      <td>Kommunal</td>\n",
       "      <td>114</td>\n",
       "      <td>1.8</td>\n",
       "      <td>86.8</td>\n",
       "      <td>11.4</td>\n",
       "      <td>46</td>\n",
       "      <td>2.2</td>\n",
       "      <td>80.4</td>\n",
       "      <td>17.4</td>\n",
       "      <td>68</td>\n",
       "      <td>1.5</td>\n",
       "      <td>91.2</td>\n",
       "      <td>7.4</td>\n",
       "    </tr>\n",
       "    <tr>\n",
       "      <th>2</th>\n",
       "      <td>Riket</td>\n",
       "      <td>Enskild</td>\n",
       "      <td>63</td>\n",
       "      <td>17.5</td>\n",
       "      <td>66.7</td>\n",
       "      <td>15.9</td>\n",
       "      <td>24</td>\n",
       "      <td>12.5</td>\n",
       "      <td>62.5</td>\n",
       "      <td>25.0</td>\n",
       "      <td>39</td>\n",
       "      <td>20.5</td>\n",
       "      <td>69.2</td>\n",
       "      <td>10.3</td>\n",
       "    </tr>\n",
       "  </tbody>\n",
       "</table>\n",
       "</div>"
      ],
      "text/plain": [
       "   Riket Typ av huvudman  Antal elever  Andel lägre  Andel lika  Andel högre  \\\n",
       "0  Riket        Samtliga           177          7.3        79.7         13.0   \n",
       "1  Riket        Kommunal           114          1.8        86.8         11.4   \n",
       "2  Riket         Enskild            63         17.5        66.7         15.9   \n",
       "\n",
       "   Antal kvinnor  Andel lägre kvinnor  Andel lika kvinnor  \\\n",
       "0             70                  5.7                74.3   \n",
       "1             46                  2.2                80.4   \n",
       "2             24                 12.5                62.5   \n",
       "\n",
       "   Andel högre kvinnor  Antal män  Andel lägre män  Andel lika män  \\\n",
       "0                 20.0        107              8.4            83.2   \n",
       "1                 17.4         68              1.5            91.2   \n",
       "2                 25.0         39             20.5            69.2   \n",
       "\n",
       "   Andel högre män  \n",
       "0              8.4  \n",
       "1              7.4  \n",
       "2             10.3  "
      ]
     },
     "execution_count": 14,
     "metadata": {},
     "output_type": "execute_result"
    }
   ],
   "source": [
    "file_path_Relations = (\"../Labb2/Gymnasieskola - Relationen mellan kursbetyg och kursprovsbetyg HT22 Riket.xlsx\")\n",
    "\n",
    "relations_grade_test_english_5 = pd.read_excel(file_path_Relations, sheet_name='Engelska 5', skiprows=8)\n",
    "\n",
    "relations_grade_test_english_5"
   ]
  },
  {
   "cell_type": "markdown",
   "metadata": {},
   "source": [
    "## Data KPI 1\n",
    "\n",
    "- The data is taken from skolverkets statistik. which contains information about course grades and exam grades for engelska 5 among high school students fall 2022.\n",
    "- The dataset includes variables such as: \n",
    "- Riket: states that the data is national\n",
    "- Typ av huvudman: categorise schools as either municipal or private.\n",
    "- Antal elever med både prov och kursbetyg: Total amount of students with both exam and course grades.\n",
    "- Andel med lägre/högre/likadant kursbetyg som provbetyg: Percentage of students whose course grades are lower, higher, or equal to their exam grades\n",
    "- Antal kvinnor/män med både prov och kursbetyg: Division of students based on gender.\n",
    "- Andel kvinnor/män med lägre/högre/likadant kursbetyg som provbetyg: Percentage divided by gender."
   ]
  },
  {
   "cell_type": "code",
   "execution_count": 15,
   "metadata": {},
   "outputs": [
    {
     "data": {
      "text/html": [
       "<div>\n",
       "<style scoped>\n",
       "    .dataframe tbody tr th:only-of-type {\n",
       "        vertical-align: middle;\n",
       "    }\n",
       "\n",
       "    .dataframe tbody tr th {\n",
       "        vertical-align: top;\n",
       "    }\n",
       "\n",
       "    .dataframe thead th {\n",
       "        text-align: right;\n",
       "    }\n",
       "</style>\n",
       "<table border=\"1\" class=\"dataframe\">\n",
       "  <thead>\n",
       "    <tr style=\"text-align: right;\">\n",
       "      <th></th>\n",
       "      <th>Riket</th>\n",
       "      <th>Typ av huvudman</th>\n",
       "      <th>Antal elever med både prov och kursbetyg</th>\n",
       "      <th>Lägre kursbetyg än provbetyg</th>\n",
       "      <th>Andel med likadant kurs som provbetyg</th>\n",
       "      <th>Högre kursbetyg än provbetyg</th>\n",
       "      <th>Antal kvinnor med både prov och kursbetyg</th>\n",
       "      <th>Andel kvinnor med lägre kursbetyg än provbetyg</th>\n",
       "      <th>Andel kvinnor mer likadant kurs som provbetyg</th>\n",
       "      <th>Andel kvinnor med högre kursbetyg än provbetyg</th>\n",
       "      <th>Antal män med både prov och kursbetyg</th>\n",
       "      <th>Andel män mer likadant kurs som provbetyg</th>\n",
       "      <th>Andel män med lägre kursbetyg än provbetyg</th>\n",
       "      <th>Andel män med högre kursbetyg än provbetyg</th>\n",
       "    </tr>\n",
       "  </thead>\n",
       "  <tbody>\n",
       "    <tr>\n",
       "      <th>0</th>\n",
       "      <td>Riket</td>\n",
       "      <td>Samtliga</td>\n",
       "      <td>177</td>\n",
       "      <td>7.3</td>\n",
       "      <td>79.7</td>\n",
       "      <td>13.0</td>\n",
       "      <td>70</td>\n",
       "      <td>5.7</td>\n",
       "      <td>74.3</td>\n",
       "      <td>20.0</td>\n",
       "      <td>107</td>\n",
       "      <td>8.4</td>\n",
       "      <td>83.2</td>\n",
       "      <td>8.4</td>\n",
       "    </tr>\n",
       "    <tr>\n",
       "      <th>1</th>\n",
       "      <td>Riket</td>\n",
       "      <td>Kommunal</td>\n",
       "      <td>114</td>\n",
       "      <td>1.8</td>\n",
       "      <td>86.8</td>\n",
       "      <td>11.4</td>\n",
       "      <td>46</td>\n",
       "      <td>2.2</td>\n",
       "      <td>80.4</td>\n",
       "      <td>17.4</td>\n",
       "      <td>68</td>\n",
       "      <td>1.5</td>\n",
       "      <td>91.2</td>\n",
       "      <td>7.4</td>\n",
       "    </tr>\n",
       "    <tr>\n",
       "      <th>2</th>\n",
       "      <td>Riket</td>\n",
       "      <td>Enskild</td>\n",
       "      <td>63</td>\n",
       "      <td>17.5</td>\n",
       "      <td>66.7</td>\n",
       "      <td>15.9</td>\n",
       "      <td>24</td>\n",
       "      <td>12.5</td>\n",
       "      <td>62.5</td>\n",
       "      <td>25.0</td>\n",
       "      <td>39</td>\n",
       "      <td>20.5</td>\n",
       "      <td>69.2</td>\n",
       "      <td>10.3</td>\n",
       "    </tr>\n",
       "  </tbody>\n",
       "</table>\n",
       "</div>"
      ],
      "text/plain": [
       "   Riket Typ av huvudman  Antal elever med både prov och kursbetyg  \\\n",
       "0  Riket        Samtliga                                       177   \n",
       "1  Riket        Kommunal                                       114   \n",
       "2  Riket         Enskild                                        63   \n",
       "\n",
       "   Lägre kursbetyg än provbetyg  Andel med likadant kurs som provbetyg  \\\n",
       "0                           7.3                                   79.7   \n",
       "1                           1.8                                   86.8   \n",
       "2                          17.5                                   66.7   \n",
       "\n",
       "   Högre kursbetyg än provbetyg  Antal kvinnor med både prov och kursbetyg  \\\n",
       "0                          13.0                                         70   \n",
       "1                          11.4                                         46   \n",
       "2                          15.9                                         24   \n",
       "\n",
       "   Andel kvinnor med lägre kursbetyg än provbetyg  \\\n",
       "0                                             5.7   \n",
       "1                                             2.2   \n",
       "2                                            12.5   \n",
       "\n",
       "   Andel kvinnor mer likadant kurs som provbetyg  \\\n",
       "0                                           74.3   \n",
       "1                                           80.4   \n",
       "2                                           62.5   \n",
       "\n",
       "   Andel kvinnor med högre kursbetyg än provbetyg  \\\n",
       "0                                            20.0   \n",
       "1                                            17.4   \n",
       "2                                            25.0   \n",
       "\n",
       "   Antal män med både prov och kursbetyg  \\\n",
       "0                                    107   \n",
       "1                                     68   \n",
       "2                                     39   \n",
       "\n",
       "   Andel män mer likadant kurs som provbetyg  \\\n",
       "0                                        8.4   \n",
       "1                                        1.5   \n",
       "2                                       20.5   \n",
       "\n",
       "   Andel män med lägre kursbetyg än provbetyg  \\\n",
       "0                                        83.2   \n",
       "1                                        91.2   \n",
       "2                                        69.2   \n",
       "\n",
       "   Andel män med högre kursbetyg än provbetyg  \n",
       "0                                         8.4  \n",
       "1                                         7.4  \n",
       "2                                        10.3  "
      ]
     },
     "execution_count": 15,
     "metadata": {},
     "output_type": "execute_result"
    }
   ],
   "source": [
    "relations_grade_test_english_5.columns = ['Riket', \n",
    "                                            'Typ av huvudman', \n",
    "                                            'Antal elever med både prov och kursbetyg', \n",
    "                                            'Lägre kursbetyg än provbetyg',\n",
    "                                            'Andel med likadant kurs som provbetyg',\n",
    "                                            'Högre kursbetyg än provbetyg',\n",
    "                                            'Antal kvinnor med både prov och kursbetyg',\n",
    "                                            'Andel kvinnor med lägre kursbetyg än provbetyg',\n",
    "                                            'Andel kvinnor mer likadant kurs som provbetyg',\n",
    "                                            'Andel kvinnor med högre kursbetyg än provbetyg', \n",
    "                                            'Antal män med både prov och kursbetyg', \n",
    "                                            'Andel män mer likadant kurs som provbetyg',\n",
    "                                            'Andel män med lägre kursbetyg än provbetyg', \n",
    "                                            'Andel män med högre kursbetyg än provbetyg']\n",
    "\n",
    "relations_grade_test_english_5"
   ]
  },
  {
   "cell_type": "markdown",
   "metadata": {},
   "source": [
    "## Preparing data\n",
    "\n",
    "- Relevant variables were isolated for analysis, primarily examining discrepancies between course and exam grades.\n",
    "- focusing on understanding the difference between course grades and exam grades for students. To do this, grouped the data by 'Typ av huvudman' (type of school authority) to compare municipal and private schools.\n",
    "- calculating the mean percentages of students whose course grades were higher or lower than their exam grades."
   ]
  },
  {
   "cell_type": "code",
   "execution_count": 16,
   "metadata": {},
   "outputs": [
    {
     "data": {
      "text/html": [
       "<div>\n",
       "<style scoped>\n",
       "    .dataframe tbody tr th:only-of-type {\n",
       "        vertical-align: middle;\n",
       "    }\n",
       "\n",
       "    .dataframe tbody tr th {\n",
       "        vertical-align: top;\n",
       "    }\n",
       "\n",
       "    .dataframe thead th {\n",
       "        text-align: right;\n",
       "    }\n",
       "</style>\n",
       "<table border=\"1\" class=\"dataframe\">\n",
       "  <thead>\n",
       "    <tr style=\"text-align: right;\">\n",
       "      <th></th>\n",
       "      <th>Lägre kursbetyg än provbetyg</th>\n",
       "      <th>Högre kursbetyg än provbetyg</th>\n",
       "    </tr>\n",
       "    <tr>\n",
       "      <th>Typ av huvudman</th>\n",
       "      <th></th>\n",
       "      <th></th>\n",
       "    </tr>\n",
       "  </thead>\n",
       "  <tbody>\n",
       "    <tr>\n",
       "      <th>Enskild</th>\n",
       "      <td>17.5</td>\n",
       "      <td>15.9</td>\n",
       "    </tr>\n",
       "    <tr>\n",
       "      <th>Kommunal</th>\n",
       "      <td>1.8</td>\n",
       "      <td>11.4</td>\n",
       "    </tr>\n",
       "    <tr>\n",
       "      <th>Samtliga</th>\n",
       "      <td>7.3</td>\n",
       "      <td>13.0</td>\n",
       "    </tr>\n",
       "  </tbody>\n",
       "</table>\n",
       "</div>"
      ],
      "text/plain": [
       "                 Lägre kursbetyg än provbetyg  Högre kursbetyg än provbetyg\n",
       "Typ av huvudman                                                            \n",
       "Enskild                                  17.5                          15.9\n",
       "Kommunal                                  1.8                          11.4\n",
       "Samtliga                                  7.3                          13.0"
      ]
     },
     "execution_count": 16,
     "metadata": {},
     "output_type": "execute_result"
    }
   ],
   "source": [
    "average_deviation = relations_grade_test_english_5.groupby('Typ av huvudman')[['Lägre kursbetyg än provbetyg', 'Högre kursbetyg än provbetyg']].mean()\n",
    "average_deviation"
   ]
  },
  {
   "cell_type": "markdown",
   "metadata": {},
   "source": [
    "## Results\n",
    "\n",
    "- Comparing School Types:\n",
    "    - Municipal Schools: This shows us how students in municipal schools performed. A higher precentage of student got higher course grade than exam grade.\n",
    "    - Private Schools: Students in private schools showed a different pattern. This indicates differences between school types. With an almost equal precentage."
   ]
  },
  {
   "cell_type": "code",
   "execution_count": 17,
   "metadata": {},
   "outputs": [
    {
     "data": {
      "image/png": "[encoded data removed]",
      "text/plain": [
       "<Figure size 640x480 with 1 Axes>"
      ]
     },
     "metadata": {},
     "output_type": "display_data"
    }
   ],
   "source": [
    "colors_dev = ['lime', 'blueviolet']\n",
    "\n",
    "ax = average_deviation.plot(kind='bar', y=['Lägre kursbetyg än provbetyg', 'Högre kursbetyg än provbetyg'], color= colors_dev)\n",
    "\n",
    "plt.title('Genomsnittlig avvikelse mellan kursbetyg och provbetyg per huvudman', fontsize = 12)\n",
    "plt.xlabel('Typ av huvudman', color= 'grey')\n",
    "plt.ylabel('Genomsnittlig andel av avvikelse (%)', color= 'grey')\n",
    "plt.xticks(rotation=0)  \n",
    "plt.legend(title='Avvikelse', frameon=False, fontsize = 7)\n",
    "ax.spines['top'].set_visible(False)\n",
    "ax.spines['right'].set_visible(False)\n",
    "ax.spines['bottom'].set_color('lightgray')\n",
    "ax.spines['left'].set_color('lightgray')\n",
    "\n",
    "plt.yticks([]) # removes yticks\n",
    "\n",
    "for p in ax.patches:\n",
    "    \n",
    "    # Get the width and height of the bar.\n",
    "    width, height = p.get_width(), p.get_height()\n",
    "    \n",
    "    # Get the bottom left coordinates (x, y) of the bar.\n",
    "    x, y = p.get_xy() \n",
    "    \n",
    "    # Adds a label on top of each bar.\n",
    "    # The label text is the height value formatted to one decimal place followed by '%'.\n",
    "    # Place the label at the center of the top of the bar (x + width/2, y + height*1.02).\n",
    "    # ha='center' aligns the text to the center of the bar\n",
    "    ax.annotate(f'{height:.1f}%', (x + width/2, y + height*1.02), color= 'grey', ha='center')\n",
    "\n",
    "\n",
    "plt.tight_layout()  \n",
    "plt.show()"
   ]
  },
  {
   "cell_type": "markdown",
   "metadata": {},
   "source": [
    "## Conclusions\n",
    "\n",
    "- Municipal Schools: Students often get higher course grades. This might mean easier grading or better class preparation.\n",
    "- Private Schools: Grades are more even, showing that coursework and exams match up closely.\n",
    "-------------------------------------------------------------------------------------------------------------------------"
   ]
  },
  {
   "cell_type": "markdown",
   "metadata": {},
   "source": [
    "## Task 2 Avarage grade point KPI \n",
    "\n",
    "- The idea of this analysis was to explore the trends in avarage grade points across 'Högskoleförberedande program' and 'yrkesprogram' in Kungälv kommun.\n",
    "- Average grade points serve as a KPI that reflects the overall academic performance of students within these programs. \n",
    "- With this analysis the aim is to find the program with lower avarage grade. And in later stages find ways to strengthen the grades of the lower program."
   ]
  },
  {
   "cell_type": "markdown",
   "metadata": {},
   "source": [
    "## Preparing and cleaning data \n",
    "\n",
    "- Defining file path and target 'Kungälvs kommun' for analysis\n",
    "- Loop through a list of programs and filtering data to only include entries for 'Kungälvs kommun'.\n",
    "- Resetting index and cleaning the data."
   ]
  },
  {
   "cell_type": "code",
   "execution_count": 18,
   "metadata": {},
   "outputs": [
    {
     "name": "stderr",
     "output_type": "stream",
     "text": [
      "C:\\Users\\utjis\\AppData\\Local\\Temp\\ipykernel_18256\\3198659261.py:24: FutureWarning:\n",
      "\n",
      "Downcasting behavior in `replace` is deprecated and will be removed in a future version. To retain the old behavior, explicitly call `result.infer_objects(copy=False)`. To opt-in to the future behavior, set `pd.set_option('future.no_silent_downcasting', True)`\n",
      "\n"
     ]
    }
   ],
   "source": [
    "file_path_compare_grade = \"../Labb2/Gymnasieskola - Jämförelse av betygsresultat över tid 2023 Huvudman.xlsx\"\n",
    "huvudman_target = 'Kungälvs kommun'\n",
    "\n",
    "# List of sheet names\n",
    "sheets = [\n",
    "    'Nationella program',\n",
    "    'Högskoleförberedande program',\n",
    "    'Yrkesprogram',\n",
    "    'Bygg- och anläggningsprogramme',\n",
    "    'Ekonomiprogrammet',\n",
    "    'El- och energiprogrammet'\n",
    "]\n",
    "\n",
    "# read and filter data for each sheet\n",
    "df_dict = {}\n",
    "# Loop through each sheet specified in the 'sheets' list\n",
    "for sheet in sheets:\n",
    "    df = pd.read_excel(file_path_compare_grade, sheet_name=sheet, skiprows=7) # Read the data from the specified sheet in the Excel file, skipping the first 7 rows\n",
    "    df_filtered = df.loc[df['Huvudman'] == huvudman_target] # Filter DataFrame to only include lines when 'Huvudman' is 'Kungälvs kommun'\n",
    "    df_dict[sheet] = df_filtered.reset_index(drop=True) # Add the filtered DataFrame to the dictionary, resetting the index \n",
    "\n",
    "# Clean the data \n",
    "for sheet, df in df_dict.items():\n",
    "    df_dict[sheet] = df.replace(['..', '.'], np.nan)\n",
    "\n",
    "\n"
   ]
  },
  {
   "cell_type": "code",
   "execution_count": 19,
   "metadata": {},
   "outputs": [
    {
     "data": {
      "text/html": [
       "<div>\n",
       "<style scoped>\n",
       "    .dataframe tbody tr th:only-of-type {\n",
       "        vertical-align: middle;\n",
       "    }\n",
       "\n",
       "    .dataframe tbody tr th {\n",
       "        vertical-align: top;\n",
       "    }\n",
       "\n",
       "    .dataframe thead th {\n",
       "        text-align: right;\n",
       "    }\n",
       "</style>\n",
       "<table border=\"1\" class=\"dataframe\">\n",
       "  <thead>\n",
       "    <tr style=\"text-align: right;\">\n",
       "      <th></th>\n",
       "      <th>Huvudman</th>\n",
       "      <th>Huvudman orgnr</th>\n",
       "      <th>Typ av huvudman</th>\n",
       "      <th>Uppgift</th>\n",
       "      <th>2022/23</th>\n",
       "      <th>2021/22</th>\n",
       "      <th>2020/21</th>\n",
       "      <th>2019/20</th>\n",
       "      <th>2018/19</th>\n",
       "      <th>2017/18</th>\n",
       "      <th>2016/17</th>\n",
       "      <th>2015/16</th>\n",
       "      <th>2014/15</th>\n",
       "      <th>2013/14</th>\n",
       "    </tr>\n",
       "  </thead>\n",
       "  <tbody>\n",
       "    <tr>\n",
       "      <th>0</th>\n",
       "      <td>Kungälvs kommun</td>\n",
       "      <td>2120001371</td>\n",
       "      <td>Kommunal</td>\n",
       "      <td>Antal elever med gymnasieexamen</td>\n",
       "      <td>266.0</td>\n",
       "      <td>219.0</td>\n",
       "      <td>223.0</td>\n",
       "      <td>216.0</td>\n",
       "      <td>183.0</td>\n",
       "      <td>195.0</td>\n",
       "      <td>198.0</td>\n",
       "      <td>186.0</td>\n",
       "      <td>212.0</td>\n",
       "      <td>228.0</td>\n",
       "    </tr>\n",
       "    <tr>\n",
       "      <th>1</th>\n",
       "      <td>Kungälvs kommun</td>\n",
       "      <td>2120001371</td>\n",
       "      <td>Kommunal</td>\n",
       "      <td>- varav andel (%) kvinnor</td>\n",
       "      <td>50.4</td>\n",
       "      <td>51.1</td>\n",
       "      <td>55.2</td>\n",
       "      <td>43.5</td>\n",
       "      <td>47.0</td>\n",
       "      <td>53.3</td>\n",
       "      <td>57.1</td>\n",
       "      <td>51.1</td>\n",
       "      <td>53.8</td>\n",
       "      <td>53.9</td>\n",
       "    </tr>\n",
       "    <tr>\n",
       "      <th>2</th>\n",
       "      <td>Kungälvs kommun</td>\n",
       "      <td>2120001371</td>\n",
       "      <td>Kommunal</td>\n",
       "      <td>- varav andel (%) med utl. bakgrund</td>\n",
       "      <td>13.5</td>\n",
       "      <td>13.2</td>\n",
       "      <td>9.9</td>\n",
       "      <td>11.6</td>\n",
       "      <td>12.6</td>\n",
       "      <td>11.3</td>\n",
       "      <td>13.1</td>\n",
       "      <td>7.0</td>\n",
       "      <td>11.3</td>\n",
       "      <td>12.7</td>\n",
       "    </tr>\n",
       "    <tr>\n",
       "      <th>3</th>\n",
       "      <td>Kungälvs kommun</td>\n",
       "      <td>2120001371</td>\n",
       "      <td>Kommunal</td>\n",
       "      <td>Genomsnittlig betygspoäng</td>\n",
       "      <td>14.5</td>\n",
       "      <td>14.4</td>\n",
       "      <td>14.4</td>\n",
       "      <td>13.9</td>\n",
       "      <td>14.1</td>\n",
       "      <td>13.7</td>\n",
       "      <td>14.2</td>\n",
       "      <td>13.7</td>\n",
       "      <td>13.5</td>\n",
       "      <td>14.3</td>\n",
       "    </tr>\n",
       "    <tr>\n",
       "      <th>4</th>\n",
       "      <td>Kungälvs kommun</td>\n",
       "      <td>2120001371</td>\n",
       "      <td>Kommunal</td>\n",
       "      <td>Andel (%) elever behöriga till högskola</td>\n",
       "      <td>89.0</td>\n",
       "      <td>91.3</td>\n",
       "      <td>89.2</td>\n",
       "      <td>84.0</td>\n",
       "      <td>87.1</td>\n",
       "      <td>84.8</td>\n",
       "      <td>86.1</td>\n",
       "      <td>82.3</td>\n",
       "      <td>84.8</td>\n",
       "      <td>87.4</td>\n",
       "    </tr>\n",
       "  </tbody>\n",
       "</table>\n",
       "</div>"
      ],
      "text/plain": [
       "          Huvudman  Huvudman orgnr Typ av huvudman  \\\n",
       "0  Kungälvs kommun      2120001371        Kommunal   \n",
       "1  Kungälvs kommun      2120001371        Kommunal   \n",
       "2  Kungälvs kommun      2120001371        Kommunal   \n",
       "3  Kungälvs kommun      2120001371        Kommunal   \n",
       "4  Kungälvs kommun      2120001371        Kommunal   \n",
       "\n",
       "                                   Uppgift  2022/23  2021/22  2020/21  \\\n",
       "0          Antal elever med gymnasieexamen    266.0    219.0    223.0   \n",
       "1                - varav andel (%) kvinnor     50.4     51.1     55.2   \n",
       "2      - varav andel (%) med utl. bakgrund     13.5     13.2      9.9   \n",
       "3                Genomsnittlig betygspoäng     14.5     14.4     14.4   \n",
       "4  Andel (%) elever behöriga till högskola     89.0     91.3     89.2   \n",
       "\n",
       "   2019/20  2018/19  2017/18  2016/17  2015/16  2014/15  2013/14  \n",
       "0    216.0    183.0    195.0    198.0    186.0    212.0    228.0  \n",
       "1     43.5     47.0     53.3     57.1     51.1     53.8     53.9  \n",
       "2     11.6     12.6     11.3     13.1      7.0     11.3     12.7  \n",
       "3     13.9     14.1     13.7     14.2     13.7     13.5     14.3  \n",
       "4     84.0     87.1     84.8     86.1     82.3     84.8     87.4  "
      ]
     },
     "execution_count": 19,
     "metadata": {},
     "output_type": "execute_result"
    }
   ],
   "source": [
    "df_dict['Högskoleförberedande program']"
   ]
  },
  {
   "cell_type": "code",
   "execution_count": 20,
   "metadata": {},
   "outputs": [
    {
     "data": {
      "text/html": [
       "<div>\n",
       "<style scoped>\n",
       "    .dataframe tbody tr th:only-of-type {\n",
       "        vertical-align: middle;\n",
       "    }\n",
       "\n",
       "    .dataframe tbody tr th {\n",
       "        vertical-align: top;\n",
       "    }\n",
       "\n",
       "    .dataframe thead th {\n",
       "        text-align: right;\n",
       "    }\n",
       "</style>\n",
       "<table border=\"1\" class=\"dataframe\">\n",
       "  <thead>\n",
       "    <tr style=\"text-align: right;\">\n",
       "      <th></th>\n",
       "      <th>Huvudman</th>\n",
       "      <th>Huvudman orgnr</th>\n",
       "      <th>Typ av huvudman</th>\n",
       "      <th>Uppgift</th>\n",
       "      <th>2022/23</th>\n",
       "      <th>2021/22</th>\n",
       "      <th>2020/21</th>\n",
       "      <th>2019/20</th>\n",
       "      <th>2018/19</th>\n",
       "      <th>2017/18</th>\n",
       "      <th>2016/17</th>\n",
       "      <th>2015/16</th>\n",
       "      <th>2014/15</th>\n",
       "      <th>2013/14</th>\n",
       "    </tr>\n",
       "  </thead>\n",
       "  <tbody>\n",
       "    <tr>\n",
       "      <th>0</th>\n",
       "      <td>Kungälvs kommun</td>\n",
       "      <td>2120001371</td>\n",
       "      <td>Kommunal</td>\n",
       "      <td>Antal elever med gymnasieexamen</td>\n",
       "      <td>128.0</td>\n",
       "      <td>111.0</td>\n",
       "      <td>109.0</td>\n",
       "      <td>107.0</td>\n",
       "      <td>134.0</td>\n",
       "      <td>117.0</td>\n",
       "      <td>124.0</td>\n",
       "      <td>128.0</td>\n",
       "      <td>151.0</td>\n",
       "      <td>122.0</td>\n",
       "    </tr>\n",
       "    <tr>\n",
       "      <th>1</th>\n",
       "      <td>Kungälvs kommun</td>\n",
       "      <td>2120001371</td>\n",
       "      <td>Kommunal</td>\n",
       "      <td>- varav andel (%) kvinnor</td>\n",
       "      <td>34.4</td>\n",
       "      <td>25.2</td>\n",
       "      <td>34.9</td>\n",
       "      <td>34.6</td>\n",
       "      <td>28.4</td>\n",
       "      <td>35.0</td>\n",
       "      <td>41.9</td>\n",
       "      <td>35.9</td>\n",
       "      <td>39.1</td>\n",
       "      <td>32.0</td>\n",
       "    </tr>\n",
       "    <tr>\n",
       "      <th>2</th>\n",
       "      <td>Kungälvs kommun</td>\n",
       "      <td>2120001371</td>\n",
       "      <td>Kommunal</td>\n",
       "      <td>- varav andel (%) med utl. bakgrund</td>\n",
       "      <td>9.4</td>\n",
       "      <td>9.0</td>\n",
       "      <td>14.7</td>\n",
       "      <td>9.3</td>\n",
       "      <td>11.2</td>\n",
       "      <td>8.5</td>\n",
       "      <td>11.3</td>\n",
       "      <td>10.2</td>\n",
       "      <td>10.6</td>\n",
       "      <td>NaN</td>\n",
       "    </tr>\n",
       "    <tr>\n",
       "      <th>3</th>\n",
       "      <td>Kungälvs kommun</td>\n",
       "      <td>2120001371</td>\n",
       "      <td>Kommunal</td>\n",
       "      <td>Genomsnittlig betygspoäng</td>\n",
       "      <td>12.7</td>\n",
       "      <td>12.9</td>\n",
       "      <td>12.9</td>\n",
       "      <td>12.9</td>\n",
       "      <td>12.7</td>\n",
       "      <td>12.9</td>\n",
       "      <td>12.6</td>\n",
       "      <td>12.7</td>\n",
       "      <td>12.0</td>\n",
       "      <td>11.8</td>\n",
       "    </tr>\n",
       "    <tr>\n",
       "      <th>4</th>\n",
       "      <td>Kungälvs kommun</td>\n",
       "      <td>2120001371</td>\n",
       "      <td>Kommunal</td>\n",
       "      <td>Andel (%) elever behöriga till högskola</td>\n",
       "      <td>23.2</td>\n",
       "      <td>14.2</td>\n",
       "      <td>28.0</td>\n",
       "      <td>26.0</td>\n",
       "      <td>22.7</td>\n",
       "      <td>26.3</td>\n",
       "      <td>39.9</td>\n",
       "      <td>35.1</td>\n",
       "      <td>31.8</td>\n",
       "      <td>31.0</td>\n",
       "    </tr>\n",
       "  </tbody>\n",
       "</table>\n",
       "</div>"
      ],
      "text/plain": [
       "          Huvudman  Huvudman orgnr Typ av huvudman  \\\n",
       "0  Kungälvs kommun      2120001371        Kommunal   \n",
       "1  Kungälvs kommun      2120001371        Kommunal   \n",
       "2  Kungälvs kommun      2120001371        Kommunal   \n",
       "3  Kungälvs kommun      2120001371        Kommunal   \n",
       "4  Kungälvs kommun      2120001371        Kommunal   \n",
       "\n",
       "                                   Uppgift  2022/23  2021/22  2020/21  \\\n",
       "0          Antal elever med gymnasieexamen    128.0    111.0    109.0   \n",
       "1                - varav andel (%) kvinnor     34.4     25.2     34.9   \n",
       "2      - varav andel (%) med utl. bakgrund      9.4      9.0     14.7   \n",
       "3                Genomsnittlig betygspoäng     12.7     12.9     12.9   \n",
       "4  Andel (%) elever behöriga till högskola     23.2     14.2     28.0   \n",
       "\n",
       "   2019/20  2018/19  2017/18  2016/17  2015/16  2014/15  2013/14  \n",
       "0    107.0    134.0    117.0    124.0    128.0    151.0    122.0  \n",
       "1     34.6     28.4     35.0     41.9     35.9     39.1     32.0  \n",
       "2      9.3     11.2      8.5     11.3     10.2     10.6      NaN  \n",
       "3     12.9     12.7     12.9     12.6     12.7     12.0     11.8  \n",
       "4     26.0     22.7     26.3     39.9     35.1     31.8     31.0  "
      ]
     },
     "execution_count": 20,
     "metadata": {},
     "output_type": "execute_result"
    }
   ],
   "source": [
    "df_dict['Yrkesprogram']"
   ]
  },
  {
   "cell_type": "markdown",
   "metadata": {},
   "source": [
    "## Results \n",
    "\n",
    "- The trend shows a consistent diffrence in avarage grade points between 'Högskoleförberedande program' and 'Yrkesprogram'. With 'Högskoleförberedande program' as higher avarage grade.\n",
    "- This gap can be a result of for example student engagement, teacher resourses and so on.\n",
    "\n",
    "\n"
   ]
  },
  {
   "cell_type": "code",
   "execution_count": 21,
   "metadata": {},
   "outputs": [
    {
     "data": {
      "image/png": "[encoded data removed]",
      "text/plain": [
       "<Figure size 1200x600 with 1 Axes>"
      ]
     },
     "metadata": {},
     "output_type": "display_data"
    }
   ],
   "source": [
    "programs_to_compare = ['Högskoleförberedande program', 'Yrkesprogram']\n",
    "colors_compare = ['grey', 'firebrick']\n",
    "\n",
    "plt.figure(figsize=(12, 6))\n",
    "\n",
    "#  Loop through the selected programs\n",
    "for i, program in enumerate(programs_to_compare):\n",
    "    # Select the program's DataFrame from the dictionary\n",
    "    df_program = df_dict[program]\n",
    "    # Find the row with average grade points\n",
    "    betygspoäng = df_program[df_program['Uppgift'].str.contains('Genomsnittlig betygspoäng')] \n",
    "    # Extract the years and their corresponding values\n",
    "    years = betygspoäng.columns[4:].tolist() \n",
    "    values = betygspoäng.iloc[0, 4:].values\n",
    "    #plot the lines with choosen colors and linewidth\n",
    "    plt.plot(years, values, marker='o', label=program, color=colors_compare[i], linewidth = 4)  \n",
    "\n",
    "plt.title('I Kungälvs kommun är skillnaden i genomsnittligt betygspoäng mellan högskoleförberedande programmen och yrkesprogrammen stor. Hur kan vi göra för att förstärka yrkesprogrammen?\\n\\n', wrap=True)\n",
    "plt.xlabel('')\n",
    "plt.ylabel('Genomsnittlig betygspoäng', color='grey')\n",
    "plt.legend(frameon=False, fontsize=7, loc='upper left', bbox_to_anchor=(1, 1)) # Placing the legend outside the plot area\n",
    "plt.xticks(years[::2], rotation=45) # Only display every other year on the x-axis\n",
    "\n",
    "\n",
    "ax = plt.gca()  # Accessing the current axes to modify spines\n",
    "ax.spines['top'].set_visible(False)\n",
    "ax.spines['right'].set_visible(False)\n",
    "\n",
    "plt.tight_layout()\n",
    "\n",
    "# Adding a footnote explaining how the average grade points are calculated\n",
    "grade_explanation = \"* Genomsnittlig betygspoäng beräknas som summan av samtliga kursers poäng multiplicerat med vikt för betyg\\n(där F = 0, E = 10, D = 12.5, C = 15, B = 17.5, och A = 20) dividerat med summan av poäng för eleven totalt.\"\n",
    "plt.figtext(0.5, -0.1, grade_explanation, wrap=True, horizontalalignment='center', fontsize=8, color='grey')\n",
    "\n",
    "plt.show()"
   ]
  },
  {
   "cell_type": "markdown",
   "metadata": {},
   "source": [
    "## Conclusion\n",
    "\n",
    "- There is a clear academic performance gap between the 'Högskoleförberedande' and 'Yrkesprogram' in Kungälv kommun, as evidenced by the average grade points. This disparity highlights the need for targeted interventions to enhance the educational outcomes of the 'Yrkesprogram'.\n",
    "--------------------"
   ]
  },
  {
   "cell_type": "markdown",
   "metadata": {},
   "source": [
    "## KPI 3\n",
    "\n",
    "- This KPI is designed to evaluate the eligibility of students from six specific programs to pursue higher education at the university level. \n",
    "- It quantifies the percentage of students from each program who meet the qualifications necessary to continue their studies at a 'högskola' (university or college)."
   ]
  },
  {
   "cell_type": "code",
   "execution_count": 27,
   "metadata": {},
   "outputs": [
    {
     "data": {
      "text/plain": [
       "{'Nationella program': 64.96999999999998,\n",
       " 'Högskoleförberedande program': 86.6,\n",
       " 'Yrkesprogram': 27.820000000000004,\n",
       " 'Bygg- och anläggningsprogramme': 54.25,\n",
       " 'Ekonomiprogrammet': 87.59,\n",
       " 'El- och energiprogrammet': 43.2}"
      ]
     },
     "execution_count": 27,
     "metadata": {},
     "output_type": "execute_result"
    }
   ],
   "source": [
    "# Function to calculate the avarage eligibility to pursue a higher education level.\n",
    "def calculate_average_eligibility(df_dict):\n",
    "    average_eligibility = {}\n",
    "    for sheet, df in df_dict.items():\n",
    "        if 'Andel (%) elever behöriga till högskola' in df['Uppgift'].values:\n",
    "            eligibility_data = df[df['Uppgift'] == 'Andel (%) elever behöriga till högskola']\n",
    "            year_columns = [col for col in df.columns if col.startswith('20')]  \n",
    "            avarage = eligibility_data[year_columns].mean(axis=1).values[0]  # calculate avarage for columns\n",
    "            average_eligibility[sheet] = avarage\n",
    "    return average_eligibility\n",
    "\n",
    "average_eligibility = calculate_average_eligibility(df_dict)\n",
    "average_eligibility"
   ]
  },
  {
   "cell_type": "code",
   "execution_count": null,
   "metadata": {},
   "outputs": [],
   "source": []
  }
 ],
 "metadata": {
  "kernelspec": {
   "display_name": "venv",
   "language": "python",
   "name": "python3"
  },
  "language_info": {
   "codemirror_mode": {
    "name": "ipython",
    "version": 3
   },
   "file_extension": ".py",
   "mimetype": "text/x-python",
   "name": "python",
   "nbconvert_exporter": "python",
   "pygments_lexer": "ipython3",
   "version": "3.11.7"
  }
 },
 "nbformat": 4,
 "nbformat_minor": 2
}
