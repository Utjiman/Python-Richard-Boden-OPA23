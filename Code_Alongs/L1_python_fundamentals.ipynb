{
 "cells": [
  {
   "cell_type": "markdown",
   "metadata": {},
   "source": [
    "# Code alongs - Python summary part 1\n"
   ]
  },
  {
   "cell_type": "code",
   "execution_count": 58,
   "metadata": {},
   "outputs": [
    {
     "data": {
      "text/plain": [
       "(' Richard ', 38.5, 3, False)"
      ]
     },
     "execution_count": 58,
     "metadata": {},
     "output_type": "execute_result"
    }
   ],
   "source": [
    "name = \" Richard \"\n",
    "age = 38.5\n",
    "Number_of_children = 3\n",
    "Loves_math = False\n",
    "\n",
    "name, age, Number_of_children, Loves_math"
   ]
  },
  {
   "cell_type": "code",
   "execution_count": 59,
   "metadata": {},
   "outputs": [
    {
     "name": "stdout",
     "output_type": "stream",
     "text": [
      "name =' Richard ' \n",
      "My name is Richard , i am 38.5 years old\n",
      "type(age) = <class 'float'>\n"
     ]
    }
   ],
   "source": [
    "# F-strings\n",
    "print(f\"{name =} \")\n",
    "print(f\"My name is{name}, i am {age} years old\")\n",
    "print(f\"{type(age) = }\")"
   ]
  },
  {
   "cell_type": "code",
   "execution_count": 60,
   "metadata": {},
   "outputs": [
    {
     "data": {
      "text/plain": [
       "['Richard', 38, 3, False]"
      ]
     },
     "execution_count": 60,
     "metadata": {},
     "output_type": "execute_result"
    }
   ],
   "source": [
    "# Collection types\n",
    "\n",
    "interests = [\"Fotboll\", \"Spel\", \"Familjen\", \"golf\"]\n",
    "person = [\"Richard\", 38, 3, False]\n",
    "\n",
    "person"
   ]
  },
  {
   "cell_type": "code",
   "execution_count": 61,
   "metadata": {},
   "outputs": [
    {
     "name": "stdout",
     "output_type": "stream",
     "text": [
      "<class 'str'>\n",
      "<class 'int'>\n",
      "<class 'int'>\n",
      "<class 'bool'>\n"
     ]
    }
   ],
   "source": [
    "for type_ in person:\n",
    "    print(type(type_))\n"
   ]
  },
  {
   "cell_type": "code",
   "execution_count": 62,
   "metadata": {},
   "outputs": [
    {
     "name": "stdout",
     "output_type": "stream",
     "text": [
      "person[1] = 38\n",
      "person[0] = 'Richard'\n",
      "person[-1] = False\n"
     ]
    }
   ],
   "source": [
    "#Indexering med [] operator\n",
    "print(f\"{person[1] = }\")\n",
    "print(f\"{person[0] = }\")\n",
    "print(f\"{person[-1] = }\")"
   ]
  },
  {
   "cell_type": "code",
   "execution_count": 63,
   "metadata": {},
   "outputs": [
    {
     "data": {
      "text/plain": [
       "['Fotboll', 'Spel', 'Familjen', 'golf']"
      ]
     },
     "execution_count": 63,
     "metadata": {},
     "output_type": "execute_result"
    }
   ],
   "source": [
    "interests"
   ]
  }
 ],
 "metadata": {
  "kernelspec": {
   "display_name": "venv",
   "language": "python",
   "name": "python3"
  },
  "language_info": {
   "codemirror_mode": {
    "name": "ipython",
    "version": 3
   },
   "file_extension": ".py",
   "mimetype": "text/x-python",
   "name": "python",
   "nbconvert_exporter": "python",
   "pygments_lexer": "ipython3",
   "version": "3.11.7"
  }
 },
 "nbformat": 4,
 "nbformat_minor": 2
}
