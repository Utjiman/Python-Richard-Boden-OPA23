{
 "cells": [
  {
   "cell_type": "markdown",
   "metadata": {},
   "source": [
    "## OOP lektion 5\n"
   ]
  },
  {
   "cell_type": "code",
   "execution_count": 1,
   "metadata": {},
   "outputs": [
    {
     "data": {
      "text/plain": [
       "OldCoinStash(owner='Ragnar')"
      ]
     },
     "execution_count": 1,
     "metadata": {},
     "output_type": "execute_result"
    }
   ],
   "source": [
    "from helper_modules.oldcoins import OldCoinsStash\n",
    "\n",
    "OldCoinsStash(\"Ragnar\")\n"
   ]
  },
  {
   "cell_type": "code",
   "execution_count": 13,
   "metadata": {},
   "outputs": [
    {
     "name": "stdout",
     "output_type": "stream",
     "text": [
      "person Richard says hi!\n"
     ]
    }
   ],
   "source": [
    "from numbers import Number\n",
    "\n",
    "class person:\n",
    "    \"\"\"Base class with generic method shared by all subclasses\"\"\"\n",
    "    def __init__(self, name: str, age: int) -> None:\n",
    "        self._age = age  # Use the internal attribute directly\n",
    "        self.name = name\n",
    "    \n",
    "    @property\n",
    "    def age(self) -> int:\n",
    "        return self._age\n",
    "\n",
    "    @age.setter\n",
    "    def age(self, value: int) -> None:\n",
    "        if not isinstance(value, Number):\n",
    "            raise TypeError(f\"Age must be a number not {type(value).__name__}\")\n",
    "        # Validate age code here\n",
    "\n",
    "        self._age = value\n",
    "\n",
    "    def say_hi(self) -> None:\n",
    "        print(f\"person {self.name} says hi!\")\n",
    "\n",
    "p1 = person(\"Richard\", 38)\n",
    "p1.say_hi() \n",
    "\n",
    "try:\n",
    "    p2 = person (\"börje\", \"treiie\")\n",
    "except TypeError as err:\n",
    "    print(err)\n",
    "    "
   ]
  },
  {
   "cell_type": "code",
   "execution_count": null,
   "metadata": {},
   "outputs": [],
   "source": [
    "class student(person):\n",
    "\n",
    "    def __init__(self, name: str, age: int, language: str) ->  None:\n",
    "        super().__init__(name, age) # uses parent class dunder init\n",
    "        \n",
    "        self.language = language\n",
    "\n",
    "    # overrides say_hi()\n",
    "    def say_hi(self) -> None:\n",
    "        print(f\"Student {self.name} talks {self.language}\")\n",
    "\n",
    "s1 = student(\"hasse\", 20, \"python\")\n",
    "s1.say_hi()\n",
    "try:\n",
    "\n",
    "    s2 = student(\"lasse\", \"24124\", \"c-sharp\" )\n",
    "except TypeError as err:\n",
    "    print(err)"
   ]
  },
  {
   "cell_type": "code",
   "execution_count": 16,
   "metadata": {},
   "outputs": [
    {
     "name": "stdout",
     "output_type": "stream",
     "text": [
      "person ivaar says hi!\n"
     ]
    }
   ],
   "source": [
    "class viking(person):\n",
    "\n",
    "    def __init__(self, name: str, age: int) -> None:\n",
    "        super().__init__(name, age)\n",
    "\n",
    "        #composition -\"has a \" relation while inheritance i\"is a\" relation\n",
    "        self.stash = OldCoinsStash(name)\n",
    "\n",
    "v1 = viking(\"ivaar\", 35)\n",
    "v1.say_hi()\n"
   ]
  },
  {
   "cell_type": "code",
   "execution_count": 17,
   "metadata": {},
   "outputs": [
    {
     "name": "stdout",
     "output_type": "stream",
     "text": [
      "person Richard says hi!\n",
      "Student hasse talks python\n",
      "person ivaar says hi!\n"
     ]
    }
   ],
   "source": [
    "people = (p1, s1, v1)\n",
    "\n",
    "for person in people:\n",
    "    #does different things for different types \n",
    "    person.say_hi()"
   ]
  },
  {
   "cell_type": "markdown",
   "metadata": {},
   "source": [
    "<div style=\"max-width:66ch;\">\n",
    " \n",
    "---\n",
    "## Operator overloading\n",
    " \n",
    "Ability to define and use custom behavior of operators for your objects. This is achieved by implementing dunder or special methods that correspond to that operator.\n",
    " \n",
    "- it gives additional functionality to an operator\n",
    "- e.g. + is overloaded for strings, int, float etc.\n",
    "- Read more: [operator overloading](https://www.geeksforgeeks.org/operator-overloading-in-python/)\n",
    " \n",
    "<table style=\"display:inline-block; text-align:left;\">\n",
    "  <tr style=\"background-color: #174A7E; color: white;\">\n",
    "    <th>Operator</th>\n",
    "    <th>Dunder Method</th>\n",
    "  </tr>\n",
    "  <tr>\n",
    "    <td style=\"text-align: center;\">+</td>\n",
    "    <td style=\"text-align: center;\">__add__(self, other)</td>\n",
    "  </tr>\n",
    "  <tr>\n",
    "    <td style=\"text-align: center;\">-</td>\n",
    "    <td style=\"text-align: center;\">__sub__(self, other)</td>\n",
    "  </tr>\n",
    "  <tr>\n",
    "    <td style=\"text-align: center;\">*</td>\n",
    "    <td style=\"text-align: center;\">__mul__(self, other)</td>\n",
    "  </tr>\n",
    "  <tr>\n",
    "    <td style=\"text-align: center;\">/</td>\n",
    "    <td style=\"text-align: center;\">__div__(self, other)</td>\n",
    "  </tr>\n",
    "  <tr>\n",
    "    <td style=\"text-align: center;\">//</td>\n",
    "    <td style=\"text-align: center;\">__floordiv__(self, other)</td>\n",
    "  </tr>\n",
    "  <tr>\n",
    "    <td style=\"text-align: center;\">%</td>\n",
    "    <td style=\"text-align: center;\">__mod__(self, other)</td>\n",
    "  </tr>\n",
    "  <tr>\n",
    "    <td style=\"text-align: center;\">**</td>\n",
    "    <td style=\"text-align: center;\">__pow__(self, other)</td>\n",
    "  </tr>\n",
    "  <tr>\n",
    "    <td style=\"text-align: center;\"><</td>\n",
    "    <td style=\"text-align: center;\">__lt__(self, other)</td>\n",
    "  </tr>\n",
    "  <tr>\n",
    "    <td style=\"text-align: center;\"><=</td>\n",
    "    <td style=\"text-align: center;\">__le__(self, other)</td>\n",
    "  </tr>\n",
    "  <tr>\n",
    "    <td style=\"text-align: center;\">></td>\n",
    "    <td style=\"text-align: center;\">__gt__(self, other)</td>\n",
    "  </tr>\n",
    "  <tr>\n",
    "    <td style=\"text-align: center;\">>=</td>\n",
    "    <td style=\"text-align: center;\">__ge__(self, other)</td>\n",
    "  </tr>\n",
    "  <tr>\n",
    "    <td style=\"text-align: center;\">==</td>\n",
    "    <td style=\"text-align: center;\">__eq__(self, other)</td>\n",
    "  </tr>\n",
    "</table>\n",
    " \n",
    " \n",
    "- Note that there are more operators that can be overloaded than those specified in this list\n",
    " \n",
    "</div>"
   ]
  },
  {
   "cell_type": "code",
   "execution_count": null,
   "metadata": {},
   "outputs": [],
   "source": [
    "from numbers import Number\n",
    "\n",
    "class Vector:\n",
    "    \"\"\"A class that represents a Euclidean vector with magnitude and direction.\"\"\"\n",
    "    \n",
    "    def __init__(self, *numbers: float) -> None:\n",
    "        for number in numbers:\n",
    "            if not isinstance(number, Number):\n",
    "                raise TypeError(f\"{number} is not a valid number in vector\")\n",
    "        \n",
    "        if len(numbers) == 0:\n",
    "            raise ValueError(\"vector can't be empty\")\n",
    "        \n",
    "        self._numbers = numbers\n",
    "        \n",
    "    @property\n",
    "    def numbers(self) -> tuple:\n",
    "        return self._numbers\n",
    "    \n",
    "    #def __add__(self, other: vector) -> vector:\n",
    "    def validate_vectors(self, other: Vector) -> bool:\n",
    "\n",
    "        if not isinstance(other , Vector) or len(other) != len(self):\n",
    "            raise TypeError(\"both must be vector and have same number of elements\")\n",
    "        return len(self) == len(other)\n",
    "\n",
    "\n",
    "\n",
    "\n",
    "v1 = Vector(1, 2, 3)\n",
    "print(v1.numbers) \n",
    "\n",
    "v2 = Vector(-4,2,1)\n",
    "print(f\"{v2.numbers}\")\n",
    "\n",
    "#har inte implementerat __add__ - så plus operatorn funkar inte\n",
    "#v1+v2\n",
    "\n",
    "len(v2)\n",
    "\n",
    "\n"
   ]
  }
 ],
 "metadata": {
  "kernelspec": {
   "display_name": "venv",
   "language": "python",
   "name": "python3"
  },
  "language_info": {
   "codemirror_mode": {
    "name": "ipython",
    "version": 3
   },
   "file_extension": ".py",
   "mimetype": "text/x-python",
   "name": "python",
   "nbconvert_exporter": "python",
   "pygments_lexer": "ipython3",
   "version": "3.11.7"
  }
 },
 "nbformat": 4,
 "nbformat_minor": 2
}
