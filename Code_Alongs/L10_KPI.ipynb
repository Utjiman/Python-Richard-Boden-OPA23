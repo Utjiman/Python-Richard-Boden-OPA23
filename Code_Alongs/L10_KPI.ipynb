{
 "cells": [
  {
   "cell_type": "markdown",
   "metadata": {},
   "source": [
    "### KPI!"
   ]
  },
  {
   "cell_type": "markdown",
   "metadata": {},
   "source": [
    "- investors - roi\n",
    "- marketing - social media metrics\n",
    "- founder - churn rate, user engagement\n",
    "- regulatory - % of employees completing data security training\n",
    "\n",
    "Preem\n",
    "- "
   ]
  }
 ],
 "metadata": {
  "kernelspec": {
   "display_name": "venv",
   "language": "python",
   "name": "python3"
  },
  "language_info": {
   "name": "python",
   "version": "3.11.7"
  }
 },
 "nbformat": 4,
 "nbformat_minor": 2
}
